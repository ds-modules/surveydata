{
 "cells": [
  {
   "cell_type": "code",
   "execution_count": 1,
   "metadata": {},
   "outputs": [],
   "source": [
    "NAME = \"Jiaqi Guo\"\n",
    "COLLABORATORS = \"\"\n",
    "\n",
    "from IPython.core.interactiveshell import InteractiveShell\n",
    "InteractiveShell.ast_node_interactivity = \"all\""
   ]
  },
  {
   "cell_type": "code",
   "execution_count": 2,
   "metadata": {},
   "outputs": [],
   "source": [
    "from datascience import *\n",
    "\n",
    "import pandas as pd\n",
    "import numpy as np\n",
    "import seaborn as sns\n",
    "%matplotlib inline\n",
    "\n",
    "import matplotlib\n",
    "matplotlib.use('Agg')\n",
    "from datascience import Table\n",
    "%matplotlib inline\n",
    "import matplotlib.pyplot as plt\n",
    "import numpy as np\n",
    "import DataCleaning as dc\n",
    "plt.style.use('fivethirtyeight')"
   ]
  },
  {
   "cell_type": "markdown",
   "metadata": {},
   "source": [
    "### Data Exploration -- using data science "
   ]
  },
  {
   "cell_type": "code",
   "execution_count": 3,
   "metadata": {},
   "outputs": [],
   "source": [
    "data_ori = Table.read_table(\"surveydata.csv\")"
   ]
  },
  {
   "cell_type": "code",
   "execution_count": 4,
   "metadata": {},
   "outputs": [
    {
     "data": {
      "text/html": [
       "<table border=\"1\" class=\"dataframe\">\n",
       "    <thead>\n",
       "        <tr>\n",
       "            <th>StartDate</th> <th>EndDate</th> <th>Status</th> <th>IPAddress</th> <th>Progress</th> <th>Duration (in seconds)</th> <th>Finished</th> <th>RecordedDate</th> <th>ResponseId</th> <th>RecipientLastName</th> <th>RecipientFirstName</th> <th>RecipientEmail</th> <th>ExternalReference</th> <th>LocationLatitude</th> <th>LocationLongitude</th> <th>DistributionChannel</th> <th>UserLanguage</th> <th>Q1</th> <th>Q3</th> <th>Q4</th> <th>Q5</th> <th>Q6</th> <th>Q7</th> <th>Q8</th> <th>Q8_9_TEXT</th> <th>Q9</th> <th>Q10</th> <th>Q11</th> <th>Q11_4_TEXT</th> <th>Q12</th> <th>Q12_7_TEXT</th> <th>Q13</th> <th>Q14_1</th> <th>Q15</th> <th>Q56</th> <th>Q56_8_TEXT</th> <th>Q16</th> <th>Q17</th> <th>Q18</th> <th>Q19</th> <th>Q20</th> <th>Q20_7_TEXT</th> <th>Q21</th> <th>Q23</th> <th>Q23_5_TEXT</th> <th>Q24</th> <th>Q25</th> <th>Q25_7_TEXT</th> <th>Q26_1</th> <th>Q26_2</th> <th>Q27</th> <th>Q27_9_TEXT</th> <th>Q28</th> <th>Q29_1</th> <th>Q30</th> <th>Q31</th> <th>Q32</th> <th>Q32_1_TEXT</th> <th>Q32_2_TEXT</th> <th>Q32_3_TEXT</th> <th>Q33</th> <th>Q33_1_TEXT</th> <th>Q55</th> <th>Q34_1</th> <th>Q34_2</th> <th>Q34_3</th> <th>Q34_7</th> <th>Q34_6</th> <th>Q34_6_TEXT</th> <th>Q35</th> <th>Q36</th> <th>Q37</th> <th>Q39_1</th> <th>Q39_2</th> <th>Q39_3</th> <th>Q39_4</th> <th>Q39_5</th> <th>Q40_1</th> <th>Q40_2</th> <th>Q40_3</th> <th>Q41_23</th> <th>Q42_1</th> <th>Q42_2</th> <th>Q42_3</th> <th>Q43_1</th> <th>Q43_2</th> <th>Q43_3</th> <th>Q43_4</th> <th>Q43_5</th> <th>Q43_6</th> <th>Q43_7</th> <th>Q43_8</th> <th>Q43_9</th> <th>Q43_10</th> <th>Q43_11</th> <th>Q43_11_TEXT</th> <th>Q44_0_GROUP</th> <th>Q44_0_1_RANK</th> <th>Q44_0_15_RANK</th> <th>Q44_0_4_RANK</th> <th>Q44_0_5_RANK</th> <th>Q44_0_6_RANK</th> <th>Q44_0_9_RANK</th> <th>Q44_0_10_RANK</th> <th>Q44_0_11_RANK</th> <th>Q44_0_12_RANK</th> <th>Q44_0_13_RANK</th> <th>Q44_0_14_RANK</th> <th>Q44_0_16_RANK</th> <th>Q44_0_8_RANK</th> <th>Q44_8_TEXT</th> <th>Q45</th> <th>Q45_1_TEXT</th> <th>Q45_2_TEXT</th> <th>Q45_3_TEXT</th> <th>Q46</th> <th>Q46_1_TEXT</th> <th>Q46_2_TEXT</th> <th>Q46_3_TEXT</th> <th>Q47_1</th> <th>Q47_2</th> <th>Q48_1</th> <th>Q48_2</th> <th>Q48_3</th> <th>Q48_4</th> <th>Q49</th> <th>Q50</th> <th>Q50_1_TEXT</th> <th>Q50_2_TEXT</th> <th>Q51</th> <th>Q52</th> <th>Q52_1_TEXT</th>\n",
       "        </tr>\n",
       "    </thead>\n",
       "    <tbody>\n",
       "        <tr>\n",
       "            <td>Start Date                                          </td> <td>End Date                                          </td> <td>Response Type        </td> <td>IP Address              </td> <td>Progress               </td> <td>Duration (in seconds)  </td> <td>Finished               </td> <td>Recorded Date                                          </td> <td>Response ID             </td> <td>Recipient Last Name             </td> <td>Recipient First Name             </td> <td>Recipient Email              </td> <td>External Data Reference             </td> <td>Location Latitude              </td> <td>Location Longitude              </td> <td>Distribution Channel              </td> <td>User Language              </td> <td>Welcome! The purpose of this research project is to expl ...</td> <td>Which college(s) are you enrolled in?                       </td> <td>Are you a transfer student?</td> <td>Please select the group(s) that best apply to your major(s).</td> <td>Are you a California resident?</td> <td>Which gender do you best identify with?</td> <td>Check the box(es) of the race/ethnicity that you best id ...</td> <td>Check the box(es) of the race/ethnicity that you best id ...</td> <td>What is your age?   </td> <td>Did you attend any rallies for any presidential candidat ...</td> <td>How did you register to vote in 2016? - Selected Choice</td> <td>How did you register to vote in 2016? - Other - Text</td> <td>Why did you not register for the 2016 presidential elect ...</td> <td>Why did you not register for the 2016 presidential elect ...</td> <td>Where did you register to vote in the 2016 presidential  ...</td> <td>How would you describe the registration process for the  ...</td> <td>Did you vote in the 2016 presidential elections?</td> <td>Why did you not vote in the 2016 presidential elections? ...</td> <td>Why did you not vote in the 2016 presidential elections? ...</td> <td>Which of the following describes how you voted in the 20 ...</td> <td>Which presidential candidate did you vote for?</td> <td>If you had class during the presidential elections on Tu ...</td> <td>If you held a job on Tuesday November 8th, 2016, did you ...</td> <td>How did the results of the 2016 presidential election ma ...</td> <td>How did the results of the 2016 presidential election ma ...</td> <td>Have those emotions influenced you to vote in the 2018 m ...</td> <td>What do you think is the most effective way to make a di ...</td> <td>What do you think is the most effective way to make a di ...</td> <td>How often do you volunteer?</td> <td>What do you think is the most effective way to make a di ...</td> <td>What do you think is the most effective way to make a di ...</td> <td>Please choose the answer that best applies to you. - How ...</td> <td>Please choose the answer that best applies to you. - How ...</td> <td>If you registered or re-registered to vote for the 2018  ...</td> <td>If you registered or re-registered to vote for the 2018  ...</td> <td>Where did you register to vote in for the 2018 Midterm E ...</td> <td>If you registered for the first time in 2018 or re-regis ...</td> <td>Did you vote in the 2018 midterm elections?</td> <td>Did you check to see if your vote was officially counted?</td> <td>Which method of voting did you use and why? - Selected C ...</td> <td>Which method of voting did you use and why? - Polling st ...</td> <td>Which method of voting did you use and why? - Absentee / ...</td> <td>Which method of voting did you use and why? - Provisiona ...</td> <td>Was there a recent significant event that encouraged you ...</td> <td>Was there a recent significant event that encouraged you ...</td> <td>Which candidates did you vote for in the 2018 midterm el ...</td> <td>What would influence you to vote more? Rank the followin ...</td> <td>What would influence you to vote more? Rank the followin ...</td> <td>What would influence you to vote more? Rank the followin ...</td> <td>What would influence you to vote more? Rank the followin ...</td> <td>What would influence you to vote more? Rank the followin ...</td> <td>What would influence you to vote more? Rank the followin ...</td> <td>Did your major's department reach out to you about votin ...</td> <td>If you had class during the midterm elections on Novembe ...</td> <td>If you had work during the midterm elections on November ...</td> <td>Please select the answer that best fits your response to ...</td> <td>Please select the answer that best fits your response to ...</td> <td>Please select the answer that best fits your response to ...</td> <td>Please select the answer that best fits your response to ...</td> <td>Please select the answer that best fits your response to ...</td> <td>Please select the answer that best fits your response to ...</td> <td>Please select the answer that best fits your response to ...</td> <td>Please select the answer that best fits your response to ...</td> <td>Drag the cursor to the place on the political scale that ...</td> <td>Please select the option that best applies to you. - How ...</td> <td>Please select the option that best applies to you. - How ...</td> <td>Please select the option that best applies to you. - How ...</td> <td>The following is a list of political issues within the U ...</td> <td>The following is a list of political issues within the U ...</td> <td>The following is a list of political issues within the U ...</td> <td>The following is a list of political issues within the U ...</td> <td>The following is a list of political issues within the U ...</td> <td>The following is a list of political issues within the U ...</td> <td>The following is a list of political issues within the U ...</td> <td>The following is a list of political issues within the U ...</td> <td>The following is a list of political issues within the U ...</td> <td>The following is a list of political issues within the U ...</td> <td>The following is a list of political issues within the U ...</td> <td>The following is a list of political issues within the U ...</td> <td>Rank the following with 1 being the most used on where y ...</td> <td>Rank the following with 1 being the most used on where y ...</td> <td>Rank the following with 1 being the most used on where y ...</td> <td>Rank the following with 1 being the most used on where y ...</td> <td>Rank the following with 1 being the most used on where y ...</td> <td>Rank the following with 1 being the most used on where y ...</td> <td>Rank the following with 1 being the most used on where y ...</td> <td>Rank the following with 1 being the most used on where y ...</td> <td>Rank the following with 1 being the most used on where y ...</td> <td>Rank the following with 1 being the most used on where y ...</td> <td>Rank the following with 1 being the most used on where y ...</td> <td>Rank the following with 1 being the most used on where y ...</td> <td>Rank the following with 1 being the most used on where y ...</td> <td>Rank the following with 1 being the most used on where y ...</td> <td>Rank the following with 1 being the most used on where y ...</td> <td>Do you support the current president? Why or why not? -  ...</td> <td>Do you support the current president? Why or why not? -  ...</td> <td>Do you support the current president? Why or why not? -  ...</td> <td>Do you support the current president? Why or why not? -  ...</td> <td>Do you support the current administration's policies and ...</td> <td>Do you support the current administration's policies and ...</td> <td>Do you support the current administration's policies and ...</td> <td>Do you support the current administration's policies and ...</td> <td>Select the answers that best fit your level of knowledge ...</td> <td>Select the answers that best fit your level of knowledge ...</td> <td>Select the answers that best fit your perspective on vot ...</td> <td>Select the answers that best fit your perspective on vot ...</td> <td>Select the answers that best fit your perspective on vot ...</td> <td>Select the answers that best fit your perspective on vot ...</td> <td>Do you think voting in a presidential election is more i ...</td> <td>Have you taken part in a protest, march, or demonstratio ...</td> <td>Have you taken part in a protest, march, or demonstratio ...</td> <td>Have you taken part in a protest, march, or demonstratio ...</td> <td>Do you think that the Berkeley campus should make Electi ...</td> <td>Is there anything else that you would like to add? - Sel ...</td> <td>Is there anything else that you would like to add? - Yes ...</td>\n",
       "        </tr>\n",
       "        <tr>\n",
       "            <td>{\"ImportId\":\"startDate\",\"timeZone\":\"America/Denver\"}</td> <td>{\"ImportId\":\"endDate\",\"timeZone\":\"America/Denver\"}</td> <td>{\"ImportId\":\"status\"}</td> <td>{\"ImportId\":\"ipAddress\"}</td> <td>{\"ImportId\":\"progress\"}</td> <td>{\"ImportId\":\"duration\"}</td> <td>{\"ImportId\":\"finished\"}</td> <td>{\"ImportId\":\"recordedDate\",\"timeZone\":\"America/Denver\"}</td> <td>{\"ImportId\":\"_recordId\"}</td> <td>{\"ImportId\":\"recipientLastName\"}</td> <td>{\"ImportId\":\"recipientFirstName\"}</td> <td>{\"ImportId\":\"recipientEmail\"}</td> <td>{\"ImportId\":\"externalDataReference\"}</td> <td>{\"ImportId\":\"locationLatitude\"}</td> <td>{\"ImportId\":\"locationLongitude\"}</td> <td>{\"ImportId\":\"distributionChannel\"}</td> <td>{\"ImportId\":\"userLanguage\"}</td> <td>{\"ImportId\":\"QID80\"}                                        </td> <td>{\"ImportId\":\"QID2\"}                                         </td> <td>{\"ImportId\":\"QID3\"}        </td> <td>{\"ImportId\":\"QID4\"}                                         </td> <td>{\"ImportId\":\"QID5\"}           </td> <td>{\"ImportId\":\"QID6\"}                    </td> <td>{\"ImportId\":\"QID7\"}                                         </td> <td>{\"ImportId\":\"QID7_9_TEXT\"}                                  </td> <td>{\"ImportId\":\"QID79\"}</td> <td>{\"ImportId\":\"QID67\"}                                        </td> <td>{\"ImportId\":\"QID71\"}                                   </td> <td>{\"ImportId\":\"QID71_4_TEXT\"}                         </td> <td>{\"ImportId\":\"QID72\"}                                        </td> <td>{\"ImportId\":\"QID72_7_TEXT\"}                                 </td> <td>{\"ImportId\":\"QID75\"}                                        </td> <td>{\"ImportId\":\"QID76_1\"}                                      </td> <td>{\"ImportId\":\"QID68\"}                            </td> <td>{\"ImportId\":\"QID102\"}                                       </td> <td>{\"ImportId\":\"QID102_8_TEXT\"}                                </td> <td>{\"ImportId\":\"QID77\"}                                        </td> <td>{\"ImportId\":\"QID78\"}                          </td> <td>{\"ImportId\":\"QID73\"}                                        </td> <td>{\"ImportId\":\"QID74\"}                                        </td> <td>{\"ImportId\":\"QID70\"}                                        </td> <td>{\"ImportId\":\"QID70_7_TEXT\"}                                 </td> <td>{\"ImportId\":\"QID69\"}                                        </td> <td>{\"ImportId\":\"QID88\"}                                        </td> <td>{\"ImportId\":\"QID88_5_TEXT\"}                                 </td> <td>{\"ImportId\":\"QID89\"}       </td> <td>{\"ImportId\":\"QID93\"}                                        </td> <td>{\"ImportId\":\"QID93_7_TEXT\"}                                 </td> <td>{\"ImportId\":\"QID90_1\"}                                      </td> <td>{\"ImportId\":\"QID90_2\"}                                      </td> <td>{\"ImportId\":\"QID24\"}                                        </td> <td>{\"ImportId\":\"QID24_9_TEXT\"}                                 </td> <td>{\"ImportId\":\"QID98\"}                                        </td> <td>{\"ImportId\":\"QID25_1\"}                                      </td> <td>{\"ImportId\":\"QID86\"}                       </td> <td>{\"ImportId\":\"QID95\"}                                     </td> <td>{\"ImportId\":\"QID29\"}                                        </td> <td>{\"ImportId\":\"QID29_1_TEXT\"}                                 </td> <td>{\"ImportId\":\"QID29_2_TEXT\"}                                 </td> <td>{\"ImportId\":\"QID29_3_TEXT\"}                                 </td> <td>{\"ImportId\":\"QID30\"}                                        </td> <td>{\"ImportId\":\"QID30_1_TEXT\"}                                 </td> <td>{\"ImportId\":\"QID101\"}                                       </td> <td>{\"ImportId\":\"QID87_1\"}                                      </td> <td>{\"ImportId\":\"QID87_2\"}                                      </td> <td>{\"ImportId\":\"QID87_3\"}                                      </td> <td>{\"ImportId\":\"QID87_4\"}                                      </td> <td>{\"ImportId\":\"QID87_5\"}                                      </td> <td>{\"ImportId\":\"QID87_6_TEXT\"}                                 </td> <td>{\"ImportId\":\"QID26\"}                                        </td> <td>{\"ImportId\":\"QID27\"}                                        </td> <td>{\"ImportId\":\"QID28\"}                                        </td> <td>{\"ImportId\":\"QID32_9\"}                                      </td> <td>{\"ImportId\":\"QID32_1\"}                                      </td> <td>{\"ImportId\":\"QID32_2\"}                                      </td> <td>{\"ImportId\":\"QID32_6\"}                                      </td> <td>{\"ImportId\":\"QID32_7\"}                                      </td> <td>{\"ImportId\":\"QID84_1\"}                                      </td> <td>{\"ImportId\":\"QID84_2\"}                                      </td> <td>{\"ImportId\":\"QID84_3\"}                                      </td> <td>{\"ImportId\":\"QID35_23\"}                                     </td> <td>{\"ImportId\":\"QID37_1\"}                                      </td> <td>{\"ImportId\":\"QID37_2\"}                                      </td> <td>{\"ImportId\":\"QID37_3\"}                                      </td> <td>{\"ImportId\":\"QID39_1\"}                                      </td> <td>{\"ImportId\":\"QID39_2\"}                                      </td> <td>{\"ImportId\":\"QID39_3\"}                                      </td> <td>{\"ImportId\":\"QID39_4\"}                                      </td> <td>{\"ImportId\":\"QID39_5\"}                                      </td> <td>{\"ImportId\":\"QID39_10\"}                                     </td> <td>{\"ImportId\":\"QID39_6\"}                                      </td> <td>{\"ImportId\":\"QID39_7\"}                                      </td> <td>{\"ImportId\":\"QID39_12\"}                                     </td> <td>{\"ImportId\":\"QID39_13\"}                                     </td> <td>{\"ImportId\":\"QID39_8\"}                                      </td> <td>{\"ImportId\":\"QID39_8_TEXT\"}                                 </td> <td>{\"ImportId\":\"QID40_0_GROUP\"}                                </td> <td>{\"ImportId\":\"QID40_G0_1_RANK\"}                              </td> <td>{\"ImportId\":\"QID40_G0_15_RANK\"}                             </td> <td>{\"ImportId\":\"QID40_G0_4_RANK\"}                              </td> <td>{\"ImportId\":\"QID40_G0_5_RANK\"}                              </td> <td>{\"ImportId\":\"QID40_G0_6_RANK\"}                              </td> <td>{\"ImportId\":\"QID40_G0_9_RANK\"}                              </td> <td>{\"ImportId\":\"QID40_G0_10_RANK\"}                             </td> <td>{\"ImportId\":\"QID40_G0_11_RANK\"}                             </td> <td>{\"ImportId\":\"QID40_G0_12_RANK\"}                             </td> <td>{\"ImportId\":\"QID40_G0_13_RANK\"}                             </td> <td>{\"ImportId\":\"QID40_G0_14_RANK\"}                             </td> <td>{\"ImportId\":\"QID40_G0_16_RANK\"}                             </td> <td>{\"ImportId\":\"QID40_G0_8_RANK\"}                              </td> <td>{\"ImportId\":\"QID40_8_TEXT\"}                                 </td> <td>{\"ImportId\":\"QID44\"}                                        </td> <td>{\"ImportId\":\"QID44_1_TEXT\"}                                 </td> <td>{\"ImportId\":\"QID44_2_TEXT\"}                                 </td> <td>{\"ImportId\":\"QID44_3_TEXT\"}                                 </td> <td>{\"ImportId\":\"QID45\"}                                        </td> <td>{\"ImportId\":\"QID45_1_TEXT\"}                                 </td> <td>{\"ImportId\":\"QID45_2_TEXT\"}                                 </td> <td>{\"ImportId\":\"QID45_3_TEXT\"}                                 </td> <td>{\"ImportId\":\"QID46_1\"}                                      </td> <td>{\"ImportId\":\"QID46_6\"}                                      </td> <td>{\"ImportId\":\"QID96_7\"}                                      </td> <td>{\"ImportId\":\"QID96_8\"}                                      </td> <td>{\"ImportId\":\"QID96_9\"}                                      </td> <td>{\"ImportId\":\"QID96_10\"}                                     </td> <td>{\"ImportId\":\"QID99\"}                                        </td> <td>{\"ImportId\":\"QID51\"}                                        </td> <td>{\"ImportId\":\"QID51_1_TEXT\"}                                 </td> <td>{\"ImportId\":\"QID51_2_TEXT\"}                                 </td> <td>{\"ImportId\":\"QID52\"}                                        </td> <td>{\"ImportId\":\"QID85\"}                                        </td> <td>{\"ImportId\":\"QID85_1_TEXT\"}                                 </td>\n",
       "        </tr>\n",
       "        <tr>\n",
       "            <td>2018-11-13 13:37:27                                 </td> <td>2018-11-13 13:48:30                               </td> <td>IP Address           </td> <td>136.152.143.179         </td> <td>100                    </td> <td>663                    </td> <td>True                   </td> <td>2018-11-13 13:48:31                                    </td> <td>R_xA58gXXjXE5t4vD       </td> <td>nan                             </td> <td>nan                              </td> <td>nan                          </td> <td>nan                                 </td> <td>37.8737945556640625            </td> <td>-122.2548980712890625           </td> <td>anonymous                         </td> <td>EN                         </td> <td>I consent                                                   </td> <td>College of Letters and Science (includes undeclared stud ...</td> <td>No                         </td> <td>Social Sciences                                             </td> <td>Yes                           </td> <td>Woman                                  </td> <td>White                                                       </td> <td>nan                                                         </td> <td>21                  </td> <td>No                                                          </td> <td>In person                                              </td> <td>nan                                                 </td> <td>nan                                                         </td> <td>nan                                                         </td> <td>Another California county                                   </td> <td>3                                                           </td> <td>Yes                                             </td> <td>nan                                                         </td> <td>nan                                                         </td> <td>Polling station                                             </td> <td>Trump                                         </td> <td>No                                                          </td> <td>nan                                                         </td> <td>Happy                                                       </td> <td>nan                                                         </td> <td>Yes                                                         </td> <td>Volunteering                                                </td> <td>nan                                                         </td> <td>1-3 hours per week         </td> <td>Voting                                                      </td> <td>nan                                                         </td> <td>Occasionally                                                </td> <td>Never                                                       </td> <td>I was already registered and did not re-register.           </td> <td>nan                                                         </td> <td>nan                                                         </td> <td>nan                                                         </td> <td>Yes                                        </td> <td>No; I did not check                                      </td> <td>Absentee / mail  ballot                                     </td> <td>nan                                                         </td> <td>I was at school and my polling station was down in south ...</td> <td>nan                                                         </td> <td>No                                                          </td> <td>nan                                                         </td> <td>Mostly Republicans                                          </td> <td>4                                                           </td> <td>3                                                           </td> <td>1                                                           </td> <td>2                                                           </td> <td>nan                                                         </td> <td>nan                                                         </td> <td>Yes                                                         </td> <td>No                                                          </td> <td>I did not have work that day                                </td> <td>Neutral                                                     </td> <td>Somewhat agree                                              </td> <td>Strongly disagree                                           </td> <td>Neutral                                                     </td> <td>Somewhat disagree                                           </td> <td>Strongly disagree                                           </td> <td>Strongly disagree                                           </td> <td>Strongly disagree                                           </td> <td>7                                                           </td> <td>Once or twice a year                                        </td> <td>Every day                                                   </td> <td>Every day                                                   </td> <td>Very important                                              </td> <td>Very important                                              </td> <td>Very important                                              </td> <td>Very important                                              </td> <td>Very important                                              </td> <td>Very important                                              </td> <td>Very important                                              </td> <td>Very important                                              </td> <td>Very important                                              </td> <td>Very important                                              </td> <td>nan                                                         </td> <td>nan                                                         </td> <td>Fox News,New York Times,CBS,Twitter,CNN                     </td> <td>nan                                                         </td> <td>4                                                           </td> <td>2                                                           </td> <td>5                                                           </td> <td>1                                                           </td> <td>nan                                                         </td> <td>3                                                           </td> <td>nan                                                         </td> <td>nan                                                         </td> <td>nan                                                         </td> <td>nan                                                         </td> <td>nan                                                         </td> <td>nan                                                         </td> <td>nan                                                         </td> <td>Sometimes because:                                          </td> <td>nan                                                         </td> <td>He is doing what he said he would be needs to chill with ...</td> <td>nan                                                         </td> <td>No opinion                                                  </td> <td>nan                                                         </td> <td>nan                                                         </td> <td>nan                                                         </td> <td>Moderately knowledgeable                                    </td> <td>Slightly knowledgeable                                      </td> <td>Strongly agree                                              </td> <td>Somewhat agree                                              </td> <td>Somewhat agree                                              </td> <td>Strongly agree                                              </td> <td>Presidential elections are more important                   </td> <td>No:                                                         </td> <td>nan                                                         </td> <td>nan                                                         </td> <td>Probably yes                                                </td> <td>No                                                          </td> <td>nan                                                         </td>\n",
       "        </tr>\n",
       "        <tr>\n",
       "            <td>2018-11-13 13:42:15                                 </td> <td>2018-11-13 13:54:07                               </td> <td>IP Address           </td> <td>67.160.238.12           </td> <td>100                    </td> <td>712                    </td> <td>True                   </td> <td>2018-11-13 13:54:08                                    </td> <td>R_T1qHpCfq74QzG9z       </td> <td>nan                             </td> <td>nan                              </td> <td>nan                          </td> <td>nan                                 </td> <td>37.51739501953125              </td> <td>-122.29270172119140625          </td> <td>anonymous                         </td> <td>EN                         </td> <td>I consent                                                   </td> <td>College of Engineering                                      </td> <td>Yes                        </td> <td>Engineering/Computer Science                                </td> <td>Yes                           </td> <td>Man                                    </td> <td>White                                                       </td> <td>nan                                                         </td> <td>20                  </td> <td>No                                                          </td> <td>Online                                                 </td> <td>nan                                                 </td> <td>nan                                                         </td> <td>nan                                                         </td> <td>Another California county                                   </td> <td>3                                                           </td> <td>Yes                                             </td> <td>nan                                                         </td> <td>nan                                                         </td> <td>Polling station                                             </td> <td>Trump                                         </td> <td>I do not remember                                           </td> <td>nan                                                         </td> <td>nan                                                         </td> <td>nan                                                         </td> <td>No                                                          </td> <td>Volunteering                                                </td> <td>nan                                                         </td> <td>1-3 hours per week         </td> <td>Voting                                                      </td> <td>nan                                                         </td> <td>Moderately                                                  </td> <td>Never                                                       </td> <td>Automatic registration via the California Department of  ...</td> <td>nan                                                         </td> <td>Other California county                                     </td> <td>3                                                           </td> <td>Yes                                        </td> <td>No; I do not know how                                    </td> <td>Absentee / mail  ballot                                     </td> <td>nan                                                         </td> <td>Easy                                                        </td> <td>nan                                                         </td> <td>No                                                          </td> <td>nan                                                         </td> <td>Mostly Republicans                                          </td> <td>1                                                           </td> <td>3                                                           </td> <td>2                                                           </td> <td>4                                                           </td> <td>nan                                                         </td> <td>nan                                                         </td> <td>No                                                          </td> <td>No                                                          </td> <td>I did not have work that day                                </td> <td>Somewhat agree                                              </td> <td>Strongly agree                                              </td> <td>Strongly agree                                              </td> <td>Neutral                                                     </td> <td>Neutral                                                     </td> <td>Somewhat agree                                              </td> <td>Somewhat disagree                                           </td> <td>Somewhat disagree                                           </td> <td>7                                                           </td> <td>Once or twice a month                                       </td> <td>Once a week                                                 </td> <td>Never                                                       </td> <td>Very important                                              </td> <td>Important                                                   </td> <td>Important                                                   </td> <td>Important                                                   </td> <td>Moderately important                                        </td> <td>Moderately important                                        </td> <td>Important                                                   </td> <td>Moderately important                                        </td> <td>Moderately important                                        </td> <td>Moderately important                                        </td> <td>nan                                                         </td> <td>nan                                                         </td> <td>nan                                                         </td> <td>nan                                                         </td> <td>nan                                                         </td> <td>nan                                                         </td> <td>nan                                                         </td> <td>nan                                                         </td> <td>nan                                                         </td> <td>nan                                                         </td> <td>nan                                                         </td> <td>nan                                                         </td> <td>nan                                                         </td> <td>nan                                                         </td> <td>nan                                                         </td> <td>nan                                                         </td> <td>nan                                                         </td> <td>nan                                                         </td> <td>nan                                                         </td> <td>nan                                                         </td> <td>nan                                                         </td> <td>nan                                                         </td> <td>nan                                                         </td> <td>nan                                                         </td> <td>nan                                                         </td> <td>Slightly knowledgeable                                      </td> <td>Very knowledgeable                                          </td> <td>Strongly agree                                              </td> <td>Somewhat agree                                              </td> <td>Somewhat agree                                              </td> <td>Somewhat agree                                              </td> <td>Presidential elections are more important                   </td> <td>No:                                                         </td> <td>nan                                                         </td> <td>No                                                          </td> <td>Probably yes                                                </td> <td>No                                                          </td> <td>nan                                                         </td>\n",
       "        </tr>\n",
       "        <tr>\n",
       "            <td>2018-11-13 13:40:17                                 </td> <td>2018-11-13 13:56:41                               </td> <td>IP Address           </td> <td>192.31.105.240          </td> <td>100                    </td> <td>983                    </td> <td>True                   </td> <td>2018-11-13 13:56:42                                    </td> <td>R_1lAiYt3HSH063Or       </td> <td>nan                             </td> <td>nan                              </td> <td>nan                          </td> <td>nan                                 </td> <td>37.8737945556640625            </td> <td>-122.2548980712890625           </td> <td>anonymous                         </td> <td>EN                         </td> <td>I consent                                                   </td> <td>College of Letters and Science (includes undeclared stud ...</td> <td>No                         </td> <td>Social Sciences                                             </td> <td>Yes                           </td> <td>Woman                                  </td> <td>Asian,White                                                 </td> <td>nan                                                         </td> <td>18                  </td> <td>nan                                                         </td> <td>nan                                                    </td> <td>nan                                                 </td> <td>nan                                                         </td> <td>nan                                                         </td> <td>nan                                                         </td> <td>nan                                                         </td> <td>nan                                             </td> <td>nan                                                         </td> <td>nan                                                         </td> <td>nan                                                         </td> <td>nan                                           </td> <td>nan                                                         </td> <td>nan                                                         </td> <td>Sad,Scared,Angry                                            </td> <td>nan                                                         </td> <td>Yes                                                         </td> <td>Community engagement                                        </td> <td>nan                                                         </td> <td>1-3 hours per week         </td> <td>Voting                                                      </td> <td>nan                                                         </td> <td>Moderately                                                  </td> <td>Frequently                                                  </td> <td>I was already registered and did not re-register.           </td> <td>nan                                                         </td> <td>nan                                                         </td> <td>nan                                                         </td> <td>Yes                                        </td> <td>Yes; it was counted                                      </td> <td>Absentee / mail  ballot                                     </td> <td>nan                                                         </td> <td>I wanted to vote in my county and now live in Berkeley.  ...</td> <td>nan                                                         </td> <td>No                                                          </td> <td>nan                                                         </td> <td>Only Democrats                                              </td> <td>nan                                                         </td> <td>nan                                                         </td> <td>nan                                                         </td> <td>nan                                                         </td> <td>nan                                                         </td> <td>nan                                                         </td> <td>Yes                                                         </td> <td>No                                                          </td> <td>I did not have work that day                                </td> <td>Strongly agree                                              </td> <td>Strongly agree                                              </td> <td>Strongly agree                                              </td> <td>Somewhat agree                                              </td> <td>Somewhat agree                                              </td> <td>Strongly agree                                              </td> <td>Strongly agree                                              </td> <td>Somewhat agree                                              </td> <td>2                                                           </td> <td>Every day                                                   </td> <td>Every day                                                   </td> <td>Once or twice a month                                       </td> <td>Very important                                              </td> <td>Very important                                              </td> <td>Very important                                              </td> <td>Important                                                   </td> <td>Important                                                   </td> <td>Very important                                              </td> <td>Very important                                              </td> <td>Important                                                   </td> <td>Important                                                   </td> <td>Important                                                   </td> <td>nan                                                         </td> <td>nan                                                         </td> <td>CNN,New York Times,Twitter,Facebook,Washington Post         </td> <td>4                                                           </td> <td>3                                                           </td> <td>2                                                           </td> <td>1                                                           </td> <td>nan                                                         </td> <td>5                                                           </td> <td>nan                                                         </td> <td>nan                                                         </td> <td>nan                                                         </td> <td>nan                                                         </td> <td>nan                                                         </td> <td>nan                                                         </td> <td>nan                                                         </td> <td>nan                                                         </td> <td>No because:                                                 </td> <td>nan                                                         </td> <td>nan                                                         </td> <td>No for so, so many reasons                                  </td> <td>No because:                                                 </td> <td>nan                                                         </td> <td>nan                                                         </td> <td>No, they are not in line with my political views            </td> <td>Extremely knowledgeable                                     </td> <td>Extremely knowledgeable                                     </td> <td>Strongly agree                                              </td> <td>Strongly agree                                              </td> <td>Strongly agree                                              </td> <td>Strongly agree                                              </td> <td>Presidential elections and midterm elections are equally ...</td> <td>Yes:                                                        </td> <td>Yes, the Women's March and the March for our Lives          </td> <td>nan                                                         </td> <td>Probably yes                                                </td> <td>No                                                          </td> <td>nan                                                         </td>\n",
       "        </tr>\n",
       "    </tbody>\n",
       "</table>\n",
       "<p>... (544 rows omitted)</p>"
      ],
      "text/plain": [
       "<IPython.core.display.HTML object>"
      ]
     },
     "metadata": {},
     "output_type": "display_data"
    }
   ],
   "source": [
    "data_ori.show(5) # need to delete the first two rows "
   ]
  },
  {
   "cell_type": "code",
   "execution_count": 5,
   "metadata": {},
   "outputs": [
    {
     "data": {
      "text/plain": [
       "132"
      ]
     },
     "execution_count": 5,
     "metadata": {},
     "output_type": "execute_result"
    },
    {
     "data": {
      "text/plain": [
       "549"
      ]
     },
     "execution_count": 5,
     "metadata": {},
     "output_type": "execute_result"
    }
   ],
   "source": [
    "data_ori.num_columns\n",
    "data_ori.num_rows"
   ]
  },
  {
   "cell_type": "code",
   "execution_count": 6,
   "metadata": {},
   "outputs": [
    {
     "data": {
      "text/html": [
       "<table border=\"1\" class=\"dataframe\">\n",
       "    <thead>\n",
       "        <tr>\n",
       "            <th>StartDate</th> <th>EndDate</th> <th>Status</th> <th>IPAddress</th> <th>Progress</th> <th>Duration (in seconds)</th> <th>Finished</th> <th>RecordedDate</th> <th>ResponseId</th> <th>RecipientLastName</th> <th>RecipientFirstName</th> <th>RecipientEmail</th> <th>ExternalReference</th> <th>LocationLatitude</th> <th>LocationLongitude</th> <th>DistributionChannel</th> <th>UserLanguage</th> <th>Q1</th> <th>Q3</th> <th>Q4</th> <th>Q5</th> <th>Q6</th> <th>Q7</th> <th>Q8</th> <th>Q8_9_TEXT</th> <th>Q9</th> <th>Q10</th> <th>Q11</th> <th>Q11_4_TEXT</th> <th>Q12</th> <th>Q12_7_TEXT</th> <th>Q13</th> <th>Q14_1</th> <th>Q15</th> <th>Q56</th> <th>Q56_8_TEXT</th> <th>Q16</th> <th>Q17</th> <th>Q18</th> <th>Q19</th> <th>Q20</th> <th>Q20_7_TEXT</th> <th>Q21</th> <th>Q23</th> <th>Q23_5_TEXT</th> <th>Q24</th> <th>Q25</th> <th>Q25_7_TEXT</th> <th>Q26_1</th> <th>Q26_2</th> <th>Q27</th> <th>Q27_9_TEXT</th> <th>Q28</th> <th>Q29_1</th> <th>Q30</th> <th>Q31</th> <th>Q32</th> <th>Q32_1_TEXT</th> <th>Q32_2_TEXT</th> <th>Q32_3_TEXT</th> <th>Q33</th> <th>Q33_1_TEXT</th> <th>Q55</th> <th>Q34_1</th> <th>Q34_2</th> <th>Q34_3</th> <th>Q34_7</th> <th>Q34_6</th> <th>Q34_6_TEXT</th> <th>Q35</th> <th>Q36</th> <th>Q37</th> <th>Q39_1</th> <th>Q39_2</th> <th>Q39_3</th> <th>Q39_4</th> <th>Q39_5</th> <th>Q40_1</th> <th>Q40_2</th> <th>Q40_3</th> <th>Q41_23</th> <th>Q42_1</th> <th>Q42_2</th> <th>Q42_3</th> <th>Q43_1</th> <th>Q43_2</th> <th>Q43_3</th> <th>Q43_4</th> <th>Q43_5</th> <th>Q43_6</th> <th>Q43_7</th> <th>Q43_8</th> <th>Q43_9</th> <th>Q43_10</th> <th>Q43_11</th> <th>Q43_11_TEXT</th> <th>Q44_0_GROUP</th> <th>Q44_0_1_RANK</th> <th>Q44_0_15_RANK</th> <th>Q44_0_4_RANK</th> <th>Q44_0_5_RANK</th> <th>Q44_0_6_RANK</th> <th>Q44_0_9_RANK</th> <th>Q44_0_10_RANK</th> <th>Q44_0_11_RANK</th> <th>Q44_0_12_RANK</th> <th>Q44_0_13_RANK</th> <th>Q44_0_14_RANK</th> <th>Q44_0_16_RANK</th> <th>Q44_0_8_RANK</th> <th>Q44_8_TEXT</th> <th>Q45</th> <th>Q45_1_TEXT</th> <th>Q45_2_TEXT</th> <th>Q45_3_TEXT</th> <th>Q46</th> <th>Q46_1_TEXT</th> <th>Q46_2_TEXT</th> <th>Q46_3_TEXT</th> <th>Q47_1</th> <th>Q47_2</th> <th>Q48_1</th> <th>Q48_2</th> <th>Q48_3</th> <th>Q48_4</th> <th>Q49</th> <th>Q50</th> <th>Q50_1_TEXT</th> <th>Q50_2_TEXT</th> <th>Q51</th> <th>Q52</th> <th>Q52_1_TEXT</th>\n",
       "        </tr>\n",
       "    </thead>\n",
       "    <tbody>\n",
       "        <tr>\n",
       "            <td>2018-11-13 13:42:15</td> <td>2018-11-13 13:54:07</td> <td>IP Address</td> <td>67.160.238.12 </td> <td>100     </td> <td>712                  </td> <td>True    </td> <td>2018-11-13 13:54:08</td> <td>R_T1qHpCfq74QzG9z</td> <td>nan              </td> <td>nan               </td> <td>nan           </td> <td>nan              </td> <td>37.51739501953125  </td> <td>-122.29270172119140625</td> <td>anonymous          </td> <td>EN          </td> <td>I consent</td> <td>College of Engineering                                      </td> <td>Yes </td> <td>Engineering/Computer Science</td> <td>Yes </td> <td>Man  </td> <td>White                   </td> <td>nan      </td> <td>20  </td> <td>No  </td> <td>Online   </td> <td>nan       </td> <td>nan </td> <td>nan       </td> <td>Another California county</td> <td>3    </td> <td>Yes </td> <td>nan                                 </td> <td>nan       </td> <td>Polling station  </td> <td>Trump  </td> <td>I do not remember</td> <td>nan </td> <td>nan             </td> <td>nan       </td> <td>No  </td> <td>Volunteering        </td> <td>nan       </td> <td>1-3 hours per week</td> <td>Voting      </td> <td>nan       </td> <td>Moderately</td> <td>Never       </td> <td>Automatic registration via the California Department of  ...</td> <td>nan       </td> <td>Other California county</td> <td>3    </td> <td>Yes </td> <td>No; I do not know how</td> <td>Absentee / mail  ballot</td> <td>nan       </td> <td>Easy                                                        </td> <td>nan       </td> <td>No  </td> <td>nan       </td> <td>Mostly Republicans</td> <td>1    </td> <td>3    </td> <td>2    </td> <td>4    </td> <td>nan  </td> <td>nan       </td> <td>No  </td> <td>No  </td> <td>I did not have work that day</td> <td>Somewhat agree</td> <td>Strongly agree</td> <td>Strongly agree</td> <td>Neutral       </td> <td>Neutral          </td> <td>Somewhat agree</td> <td>Somewhat disagree</td> <td>Somewhat disagree</td> <td>7     </td> <td>Once or twice a month</td> <td>Once a week</td> <td>Never                </td> <td>Very important</td> <td>Important     </td> <td>Important     </td> <td>Important     </td> <td>Moderately important</td> <td>Moderately important</td> <td>Important     </td> <td>Moderately important</td> <td>Moderately important</td> <td>Moderately important</td> <td>nan           </td> <td>nan        </td> <td>nan                                                </td> <td>nan         </td> <td>nan          </td> <td>nan         </td> <td>nan         </td> <td>nan         </td> <td>nan         </td> <td>nan          </td> <td>nan          </td> <td>nan          </td> <td>nan          </td> <td>nan          </td> <td>nan          </td> <td>nan         </td> <td>nan       </td> <td>nan        </td> <td>nan       </td> <td>nan       </td> <td>nan                             </td> <td>nan        </td> <td>nan       </td> <td>nan       </td> <td>nan                                             </td> <td>Slightly knowledgeable </td> <td>Very knowledgeable     </td> <td>Strongly agree</td> <td>Somewhat agree</td> <td>Somewhat agree</td> <td>Somewhat agree</td> <td>Presidential elections are more important                   </td> <td>No: </td> <td>nan                                               </td> <td>No           </td> <td>Probably yes  </td> <td>No  </td> <td>nan       </td>\n",
       "        </tr>\n",
       "        <tr>\n",
       "            <td>2018-11-13 13:40:17</td> <td>2018-11-13 13:56:41</td> <td>IP Address</td> <td>192.31.105.240</td> <td>100     </td> <td>983                  </td> <td>True    </td> <td>2018-11-13 13:56:42</td> <td>R_1lAiYt3HSH063Or</td> <td>nan              </td> <td>nan               </td> <td>nan           </td> <td>nan              </td> <td>37.8737945556640625</td> <td>-122.2548980712890625 </td> <td>anonymous          </td> <td>EN          </td> <td>I consent</td> <td>College of Letters and Science (includes undeclared stud ...</td> <td>No  </td> <td>Social Sciences             </td> <td>Yes </td> <td>Woman</td> <td>Asian,White             </td> <td>nan      </td> <td>18  </td> <td>nan </td> <td>nan      </td> <td>nan       </td> <td>nan </td> <td>nan       </td> <td>nan                      </td> <td>nan  </td> <td>nan </td> <td>nan                                 </td> <td>nan       </td> <td>nan              </td> <td>nan    </td> <td>nan              </td> <td>nan </td> <td>Sad,Scared,Angry</td> <td>nan       </td> <td>Yes </td> <td>Community engagement</td> <td>nan       </td> <td>1-3 hours per week</td> <td>Voting      </td> <td>nan       </td> <td>Moderately</td> <td>Frequently  </td> <td>I was already registered and did not re-register.           </td> <td>nan       </td> <td>nan                    </td> <td>nan  </td> <td>Yes </td> <td>Yes; it was counted  </td> <td>Absentee / mail  ballot</td> <td>nan       </td> <td>I wanted to vote in my county and now live in Berkeley.  ...</td> <td>nan       </td> <td>No  </td> <td>nan       </td> <td>Only Democrats    </td> <td>nan  </td> <td>nan  </td> <td>nan  </td> <td>nan  </td> <td>nan  </td> <td>nan       </td> <td>Yes </td> <td>No  </td> <td>I did not have work that day</td> <td>Strongly agree</td> <td>Strongly agree</td> <td>Strongly agree</td> <td>Somewhat agree</td> <td>Somewhat agree   </td> <td>Strongly agree</td> <td>Strongly agree   </td> <td>Somewhat agree   </td> <td>2     </td> <td>Every day            </td> <td>Every day  </td> <td>Once or twice a month</td> <td>Very important</td> <td>Very important</td> <td>Very important</td> <td>Important     </td> <td>Important           </td> <td>Very important      </td> <td>Very important</td> <td>Important           </td> <td>Important           </td> <td>Important           </td> <td>nan           </td> <td>nan        </td> <td>CNN,New York Times,Twitter,Facebook,Washington Post</td> <td>4           </td> <td>3            </td> <td>2           </td> <td>1           </td> <td>nan         </td> <td>5           </td> <td>nan          </td> <td>nan          </td> <td>nan          </td> <td>nan          </td> <td>nan          </td> <td>nan          </td> <td>nan         </td> <td>nan       </td> <td>No because:</td> <td>nan       </td> <td>nan       </td> <td>No for so, so many reasons      </td> <td>No because:</td> <td>nan       </td> <td>nan       </td> <td>No, they are not in line with my political views</td> <td>Extremely knowledgeable</td> <td>Extremely knowledgeable</td> <td>Strongly agree</td> <td>Strongly agree</td> <td>Strongly agree</td> <td>Strongly agree</td> <td>Presidential elections and midterm elections are equally ...</td> <td>Yes:</td> <td>Yes, the Women's March and the March for our Lives</td> <td>nan          </td> <td>Probably yes  </td> <td>No  </td> <td>nan       </td>\n",
       "        </tr>\n",
       "        <tr>\n",
       "            <td>2018-11-13 13:54:48</td> <td>2018-11-13 13:59:16</td> <td>IP Address</td> <td>107.77.213.31 </td> <td>100     </td> <td>267                  </td> <td>True    </td> <td>2018-11-13 13:59:16</td> <td>R_3kC9f0GCSUUsRHQ</td> <td>nan              </td> <td>nan               </td> <td>nan           </td> <td>nan              </td> <td>37.6374053955078125</td> <td>-122.0670013427734375 </td> <td>anonymous          </td> <td>EN          </td> <td>I consent</td> <td>College of Letters and Science (includes undeclared stud ...</td> <td>No  </td> <td>Life Sciences               </td> <td>Yes </td> <td>Man  </td> <td>Mexican American/Chicanx</td> <td>nan      </td> <td>20  </td> <td>No  </td> <td>In person</td> <td>nan       </td> <td>nan </td> <td>nan       </td> <td>Another California county</td> <td>4    </td> <td>No  </td> <td>I didn't agree with either candidate</td> <td>nan       </td> <td>I do not remember</td> <td>Clinton</td> <td>No               </td> <td>nan </td> <td>Sad             </td> <td>nan       </td> <td>Yes </td> <td>Volunteering        </td> <td>nan       </td> <td>1-3 hours per week</td> <td>Volunteering</td> <td>nan       </td> <td>Constantly</td> <td>Occasionally</td> <td>nan                                                         </td> <td>nan       </td> <td>nan                    </td> <td>nan  </td> <td>nan </td> <td>nan                  </td> <td>nan                    </td> <td>nan       </td> <td>nan                                                         </td> <td>nan       </td> <td>nan </td> <td>nan       </td> <td>nan               </td> <td>1    </td> <td>2    </td> <td>3    </td> <td>4    </td> <td>nan  </td> <td>nan       </td> <td>No  </td> <td>No  </td> <td>No                          </td> <td>Neutral       </td> <td>Somewhat agree</td> <td>Somewhat agree</td> <td>Somewhat agree</td> <td>Somewhat disagree</td> <td>Somewhat agree</td> <td>Somewhat agree   </td> <td>Somewhat agree   </td> <td>4     </td> <td>Once a week          </td> <td>Every day  </td> <td>Once or twice a year </td> <td>Very important</td> <td>Very important</td> <td>Very important</td> <td>Very important</td> <td>Very important      </td> <td>Very important      </td> <td>Very important</td> <td>Very important      </td> <td>Very important      </td> <td>Very important      </td> <td>Very important</td> <td>nan        </td> <td>Twitter,CNN,Facebook,VICE,Time                     </td> <td>3           </td> <td>1            </td> <td>nan         </td> <td>2           </td> <td>nan         </td> <td>nan         </td> <td>nan          </td> <td>nan          </td> <td>4            </td> <td>nan          </td> <td>5            </td> <td>nan          </td> <td>nan         </td> <td>nan       </td> <td>No because:</td> <td>nan       </td> <td>nan       </td> <td>He represents our country poorly</td> <td>No because:</td> <td>nan       </td> <td>nan       </td> <td>They alter the truth                            </td> <td>Very knowledgeable     </td> <td>Very knowledgeable     </td> <td>Somewhat agree</td> <td>Somewhat agree</td> <td>Somewhat agree</td> <td>Somewhat agree</td> <td>Presidential elections and midterm elections are equally ...</td> <td>No: </td> <td>nan                                               </td> <td>Safety reaskn</td> <td>Definitely yes</td> <td>No  </td> <td>nan       </td>\n",
       "        </tr>\n",
       "    </tbody>\n",
       "</table>"
      ],
      "text/plain": [
       "StartDate           | EndDate             | Status     | IPAddress      | Progress | Duration (in seconds) | Finished | RecordedDate        | ResponseId        | RecipientLastName | RecipientFirstName | RecipientEmail | ExternalReference | LocationLatitude    | LocationLongitude      | DistributionChannel | UserLanguage | Q1        | Q3                                                           | Q4   | Q5                           | Q6   | Q7    | Q8                       | Q8_9_TEXT | Q9   | Q10  | Q11       | Q11_4_TEXT | Q12  | Q12_7_TEXT | Q13                       | Q14_1 | Q15  | Q56                                  | Q56_8_TEXT | Q16               | Q17     | Q18               | Q19  | Q20              | Q20_7_TEXT | Q21  | Q23                  | Q23_5_TEXT | Q24                | Q25          | Q25_7_TEXT | Q26_1      | Q26_2        | Q27                                                          | Q27_9_TEXT | Q28                     | Q29_1 | Q30  | Q31                   | Q32                     | Q32_1_TEXT | Q32_2_TEXT                                                   | Q32_3_TEXT | Q33  | Q33_1_TEXT | Q55                | Q34_1 | Q34_2 | Q34_3 | Q34_7 | Q34_6 | Q34_6_TEXT | Q35  | Q36  | Q37                          | Q39_1          | Q39_2          | Q39_3          | Q39_4          | Q39_5             | Q40_1          | Q40_2             | Q40_3             | Q41_23 | Q42_1                 | Q42_2       | Q42_3                 | Q43_1          | Q43_2          | Q43_3          | Q43_4          | Q43_5                | Q43_6                | Q43_7          | Q43_8                | Q43_9                | Q43_10               | Q43_11         | Q43_11_TEXT | Q44_0_GROUP                                         | Q44_0_1_RANK | Q44_0_15_RANK | Q44_0_4_RANK | Q44_0_5_RANK | Q44_0_6_RANK | Q44_0_9_RANK | Q44_0_10_RANK | Q44_0_11_RANK | Q44_0_12_RANK | Q44_0_13_RANK | Q44_0_14_RANK | Q44_0_16_RANK | Q44_0_8_RANK | Q44_8_TEXT | Q45         | Q45_1_TEXT | Q45_2_TEXT | Q45_3_TEXT                       | Q46         | Q46_1_TEXT | Q46_2_TEXT | Q46_3_TEXT                                       | Q47_1                   | Q47_2                   | Q48_1          | Q48_2          | Q48_3          | Q48_4          | Q49                                                          | Q50  | Q50_1_TEXT                                         | Q50_2_TEXT    | Q51            | Q52  | Q52_1_TEXT\n",
       "2018-11-13 13:42:15 | 2018-11-13 13:54:07 | IP Address | 67.160.238.12  | 100      | 712                   | True     | 2018-11-13 13:54:08 | R_T1qHpCfq74QzG9z | nan               | nan                | nan            | nan               | 37.51739501953125   | -122.29270172119140625 | anonymous           | EN           | I consent | College of Engineering                                       | Yes  | Engineering/Computer Science | Yes  | Man   | White                    | nan       | 20   | No   | Online    | nan        | nan  | nan        | Another California county | 3     | Yes  | nan                                  | nan        | Polling station   | Trump   | I do not remember | nan  | nan              | nan        | No   | Volunteering         | nan        | 1-3 hours per week | Voting       | nan        | Moderately | Never        | Automatic registration via the California Department of  ... | nan        | Other California county | 3     | Yes  | No; I do not know how | Absentee / mail  ballot | nan        | Easy                                                         | nan        | No   | nan        | Mostly Republicans | 1     | 3     | 2     | 4     | nan   | nan        | No   | No   | I did not have work that day | Somewhat agree | Strongly agree | Strongly agree | Neutral        | Neutral           | Somewhat agree | Somewhat disagree | Somewhat disagree | 7      | Once or twice a month | Once a week | Never                 | Very important | Important      | Important      | Important      | Moderately important | Moderately important | Important      | Moderately important | Moderately important | Moderately important | nan            | nan         | nan                                                 | nan          | nan           | nan          | nan          | nan          | nan          | nan           | nan           | nan           | nan           | nan           | nan           | nan          | nan        | nan         | nan        | nan        | nan                              | nan         | nan        | nan        | nan                                              | Slightly knowledgeable  | Very knowledgeable      | Strongly agree | Somewhat agree | Somewhat agree | Somewhat agree | Presidential elections are more important                    | No:  | nan                                                | No            | Probably yes   | No   | nan\n",
       "2018-11-13 13:40:17 | 2018-11-13 13:56:41 | IP Address | 192.31.105.240 | 100      | 983                   | True     | 2018-11-13 13:56:42 | R_1lAiYt3HSH063Or | nan               | nan                | nan            | nan               | 37.8737945556640625 | -122.2548980712890625  | anonymous           | EN           | I consent | College of Letters and Science (includes undeclared stud ... | No   | Social Sciences              | Yes  | Woman | Asian,White              | nan       | 18   | nan  | nan       | nan        | nan  | nan        | nan                       | nan   | nan  | nan                                  | nan        | nan               | nan     | nan               | nan  | Sad,Scared,Angry | nan        | Yes  | Community engagement | nan        | 1-3 hours per week | Voting       | nan        | Moderately | Frequently   | I was already registered and did not re-register.            | nan        | nan                     | nan   | Yes  | Yes; it was counted   | Absentee / mail  ballot | nan        | I wanted to vote in my county and now live in Berkeley.  ... | nan        | No   | nan        | Only Democrats     | nan   | nan   | nan   | nan   | nan   | nan        | Yes  | No   | I did not have work that day | Strongly agree | Strongly agree | Strongly agree | Somewhat agree | Somewhat agree    | Strongly agree | Strongly agree    | Somewhat agree    | 2      | Every day             | Every day   | Once or twice a month | Very important | Very important | Very important | Important      | Important            | Very important       | Very important | Important            | Important            | Important            | nan            | nan         | CNN,New York Times,Twitter,Facebook,Washington Post | 4            | 3             | 2            | 1            | nan          | 5            | nan           | nan           | nan           | nan           | nan           | nan           | nan          | nan        | No because: | nan        | nan        | No for so, so many reasons       | No because: | nan        | nan        | No, they are not in line with my political views | Extremely knowledgeable | Extremely knowledgeable | Strongly agree | Strongly agree | Strongly agree | Strongly agree | Presidential elections and midterm elections are equally ... | Yes: | Yes, the Women's March and the March for our Lives | nan           | Probably yes   | No   | nan\n",
       "2018-11-13 13:54:48 | 2018-11-13 13:59:16 | IP Address | 107.77.213.31  | 100      | 267                   | True     | 2018-11-13 13:59:16 | R_3kC9f0GCSUUsRHQ | nan               | nan                | nan            | nan               | 37.6374053955078125 | -122.0670013427734375  | anonymous           | EN           | I consent | College of Letters and Science (includes undeclared stud ... | No   | Life Sciences                | Yes  | Man   | Mexican American/Chicanx | nan       | 20   | No   | In person | nan        | nan  | nan        | Another California county | 4     | No   | I didn't agree with either candidate | nan        | I do not remember | Clinton | No                | nan  | Sad              | nan        | Yes  | Volunteering         | nan        | 1-3 hours per week | Volunteering | nan        | Constantly | Occasionally | nan                                                          | nan        | nan                     | nan   | nan  | nan                   | nan                     | nan        | nan                                                          | nan        | nan  | nan        | nan                | 1     | 2     | 3     | 4     | nan   | nan        | No   | No   | No                           | Neutral        | Somewhat agree | Somewhat agree | Somewhat agree | Somewhat disagree | Somewhat agree | Somewhat agree    | Somewhat agree    | 4      | Once a week           | Every day   | Once or twice a year  | Very important | Very important | Very important | Very important | Very important       | Very important       | Very important | Very important       | Very important       | Very important       | Very important | nan         | Twitter,CNN,Facebook,VICE,Time                      | 3            | 1             | nan          | 2            | nan          | nan          | nan           | nan           | 4             | nan           | 5             | nan           | nan          | nan        | No because: | nan        | nan        | He represents our country poorly | No because: | nan        | nan        | They alter the truth                             | Very knowledgeable      | Very knowledgeable      | Somewhat agree | Somewhat agree | Somewhat agree | Somewhat agree | Presidential elections and midterm elections are equally ... | No:  | nan                                                | Safety reaskn | Definitely yes | No   | nan"
      ]
     },
     "execution_count": 6,
     "metadata": {},
     "output_type": "execute_result"
    }
   ],
   "source": [
    "# you can use take to take a look at some rows in the table, table.show(3) always show the top three rows.\n",
    "data_ori.take(np.arange(3, 6))"
   ]
  },
  {
   "cell_type": "markdown",
   "metadata": {},
   "source": [
    "## Obtain a Smaller table "
   ]
  },
  {
   "cell_type": "markdown",
   "metadata": {},
   "source": [
    "### 1. Drop unnecessary rows "
   ]
  },
  {
   "cell_type": "code",
   "execution_count": 7,
   "metadata": {},
   "outputs": [],
   "source": [
    "# remove the first two rows \n",
    "data_ori = data_ori.exclude(range(2))"
   ]
  },
  {
   "cell_type": "markdown",
   "metadata": {},
   "source": [
    "### 2. Select useful columns"
   ]
  },
  {
   "cell_type": "markdown",
   "metadata": {},
   "source": [
    "##### for smaller data frame, it you want to delete some columns that you do not need to impletement your analysis, you can use\n",
    "data = data_ori.drop(['StartDate', 'EndDate', 'Status', 'IPAddress', \n",
    "                      'ResponseId', 'RecipientLastName', \n",
    "                      'RecipientFirstName', 'RecipientEmail', \n",
    "                      'ExternalReference', 'LocationLatitude', \n",
    "                      'LocationLongitude', 'DistributionChannel'])"
   ]
  },
  {
   "cell_type": "code",
   "execution_count": 8,
   "metadata": {},
   "outputs": [
    {
     "data": {
      "text/plain": [
       "51"
      ]
     },
     "execution_count": 8,
     "metadata": {},
     "output_type": "execute_result"
    }
   ],
   "source": [
    "# select the columns that we are going to use to analyze the survey data\n",
    "columns = ['Q5', 'Q7', 'Q8', 'Q9', 'Q15', 'Q16', 'Q17', 'Q20', 'Q23', 'Q23_5_TEXT', 'Q29_1', 'Q31',\n",
    "            'Q55', 'Q35', 'Q36', 'Q40_1', 'Q40_2', 'Q40_3', \n",
    "            'Q41_23', 'Q42_1', 'Q42_2', 'Q42_3', \n",
    "            'Q43_1', 'Q43_2', 'Q43_3', 'Q43_4', 'Q43_5', 'Q43_6', 'Q43_7', \n",
    "            'Q43_8', 'Q43_9', 'Q43_10', 'Q43_11', 'Q43_11_TEXT', \n",
    "            'Q44_0_GROUP', 'Q44_0_1_RANK', 'Q44_0_15_RANK', 'Q44_0_4_RANK', \n",
    "            'Q44_0_5_RANK', 'Q44_0_6_RANK', 'Q44_0_9_RANK', 'Q44_0_10_RANK', \n",
    "            'Q44_0_11_RANK', 'Q44_0_12_RANK', 'Q44_0_13_RANK', 'Q44_0_14_RANK', \n",
    "            'Q44_0_16_RANK', 'Q44_0_8_RANK', 'Q44_8_TEXT', 'Q47_1',  'Q47_2']\n",
    "\n",
    "data = data_ori.select(columns)\n",
    "\n",
    "\n",
    "data.num_columns"
   ]
  },
  {
   "cell_type": "markdown",
   "metadata": {},
   "source": [
    "## Handle Missing Values "
   ]
  },
  {
   "cell_type": "code",
   "execution_count": 9,
   "metadata": {},
   "outputs": [
    {
     "name": "stdout",
     "output_type": "stream",
     "text": [
      "('Q5', 'Q7', 'Q8', 'Q9', 'Q15', 'Q16', 'Q17', 'Q20', 'Q23', 'Q23_5_TEXT', 'Q29_1', 'Q31', 'Q55', 'Q35', 'Q36', 'Q40_1', 'Q40_2', 'Q40_3', 'Q41_23', 'Q42_1', 'Q42_2', 'Q42_3', 'Q43_1', 'Q43_2', 'Q43_3', 'Q43_4', 'Q43_5', 'Q43_6', 'Q43_7', 'Q43_8', 'Q43_9', 'Q43_10', 'Q43_11', 'Q43_11_TEXT', 'Q44_0_GROUP', 'Q44_0_1_RANK', 'Q44_0_15_RANK', 'Q44_0_4_RANK', 'Q44_0_5_RANK', 'Q44_0_6_RANK', 'Q44_0_9_RANK', 'Q44_0_10_RANK', 'Q44_0_11_RANK', 'Q44_0_12_RANK', 'Q44_0_13_RANK', 'Q44_0_14_RANK', 'Q44_0_16_RANK', 'Q44_0_8_RANK', 'Q44_8_TEXT', 'Q47_1', 'Q47_2')\n"
     ]
    }
   ],
   "source": [
    "print(data.labels)"
   ]
  },
  {
   "cell_type": "code",
   "execution_count": 10,
   "metadata": {},
   "outputs": [
    {
     "data": {
      "text/html": [
       "<table border=\"1\" class=\"dataframe\">\n",
       "    <thead>\n",
       "        <tr>\n",
       "            <th>Q5</th> <th>Q7</th> <th>Q8</th> <th>Q9</th> <th>Q15</th> <th>Q16</th> <th>Q17</th> <th>Q20</th> <th>Q23</th> <th>Q23_5_TEXT</th> <th>Q29_1</th> <th>Q31</th> <th>Q55</th> <th>Q35</th> <th>Q36</th> <th>Q40_1</th> <th>Q40_2</th> <th>Q40_3</th> <th>Q41_23</th> <th>Q42_1</th> <th>Q42_2</th> <th>Q42_3</th> <th>Q43_1</th> <th>Q43_2</th> <th>Q43_3</th> <th>Q43_4</th> <th>Q43_5</th> <th>Q43_6</th> <th>Q43_7</th> <th>Q43_8</th> <th>Q43_9</th> <th>Q43_10</th> <th>Q43_11</th> <th>Q43_11_TEXT</th> <th>Q44_0_GROUP</th> <th>Q44_0_1_RANK</th> <th>Q44_0_15_RANK</th> <th>Q44_0_4_RANK</th> <th>Q44_0_5_RANK</th> <th>Q44_0_6_RANK</th> <th>Q44_0_9_RANK</th> <th>Q44_0_10_RANK</th> <th>Q44_0_11_RANK</th> <th>Q44_0_12_RANK</th> <th>Q44_0_13_RANK</th> <th>Q44_0_14_RANK</th> <th>Q44_0_16_RANK</th> <th>Q44_0_8_RANK</th> <th>Q44_8_TEXT</th> <th>Q47_1</th> <th>Q47_2</th>\n",
       "        </tr>\n",
       "    </thead>\n",
       "    <tbody>\n",
       "        <tr>\n",
       "            <td>Social Sciences                  </td> <td>Woman</td> <td>White                      </td> <td>21  </td> <td>Yes </td> <td>Polling station       </td> <td>Trump  </td> <td>Happy           </td> <td>Volunteering        </td> <td>nan       </td> <td>nan  </td> <td>No; I did not check  </td> <td>Mostly Republicans</td> <td>Yes </td> <td>No  </td> <td>Strongly disagree</td> <td>Strongly disagree</td> <td>Strongly disagree</td> <td>7     </td> <td>Once or twice a year </td> <td>Every day  </td> <td>Every day            </td> <td>Very important</td> <td>Very important</td> <td>Very important</td> <td>Very important</td> <td>Very important      </td> <td>Very important      </td> <td>Very important</td> <td>Very important      </td> <td>Very important      </td> <td>Very important      </td> <td>nan           </td> <td>nan        </td> <td>Fox News,New York Times,CBS,Twitter,CNN            </td> <td>nan         </td> <td>4            </td> <td>2           </td> <td>5           </td> <td>1           </td> <td>nan         </td> <td>3            </td> <td>nan          </td> <td>nan          </td> <td>nan          </td> <td>nan          </td> <td>nan          </td> <td>nan         </td> <td>nan       </td> <td>Moderately knowledgeable</td> <td>Slightly knowledgeable  </td>\n",
       "        </tr>\n",
       "        <tr>\n",
       "            <td>Engineering/Computer Science     </td> <td>Man  </td> <td>White                      </td> <td>20  </td> <td>Yes </td> <td>Polling station       </td> <td>Trump  </td> <td>nan             </td> <td>Volunteering        </td> <td>nan       </td> <td>3    </td> <td>No; I do not know how</td> <td>Mostly Republicans</td> <td>No  </td> <td>No  </td> <td>Somewhat agree   </td> <td>Somewhat disagree</td> <td>Somewhat disagree</td> <td>7     </td> <td>Once or twice a month</td> <td>Once a week</td> <td>Never                </td> <td>Very important</td> <td>Important     </td> <td>Important     </td> <td>Important     </td> <td>Moderately important</td> <td>Moderately important</td> <td>Important     </td> <td>Moderately important</td> <td>Moderately important</td> <td>Moderately important</td> <td>nan           </td> <td>nan        </td> <td>nan                                                </td> <td>nan         </td> <td>nan          </td> <td>nan         </td> <td>nan         </td> <td>nan         </td> <td>nan         </td> <td>nan          </td> <td>nan          </td> <td>nan          </td> <td>nan          </td> <td>nan          </td> <td>nan          </td> <td>nan         </td> <td>nan       </td> <td>Slightly knowledgeable  </td> <td>Very knowledgeable      </td>\n",
       "        </tr>\n",
       "        <tr>\n",
       "            <td>Social Sciences                  </td> <td>Woman</td> <td>Asian,White                </td> <td>18  </td> <td>nan </td> <td>nan                   </td> <td>nan    </td> <td>Sad,Scared,Angry</td> <td>Community engagement</td> <td>nan       </td> <td>nan  </td> <td>Yes; it was counted  </td> <td>Only Democrats    </td> <td>Yes </td> <td>No  </td> <td>Strongly agree   </td> <td>Strongly agree   </td> <td>Somewhat agree   </td> <td>2     </td> <td>Every day            </td> <td>Every day  </td> <td>Once or twice a month</td> <td>Very important</td> <td>Very important</td> <td>Very important</td> <td>Important     </td> <td>Important           </td> <td>Very important      </td> <td>Very important</td> <td>Important           </td> <td>Important           </td> <td>Important           </td> <td>nan           </td> <td>nan        </td> <td>CNN,New York Times,Twitter,Facebook,Washington Post</td> <td>4           </td> <td>3            </td> <td>2           </td> <td>1           </td> <td>nan         </td> <td>5           </td> <td>nan          </td> <td>nan          </td> <td>nan          </td> <td>nan          </td> <td>nan          </td> <td>nan          </td> <td>nan         </td> <td>nan       </td> <td>Extremely knowledgeable </td> <td>Extremely knowledgeable </td>\n",
       "        </tr>\n",
       "        <tr>\n",
       "            <td>Life Sciences                    </td> <td>Man  </td> <td>Mexican American/Chicanx   </td> <td>20  </td> <td>No  </td> <td>I do not remember     </td> <td>Clinton</td> <td>Sad             </td> <td>Volunteering        </td> <td>nan       </td> <td>nan  </td> <td>nan                  </td> <td>nan               </td> <td>No  </td> <td>No  </td> <td>Somewhat agree   </td> <td>Somewhat agree   </td> <td>Somewhat agree   </td> <td>4     </td> <td>Once a week          </td> <td>Every day  </td> <td>Once or twice a year </td> <td>Very important</td> <td>Very important</td> <td>Very important</td> <td>Very important</td> <td>Very important      </td> <td>Very important      </td> <td>Very important</td> <td>Very important      </td> <td>Very important      </td> <td>Very important      </td> <td>Very important</td> <td>nan        </td> <td>Twitter,CNN,Facebook,VICE,Time                     </td> <td>3           </td> <td>1            </td> <td>nan         </td> <td>2           </td> <td>nan         </td> <td>nan         </td> <td>nan          </td> <td>nan          </td> <td>4            </td> <td>nan          </td> <td>5            </td> <td>nan          </td> <td>nan         </td> <td>nan       </td> <td>Very knowledgeable      </td> <td>Very knowledgeable      </td>\n",
       "        </tr>\n",
       "        <tr>\n",
       "            <td>Arts & Humanities,Social Sciences</td> <td>Woman</td> <td>Other Hispanic/Latinx,White</td> <td>19  </td> <td>nan </td> <td>nan                   </td> <td>nan    </td> <td>Scared          </td> <td>Community engagement</td> <td>nan       </td> <td>1    </td> <td>No; I do not know how</td> <td>Mostly Democrats  </td> <td>Yes </td> <td>No  </td> <td>Somewhat agree   </td> <td>Strongly agree   </td> <td>Strongly agree   </td> <td>3     </td> <td>Every couple of days </td> <td>Once a week</td> <td>Once a week          </td> <td>Very important</td> <td>Very important</td> <td>Very important</td> <td>Very important</td> <td>Moderately important</td> <td>Very important      </td> <td>Very important</td> <td>Very important      </td> <td>Very important      </td> <td>Very important      </td> <td>nan           </td> <td>nan        </td> <td>Facebook,Other,Washington Post,New York Times,Time </td> <td>1           </td> <td>nan          </td> <td>4           </td> <td>nan         </td> <td>nan         </td> <td>3           </td> <td>nan          </td> <td>nan          </td> <td>nan          </td> <td>nan          </td> <td>5            </td> <td>nan          </td> <td>2           </td> <td>Snapchat  </td> <td>Very knowledgeable      </td> <td>Very knowledgeable      </td>\n",
       "        </tr>\n",
       "        <tr>\n",
       "            <td>Arts & Humanities,Business       </td> <td>Man  </td> <td>Mexican American/Chicanx   </td> <td>20  </td> <td>Yes </td> <td>Absentee / mail ballot</td> <td>Clinton</td> <td>Sad,Scared,Angry</td> <td>Voting              </td> <td>nan       </td> <td>nan  </td> <td>Yes; it was counted  </td> <td>Only Democrats    </td> <td>No  </td> <td>No  </td> <td>Strongly disagree</td> <td>Strongly disagree</td> <td>Strongly disagree</td> <td>1     </td> <td>Every couple of days </td> <td>Once a week</td> <td>Never                </td> <td>Very important</td> <td>Very important</td> <td>Very important</td> <td>Very important</td> <td>Very important      </td> <td>Very important      </td> <td>Very important</td> <td>Very important      </td> <td>Very important      </td> <td>Very important      </td> <td>Not important </td> <td>nan        </td> <td>Twitter,Facebook,CNN,Fox News,New York Times       </td> <td>2           </td> <td>1            </td> <td>5           </td> <td>3           </td> <td>4           </td> <td>nan         </td> <td>nan          </td> <td>nan          </td> <td>nan          </td> <td>nan          </td> <td>nan          </td> <td>nan          </td> <td>nan         </td> <td>nan       </td> <td>Very knowledgeable      </td> <td>Moderately knowledgeable</td>\n",
       "        </tr>\n",
       "    </tbody>\n",
       "</table>\n",
       "<p>... (541 rows omitted)</p>"
      ],
      "text/plain": [
       "<IPython.core.display.HTML object>"
      ]
     },
     "metadata": {},
     "output_type": "display_data"
    }
   ],
   "source": [
    "data.show(6)"
   ]
  },
  {
   "cell_type": "markdown",
   "metadata": {},
   "source": [
    "### 1. Calculate missing value proportion for each question"
   ]
  },
  {
   "cell_type": "code",
   "execution_count": 11,
   "metadata": {},
   "outputs": [],
   "source": [
    "# for questions whose answer only saved in one column in the table\n",
    "single_questions = ['Q5', 'Q7', 'Q8', 'Q9', 'Q15', 'Q16', 'Q17', 'Q20',  'Q23', 'Q29_1', 'Q31',\n",
    "            'Q55', 'Q35', 'Q36', 'Q40_1', 'Q40_2', 'Q40_3', \n",
    "            'Q41_23', 'Q42_1', 'Q42_2', 'Q42_3', \n",
    "            'Q43_1', 'Q43_2', 'Q43_3', 'Q43_4', 'Q43_5', 'Q43_6', 'Q43_7', \n",
    "            'Q43_8', 'Q43_9', 'Q43_10', 'Q43_11', 'Q47_1',  'Q47_2']\n",
    "\n",
    "# only question 44 is not a single answer question "
   ]
  },
  {
   "cell_type": "markdown",
   "metadata": {},
   "source": [
    "#### notes:\n",
    "1. people who answer 'other' in Q23 filled out Q23_5_TEXT. This means that Q23 is sufficient to use for analyzing missing value and choices distribution. If we are interested in the answers for'other', we can dig into Q23_5_TEXT to analyze the text. For now, we use the column 'Q23' to represent question 23. \n",
    "\n",
    "2. Q43_11 is a question, indicating other political issues. The specific pilitical question the response answered is in the column Q43_11_TEXT. The analysis is silimiar to above. \n",
    "\n",
    "3. how to deal with Q44? Each person who took the survey rank the top 5 ways to get the daily news. Not everyone has 5 answers for this question, some respondants only give their top 1, top 3. Use the column 'Q44_0_GROUP' can check response rate, other 'Q44_0_#' clumns use to check the average rank for a specific platform that people use to get the news. "
   ]
  },
  {
   "cell_type": "code",
   "execution_count": 12,
   "metadata": {},
   "outputs": [
    {
     "data": {
      "text/html": [
       "<table border=\"1\" class=\"dataframe\">\n",
       "    <thead>\n",
       "        <tr>\n",
       "            <th>questions</th> <th>missing_prop</th>\n",
       "        </tr>\n",
       "    </thead>\n",
       "    <tbody>\n",
       "        <tr>\n",
       "            <td>Q5       </td> <td>0           </td>\n",
       "        </tr>\n",
       "        <tr>\n",
       "            <td>Q7       </td> <td>0           </td>\n",
       "        </tr>\n",
       "        <tr>\n",
       "            <td>Q8       </td> <td>0.01        </td>\n",
       "        </tr>\n",
       "        <tr>\n",
       "            <td>Q9       </td> <td>0.01        </td>\n",
       "        </tr>\n",
       "        <tr>\n",
       "            <td>Q15      </td> <td>0.52        </td>\n",
       "        </tr>\n",
       "        <tr>\n",
       "            <td>Q16      </td> <td>0.54        </td>\n",
       "        </tr>\n",
       "        <tr>\n",
       "            <td>Q17      </td> <td>0.56        </td>\n",
       "        </tr>\n",
       "        <tr>\n",
       "            <td>Q20      </td> <td>0.07        </td>\n",
       "        </tr>\n",
       "        <tr>\n",
       "            <td>Q23      </td> <td>0.08        </td>\n",
       "        </tr>\n",
       "        <tr>\n",
       "            <td>Q29_1    </td> <td>0.57        </td>\n",
       "        </tr>\n",
       "    </tbody>\n",
       "</table>\n",
       "<p>... (24 rows omitted)</p>"
      ],
      "text/plain": [
       "questions | missing_prop\n",
       "Q5        | 0\n",
       "Q7        | 0\n",
       "Q8        | 0.01\n",
       "Q9        | 0.01\n",
       "Q15       | 0.52\n",
       "Q16       | 0.54\n",
       "Q17       | 0.56\n",
       "Q20       | 0.07\n",
       "Q23       | 0.08\n",
       "Q29_1     | 0.57\n",
       "... (24 rows omitted)"
      ]
     },
     "execution_count": 12,
     "metadata": {},
     "output_type": "execute_result"
    }
   ],
   "source": [
    "# calculate the missing value for each question in the da\n",
    "missing_proportion = np.array([float(dc.missing_proportion(data, column)) for column in single_questions])\n",
    "\n",
    "miss_tbl = Table().with_columns([\"questions\", single_questions,\n",
    "                                 \"missing_prop\", missing_proportion])\n",
    "miss_tbl"
   ]
  },
  {
   "cell_type": "code",
   "execution_count": 13,
   "metadata": {},
   "outputs": [
    {
     "data": {
      "text/html": [
       "<table border=\"1\" class=\"dataframe\">\n",
       "    <thead>\n",
       "        <tr>\n",
       "            <th>questions</th> <th>missing_prop</th>\n",
       "        </tr>\n",
       "    </thead>\n",
       "    <tbody>\n",
       "        <tr>\n",
       "            <td>Q15      </td> <td>0.52        </td>\n",
       "        </tr>\n",
       "        <tr>\n",
       "            <td>Q16      </td> <td>0.54        </td>\n",
       "        </tr>\n",
       "        <tr>\n",
       "            <td>Q17      </td> <td>0.56        </td>\n",
       "        </tr>\n",
       "        <tr>\n",
       "            <td>Q29_1    </td> <td>0.57        </td>\n",
       "        </tr>\n",
       "        <tr>\n",
       "            <td>Q31      </td> <td>0.32        </td>\n",
       "        </tr>\n",
       "        <tr>\n",
       "            <td>Q55      </td> <td>0.34        </td>\n",
       "        </tr>\n",
       "        <tr>\n",
       "            <td>Q43_11   </td> <td>0.65        </td>\n",
       "        </tr>\n",
       "    </tbody>\n",
       "</table>"
      ],
      "text/plain": [
       "questions | missing_prop\n",
       "Q15       | 0.52\n",
       "Q16       | 0.54\n",
       "Q17       | 0.56\n",
       "Q29_1     | 0.57\n",
       "Q31       | 0.32\n",
       "Q55       | 0.34\n",
       "Q43_11    | 0.65"
      ]
     },
     "execution_count": 13,
     "metadata": {},
     "output_type": "execute_result"
    },
    {
     "data": {
      "text/plain": [
       "7"
      ]
     },
     "execution_count": 13,
     "metadata": {},
     "output_type": "execute_result"
    },
    {
     "data": {
      "text/plain": [
       "0.20588235294117646"
      ]
     },
     "execution_count": 13,
     "metadata": {},
     "output_type": "execute_result"
    }
   ],
   "source": [
    "miss_tbl.where('missing_prop', are.above(0.3))\n",
    "miss_tbl.where('missing_prop', are.above(0.3)).num_rows\n",
    "miss_tbl.where('missing_prop', are.above(0.3)).num_rows / miss_tbl.num_rows\n"
   ]
  },
  {
   "cell_type": "markdown",
   "metadata": {},
   "source": [
    "### Analysis\n",
    "\n",
    "1. The above missing proportion shows that there are 4 quesions that are more than 30% missing values. This missing proportion is reasonable. Q16, Q17 are only shown to the people who vote in the 2016 presidential elections. Q29 was only answered by those who registered for the first time in 2018 or re-registered. Q43_11 is 'Other' political issues. I believe many people would just check the given answer. So the misssing rate for the questions that we are interested in is in a reasonable range. \n",
    "2. There is no missing value/ blanks in Q5 and Q7 \n",
    "3. All questions that are used as independent variables have very low missing rate except Q41. "
   ]
  },
  {
   "cell_type": "code",
   "execution_count": 14,
   "metadata": {},
   "outputs": [
    {
     "data": {
      "text/html": [
       "<table border=\"1\" class=\"dataframe\">\n",
       "    <thead>\n",
       "        <tr>\n",
       "            <th>Q15</th>\n",
       "        </tr>\n",
       "    </thead>\n",
       "    <tbody>\n",
       "        <tr>\n",
       "            <td>Yes </td>\n",
       "        </tr>\n",
       "        <tr>\n",
       "            <td>Yes </td>\n",
       "        </tr>\n",
       "        <tr>\n",
       "            <td>None</td>\n",
       "        </tr>\n",
       "        <tr>\n",
       "            <td>No  </td>\n",
       "        </tr>\n",
       "        <tr>\n",
       "            <td>None</td>\n",
       "        </tr>\n",
       "        <tr>\n",
       "            <td>Yes </td>\n",
       "        </tr>\n",
       "        <tr>\n",
       "            <td>Yes </td>\n",
       "        </tr>\n",
       "        <tr>\n",
       "            <td>Yes </td>\n",
       "        </tr>\n",
       "        <tr>\n",
       "            <td>None</td>\n",
       "        </tr>\n",
       "        <tr>\n",
       "            <td>Yes </td>\n",
       "        </tr>\n",
       "    </tbody>\n",
       "</table>\n",
       "<p>... (537 rows omitted)</p>"
      ],
      "text/plain": [
       "Q15\n",
       "Yes\n",
       "Yes\n",
       "None\n",
       "No\n",
       "None\n",
       "Yes\n",
       "Yes\n",
       "Yes\n",
       "None\n",
       "Yes\n",
       "... (537 rows omitted)"
      ]
     },
     "execution_count": 14,
     "metadata": {},
     "output_type": "execute_result"
    },
    {
     "data": {
      "text/plain": [
       "0.52"
      ]
     },
     "execution_count": 14,
     "metadata": {},
     "output_type": "execute_result"
    },
    {
     "data": {
      "text/plain": [
       "0.04936014625228519"
      ]
     },
     "execution_count": 14,
     "metadata": {},
     "output_type": "execute_result"
    },
    {
     "data": {
      "text/plain": [
       "0.43327239488117003"
      ]
     },
     "execution_count": 14,
     "metadata": {},
     "output_type": "execute_result"
    }
   ],
   "source": [
    "# Q15: Did you vote in the 2016 presidential elections?\n",
    "# the proportion of response who did not vote in 2016 --> missing value for Q16 and Q17 \n",
    "data.select('Q15')\n",
    "dc.missing_proportion(data, 'Q15')\n",
    "data.select('Q15').where('Q15', 'No').num_rows / data.num_rows\n",
    "data.select('Q15').where('Q15', 'Yes').num_rows / data.num_rows"
   ]
  },
  {
   "cell_type": "code",
   "execution_count": 15,
   "metadata": {},
   "outputs": [
    {
     "data": {
      "text/plain": [
       "0.42778793418647165"
      ]
     },
     "execution_count": 15,
     "metadata": {},
     "output_type": "execute_result"
    }
   ],
   "source": [
    "# This is the proportion who would skip Q 10 - 19 \n",
    "age18_19 = data.select('Q9').where('Q9', are.equal_to('18') | are.equal_to('19'))\n",
    "age18_19.num_rows / data.num_rows"
   ]
  },
  {
   "cell_type": "markdown",
   "metadata": {},
   "source": [
    "#### Analysis:\n",
    "1. this shows that the missing values for Q 10 - 19 most come from Q9. If the participants who are under 20, they cannot vote and thus they would skip those questions by default in the survey. We have about 43% of the responses are under 20 years old. The missing value for Q 15 is about 52%. Thus there are actually about 10% of the participants who see queation 15, 16, 17 but not answered. "
   ]
  },
  {
   "cell_type": "markdown",
   "metadata": {},
   "source": [
    "### 2. Fill out non-serious responses\n",
    "1. who only answer the first couple of questions and left all others blank\n",
    "\n",
    "Some students may not feel comfortable to give personal information, such as age, race, sexuality and major. But they might still answer other questions in the survey. Thus, considering the format of this survey, we do not delete rows where it contains missing values, because otherwise we may lose many useful data, resulting an insufficient data analysis. Meanwhile, there might be some responses who only filled out the first a couple of questions and left all the following questions empty. We can delete those respons derectly in the data cleaning part. \n",
    "Note: since participants who are under 20 year old will skip question 10 to 20, thus we only count those who only finish up to question 9 as non-serious responses. \n",
    "\n",
    "2. who always choose the first answer\n"
   ]
  },
  {
   "cell_type": "markdown",
   "metadata": {},
   "source": [
    "1. since we are intersted in some of the survey questions, here we filter out participants who answered none of those questions. Thus, for this purpose, we use the smaller tabel that we selected above. To filter out those who only answered the first of couple of questions and did not answer the core survey questions, we set a threshhold. The threshold here is the question from which participants did not answer any of the following questions. Here, we choose question 16, which is the smallest question number in the survey that we "
   ]
  },
  {
   "cell_type": "code",
   "execution_count": 16,
   "metadata": {},
   "outputs": [
    {
     "data": {
      "text/html": [
       "<table border=\"1\" class=\"dataframe\">\n",
       "    <thead>\n",
       "        <tr>\n",
       "            <th>Q5</th> <th>Q7</th> <th>Q8</th> <th>Q9</th> <th>Q15</th> <th>Q16</th> <th>Q17</th> <th>Q20</th> <th>Q23</th> <th>Q23_5_TEXT</th> <th>Q29_1</th> <th>Q31</th> <th>Q55</th> <th>Q35</th> <th>Q36</th> <th>Q40_1</th> <th>Q40_2</th> <th>Q40_3</th> <th>Q41_23</th> <th>Q42_1</th> <th>Q42_2</th> <th>Q42_3</th> <th>Q43_1</th> <th>Q43_2</th> <th>Q43_3</th> <th>Q43_4</th> <th>Q43_5</th> <th>Q43_6</th> <th>Q43_7</th> <th>Q43_8</th> <th>Q43_9</th> <th>Q43_10</th> <th>Q43_11</th> <th>Q43_11_TEXT</th> <th>Q44_0_GROUP</th> <th>Q44_0_1_RANK</th> <th>Q44_0_15_RANK</th> <th>Q44_0_4_RANK</th> <th>Q44_0_5_RANK</th> <th>Q44_0_6_RANK</th> <th>Q44_0_9_RANK</th> <th>Q44_0_10_RANK</th> <th>Q44_0_11_RANK</th> <th>Q44_0_12_RANK</th> <th>Q44_0_13_RANK</th> <th>Q44_0_14_RANK</th> <th>Q44_0_16_RANK</th> <th>Q44_0_8_RANK</th> <th>Q44_8_TEXT</th> <th>Q47_1</th> <th>Q47_2</th>\n",
       "        </tr>\n",
       "    </thead>\n",
       "    <tbody>\n",
       "        <tr>\n",
       "            <td>Social Sciences             </td> <td>Woman</td> <td>White      </td> <td>21  </td> <td>Yes </td> <td>Polling station</td> <td>Trump</td> <td>Happy           </td> <td>Volunteering        </td> <td>nan       </td> <td>None </td> <td>No; I did not check  </td> <td>Mostly Republicans</td> <td>Yes </td> <td>No  </td> <td>Strongly disagree</td> <td>Strongly disagree</td> <td>Strongly disagree</td> <td>7     </td> <td>Once or twice a year </td> <td>Every day  </td> <td>Every day            </td> <td>Very important</td> <td>Very important</td> <td>Very important</td> <td>Very important</td> <td>Very important      </td> <td>Very important      </td> <td>Very important</td> <td>Very important      </td> <td>Very important      </td> <td>Very important      </td> <td>None  </td> <td>nan        </td> <td>Fox News,New York Times,CBS,Twitter,CNN            </td> <td>nan         </td> <td>4            </td> <td>2           </td> <td>5           </td> <td>1           </td> <td>nan         </td> <td>3            </td> <td>nan          </td> <td>nan          </td> <td>nan          </td> <td>nan          </td> <td>nan          </td> <td>nan         </td> <td>nan       </td> <td>Moderately knowledgeable</td> <td>Slightly knowledgeable </td>\n",
       "        </tr>\n",
       "        <tr>\n",
       "            <td>Engineering/Computer Science</td> <td>Man  </td> <td>White      </td> <td>20  </td> <td>Yes </td> <td>Polling station</td> <td>Trump</td> <td>None            </td> <td>Volunteering        </td> <td>nan       </td> <td>3    </td> <td>No; I do not know how</td> <td>Mostly Republicans</td> <td>No  </td> <td>No  </td> <td>Somewhat agree   </td> <td>Somewhat disagree</td> <td>Somewhat disagree</td> <td>7     </td> <td>Once or twice a month</td> <td>Once a week</td> <td>Never                </td> <td>Very important</td> <td>Important     </td> <td>Important     </td> <td>Important     </td> <td>Moderately important</td> <td>Moderately important</td> <td>Important     </td> <td>Moderately important</td> <td>Moderately important</td> <td>Moderately important</td> <td>None  </td> <td>nan        </td> <td>nan                                                </td> <td>nan         </td> <td>nan          </td> <td>nan         </td> <td>nan         </td> <td>nan         </td> <td>nan         </td> <td>nan          </td> <td>nan          </td> <td>nan          </td> <td>nan          </td> <td>nan          </td> <td>nan          </td> <td>nan         </td> <td>nan       </td> <td>Slightly knowledgeable  </td> <td>Very knowledgeable     </td>\n",
       "        </tr>\n",
       "        <tr>\n",
       "            <td>Social Sciences             </td> <td>Woman</td> <td>Asian,White</td> <td>18  </td> <td>None</td> <td>None           </td> <td>None </td> <td>Sad,Scared,Angry</td> <td>Community engagement</td> <td>nan       </td> <td>None </td> <td>Yes; it was counted  </td> <td>Only Democrats    </td> <td>Yes </td> <td>No  </td> <td>Strongly agree   </td> <td>Strongly agree   </td> <td>Somewhat agree   </td> <td>2     </td> <td>Every day            </td> <td>Every day  </td> <td>Once or twice a month</td> <td>Very important</td> <td>Very important</td> <td>Very important</td> <td>Important     </td> <td>Important           </td> <td>Very important      </td> <td>Very important</td> <td>Important           </td> <td>Important           </td> <td>Important           </td> <td>None  </td> <td>nan        </td> <td>CNN,New York Times,Twitter,Facebook,Washington Post</td> <td>4           </td> <td>3            </td> <td>2           </td> <td>1           </td> <td>nan         </td> <td>5           </td> <td>nan          </td> <td>nan          </td> <td>nan          </td> <td>nan          </td> <td>nan          </td> <td>nan          </td> <td>nan         </td> <td>nan       </td> <td>Extremely knowledgeable </td> <td>Extremely knowledgeable</td>\n",
       "        </tr>\n",
       "    </tbody>\n",
       "</table>\n",
       "<p>... (544 rows omitted)</p>"
      ],
      "text/plain": [
       "<IPython.core.display.HTML object>"
      ]
     },
     "metadata": {},
     "output_type": "display_data"
    }
   ],
   "source": [
    "data.show(3)\n"
   ]
  },
  {
   "cell_type": "code",
   "execution_count": 17,
   "metadata": {},
   "outputs": [
    {
     "data": {
      "text/plain": [
       "5.6672760511883"
      ]
     },
     "execution_count": 17,
     "metadata": {},
     "output_type": "execute_result"
    }
   ],
   "source": [
    "# check who miss Q8 and Q9 also miss the rest of the questions, \n",
    "# because some of them do not feel comfortable to answer race and age\n",
    "\n",
    "cleaned_data = dc.drop_nonserious_rows(data, 'Q16')\n",
    "100 * (data.num_rows - cleaned_data.num_rows) / data.num_rows\n"
   ]
  },
  {
   "cell_type": "markdown",
   "metadata": {},
   "source": [
    "### Analysis:\n",
    "\n",
    "About 5.6% of the response who did not answer the main part of the survey. It is a resonable proportion of non-serious response in the survey data."
   ]
  },
  {
   "cell_type": "markdown",
   "metadata": {},
   "source": [
    "## clean and organize independent variable columns \n",
    "\n",
    "### 1. Deal with survey questions that have more than one selection\n",
    "1. Q5: we assume their first selection is their primary major.\n",
    "2. Q8: Let’s create one new “Mixed Race” category and put in that bin everyone who picked more than one."
   ]
  },
  {
   "cell_type": "code",
   "execution_count": 18,
   "metadata": {
    "scrolled": true
   },
   "outputs": [
    {
     "data": {
      "text/html": [
       "<table border=\"1\" class=\"dataframe\">\n",
       "    <thead>\n",
       "        <tr>\n",
       "            <th>Q5</th>\n",
       "        </tr>\n",
       "    </thead>\n",
       "    <tbody>\n",
       "        <tr>\n",
       "            <td>Arts & Humanities,Business,Social Sciences</td>\n",
       "        </tr>\n",
       "        <tr>\n",
       "            <td>Arts & Humanities,Business                </td>\n",
       "        </tr>\n",
       "        <tr>\n",
       "            <td>Business                                  </td>\n",
       "        </tr>\n",
       "        <tr>\n",
       "            <td>Arts & Humanities                         </td>\n",
       "        </tr>\n",
       "        <tr>\n",
       "            <td>Business                                  </td>\n",
       "        </tr>\n",
       "        <tr>\n",
       "            <td>Business                                  </td>\n",
       "        </tr>\n",
       "        <tr>\n",
       "            <td>Engineering/Computer Science              </td>\n",
       "        </tr>\n",
       "        <tr>\n",
       "            <td>Engineering/Computer Science              </td>\n",
       "        </tr>\n",
       "        <tr>\n",
       "            <td>Social Sciences                           </td>\n",
       "        </tr>\n",
       "        <tr>\n",
       "            <td>Social Sciences                           </td>\n",
       "        </tr>\n",
       "    </tbody>\n",
       "</table>"
      ],
      "text/plain": [
       "Q5\n",
       "Arts & Humanities,Business,Social Sciences\n",
       "Arts & Humanities,Business\n",
       "Business\n",
       "Arts & Humanities\n",
       "Business\n",
       "Business\n",
       "Engineering/Computer Science\n",
       "Engineering/Computer Science\n",
       "Social Sciences\n",
       "Social Sciences"
      ]
     },
     "execution_count": 18,
     "metadata": {},
     "output_type": "execute_result"
    }
   ],
   "source": [
    "cleaned_data.select('Q5').take(range(20,30))"
   ]
  },
  {
   "cell_type": "code",
   "execution_count": 19,
   "metadata": {},
   "outputs": [
    {
     "data": {
      "text/html": [
       "<table border=\"1\" class=\"dataframe\">\n",
       "    <thead>\n",
       "        <tr>\n",
       "            <th>Q5</th> <th>Q7</th> <th>Q8</th> <th>Q9</th> <th>Q15</th> <th>Q16</th> <th>Q17</th> <th>Q20</th> <th>Q23</th> <th>Q23_5_TEXT</th> <th>Q29_1</th> <th>Q31</th> <th>Q55</th> <th>Q35</th> <th>Q36</th> <th>Q40_1</th> <th>Q40_2</th> <th>Q40_3</th> <th>Q41_23</th> <th>Q42_1</th> <th>Q42_2</th> <th>Q42_3</th> <th>Q43_1</th> <th>Q43_2</th> <th>Q43_3</th> <th>Q43_4</th> <th>Q43_5</th> <th>Q43_6</th> <th>Q43_7</th> <th>Q43_8</th> <th>Q43_9</th> <th>Q43_10</th> <th>Q43_11</th> <th>Q43_11_TEXT</th> <th>Q44_0_GROUP</th> <th>Q44_0_1_RANK</th> <th>Q44_0_15_RANK</th> <th>Q44_0_4_RANK</th> <th>Q44_0_5_RANK</th> <th>Q44_0_6_RANK</th> <th>Q44_0_9_RANK</th> <th>Q44_0_10_RANK</th> <th>Q44_0_11_RANK</th> <th>Q44_0_12_RANK</th> <th>Q44_0_13_RANK</th> <th>Q44_0_14_RANK</th> <th>Q44_0_16_RANK</th> <th>Q44_0_8_RANK</th> <th>Q44_8_TEXT</th> <th>Q47_1</th> <th>Q47_2</th>\n",
       "        </tr>\n",
       "    </thead>\n",
       "    <tbody>\n",
       "        <tr>\n",
       "            <td>Social Sciences             </td> <td>Woman</td> <td>White      </td> <td>21  </td> <td>Yes </td> <td>Polling station</td> <td>Trump</td> <td>Happy           </td> <td>Volunteering        </td> <td>None      </td> <td>None </td> <td>No; I did not check  </td> <td>Mostly Republicans</td> <td>Yes </td> <td>No  </td> <td>Strongly disagree</td> <td>Strongly disagree</td> <td>Strongly disagree</td> <td>7     </td> <td>Once or twice a year </td> <td>Every day  </td> <td>Every day            </td> <td>Very important</td> <td>Very important</td> <td>Very important</td> <td>Very important</td> <td>Very important      </td> <td>Very important      </td> <td>Very important</td> <td>Very important      </td> <td>Very important      </td> <td>Very important      </td> <td>None  </td> <td>None       </td> <td>Fox News,New York Times,CBS,Twitter,CNN            </td> <td>None        </td> <td>4            </td> <td>2           </td> <td>5           </td> <td>1           </td> <td>None        </td> <td>3            </td> <td>None         </td> <td>None         </td> <td>None         </td> <td>None         </td> <td>None         </td> <td>None        </td> <td>None      </td> <td>Moderately knowledgeable</td> <td>Slightly knowledgeable </td>\n",
       "        </tr>\n",
       "        <tr>\n",
       "            <td>Engineering/Computer Science</td> <td>Man  </td> <td>White      </td> <td>20  </td> <td>Yes </td> <td>Polling station</td> <td>Trump</td> <td>None            </td> <td>Volunteering        </td> <td>None      </td> <td>3    </td> <td>No; I do not know how</td> <td>Mostly Republicans</td> <td>No  </td> <td>No  </td> <td>Somewhat agree   </td> <td>Somewhat disagree</td> <td>Somewhat disagree</td> <td>7     </td> <td>Once or twice a month</td> <td>Once a week</td> <td>Never                </td> <td>Very important</td> <td>Important     </td> <td>Important     </td> <td>Important     </td> <td>Moderately important</td> <td>Moderately important</td> <td>Important     </td> <td>Moderately important</td> <td>Moderately important</td> <td>Moderately important</td> <td>None  </td> <td>None       </td> <td>None                                               </td> <td>None        </td> <td>None         </td> <td>None        </td> <td>None        </td> <td>None        </td> <td>None        </td> <td>None         </td> <td>None         </td> <td>None         </td> <td>None         </td> <td>None         </td> <td>None         </td> <td>None        </td> <td>None      </td> <td>Slightly knowledgeable  </td> <td>Very knowledgeable     </td>\n",
       "        </tr>\n",
       "        <tr>\n",
       "            <td>Social Sciences             </td> <td>Woman</td> <td>Asian,White</td> <td>18  </td> <td>None</td> <td>None           </td> <td>None </td> <td>Sad,Scared,Angry</td> <td>Community engagement</td> <td>None      </td> <td>None </td> <td>Yes; it was counted  </td> <td>Only Democrats    </td> <td>Yes </td> <td>No  </td> <td>Strongly agree   </td> <td>Strongly agree   </td> <td>Somewhat agree   </td> <td>2     </td> <td>Every day            </td> <td>Every day  </td> <td>Once or twice a month</td> <td>Very important</td> <td>Very important</td> <td>Very important</td> <td>Important     </td> <td>Important           </td> <td>Very important      </td> <td>Very important</td> <td>Important           </td> <td>Important           </td> <td>Important           </td> <td>None  </td> <td>None       </td> <td>CNN,New York Times,Twitter,Facebook,Washington Post</td> <td>4           </td> <td>3            </td> <td>2           </td> <td>1           </td> <td>None        </td> <td>5           </td> <td>None         </td> <td>None         </td> <td>None         </td> <td>None         </td> <td>None         </td> <td>None         </td> <td>None        </td> <td>None      </td> <td>Extremely knowledgeable </td> <td>Extremely knowledgeable</td>\n",
       "        </tr>\n",
       "    </tbody>\n",
       "</table>\n",
       "<p>... (513 rows omitted)</p>"
      ],
      "text/plain": [
       "<IPython.core.display.HTML object>"
      ]
     },
     "metadata": {},
     "output_type": "display_data"
    }
   ],
   "source": [
    "dc.get_first_selection(cleaned_data, 'Q5').show(3)"
   ]
  },
  {
   "cell_type": "code",
   "execution_count": 20,
   "metadata": {},
   "outputs": [
    {
     "data": {
      "text/plain": [
       "True"
      ]
     },
     "execution_count": 20,
     "metadata": {},
     "output_type": "execute_result"
    }
   ],
   "source": [
    "pd.isnull(None)"
   ]
  },
  {
   "cell_type": "code",
   "execution_count": 21,
   "metadata": {},
   "outputs": [
    {
     "data": {
      "text/html": [
       "<table border=\"1\" class=\"dataframe\">\n",
       "    <thead>\n",
       "        <tr>\n",
       "            <th>Q5</th> <th>Q7</th> <th>Q8</th> <th>Q9</th> <th>Q15</th> <th>Q16</th> <th>Q17</th> <th>Q20</th> <th>Q23</th> <th>Q23_5_TEXT</th> <th>Q29_1</th> <th>Q31</th> <th>Q55</th> <th>Q35</th> <th>Q36</th> <th>Q40_1</th> <th>Q40_2</th> <th>Q40_3</th> <th>Q41_23</th> <th>Q42_1</th> <th>Q42_2</th> <th>Q42_3</th> <th>Q43_1</th> <th>Q43_2</th> <th>Q43_3</th> <th>Q43_4</th> <th>Q43_5</th> <th>Q43_6</th> <th>Q43_7</th> <th>Q43_8</th> <th>Q43_9</th> <th>Q43_10</th> <th>Q43_11</th> <th>Q43_11_TEXT</th> <th>Q44_0_GROUP</th> <th>Q44_0_1_RANK</th> <th>Q44_0_15_RANK</th> <th>Q44_0_4_RANK</th> <th>Q44_0_5_RANK</th> <th>Q44_0_6_RANK</th> <th>Q44_0_9_RANK</th> <th>Q44_0_10_RANK</th> <th>Q44_0_11_RANK</th> <th>Q44_0_12_RANK</th> <th>Q44_0_13_RANK</th> <th>Q44_0_14_RANK</th> <th>Q44_0_16_RANK</th> <th>Q44_0_8_RANK</th> <th>Q44_8_TEXT</th> <th>Q47_1</th> <th>Q47_2</th>\n",
       "        </tr>\n",
       "    </thead>\n",
       "    <tbody>\n",
       "        <tr>\n",
       "            <td>Social Sciences             </td> <td>Woman</td> <td>White                   </td> <td>21  </td> <td>Yes </td> <td>Polling station  </td> <td>Trump  </td> <td>Happy           </td> <td>Volunteering        </td> <td>None      </td> <td>None </td> <td>No; I did not check  </td> <td>Mostly Republicans</td> <td>Yes </td> <td>No  </td> <td>Strongly disagree</td> <td>Strongly disagree</td> <td>Strongly disagree</td> <td>7     </td> <td>Once or twice a year </td> <td>Every day  </td> <td>Every day            </td> <td>Very important</td> <td>Very important</td> <td>Very important</td> <td>Very important</td> <td>Very important      </td> <td>Very important      </td> <td>Very important</td> <td>Very important      </td> <td>Very important      </td> <td>Very important      </td> <td>None          </td> <td>None       </td> <td>Fox News,New York Times,CBS,Twitter,CNN            </td> <td>None        </td> <td>4            </td> <td>2           </td> <td>5           </td> <td>1           </td> <td>None        </td> <td>3            </td> <td>None         </td> <td>None         </td> <td>None         </td> <td>None         </td> <td>None         </td> <td>None        </td> <td>None      </td> <td>Moderately knowledgeable</td> <td>Slightly knowledgeable </td>\n",
       "        </tr>\n",
       "        <tr>\n",
       "            <td>Engineering/Computer Science</td> <td>Man  </td> <td>White                   </td> <td>20  </td> <td>Yes </td> <td>Polling station  </td> <td>Trump  </td> <td>None            </td> <td>Volunteering        </td> <td>None      </td> <td>3    </td> <td>No; I do not know how</td> <td>Mostly Republicans</td> <td>No  </td> <td>No  </td> <td>Somewhat agree   </td> <td>Somewhat disagree</td> <td>Somewhat disagree</td> <td>7     </td> <td>Once or twice a month</td> <td>Once a week</td> <td>Never                </td> <td>Very important</td> <td>Important     </td> <td>Important     </td> <td>Important     </td> <td>Moderately important</td> <td>Moderately important</td> <td>Important     </td> <td>Moderately important</td> <td>Moderately important</td> <td>Moderately important</td> <td>None          </td> <td>None       </td> <td>None                                               </td> <td>None        </td> <td>None         </td> <td>None        </td> <td>None        </td> <td>None        </td> <td>None        </td> <td>None         </td> <td>None         </td> <td>None         </td> <td>None         </td> <td>None         </td> <td>None         </td> <td>None        </td> <td>None      </td> <td>Slightly knowledgeable  </td> <td>Very knowledgeable     </td>\n",
       "        </tr>\n",
       "        <tr>\n",
       "            <td>Social Sciences             </td> <td>Woman</td> <td>Mixed Race              </td> <td>18  </td> <td>None</td> <td>None             </td> <td>None   </td> <td>Sad,Scared,Angry</td> <td>Community engagement</td> <td>None      </td> <td>None </td> <td>Yes; it was counted  </td> <td>Only Democrats    </td> <td>Yes </td> <td>No  </td> <td>Strongly agree   </td> <td>Strongly agree   </td> <td>Somewhat agree   </td> <td>2     </td> <td>Every day            </td> <td>Every day  </td> <td>Once or twice a month</td> <td>Very important</td> <td>Very important</td> <td>Very important</td> <td>Important     </td> <td>Important           </td> <td>Very important      </td> <td>Very important</td> <td>Important           </td> <td>Important           </td> <td>Important           </td> <td>None          </td> <td>None       </td> <td>CNN,New York Times,Twitter,Facebook,Washington Post</td> <td>4           </td> <td>3            </td> <td>2           </td> <td>1           </td> <td>None        </td> <td>5           </td> <td>None         </td> <td>None         </td> <td>None         </td> <td>None         </td> <td>None         </td> <td>None         </td> <td>None        </td> <td>None      </td> <td>Extremely knowledgeable </td> <td>Extremely knowledgeable</td>\n",
       "        </tr>\n",
       "        <tr>\n",
       "            <td>Life Sciences               </td> <td>Man  </td> <td>Mexican American/Chicanx</td> <td>20  </td> <td>No  </td> <td>I do not remember</td> <td>Clinton</td> <td>Sad             </td> <td>Volunteering        </td> <td>None      </td> <td>None </td> <td>None                 </td> <td>None              </td> <td>No  </td> <td>No  </td> <td>Somewhat agree   </td> <td>Somewhat agree   </td> <td>Somewhat agree   </td> <td>4     </td> <td>Once a week          </td> <td>Every day  </td> <td>Once or twice a year </td> <td>Very important</td> <td>Very important</td> <td>Very important</td> <td>Very important</td> <td>Very important      </td> <td>Very important      </td> <td>Very important</td> <td>Very important      </td> <td>Very important      </td> <td>Very important      </td> <td>Very important</td> <td>None       </td> <td>Twitter,CNN,Facebook,VICE,Time                     </td> <td>3           </td> <td>1            </td> <td>None        </td> <td>2           </td> <td>None        </td> <td>None        </td> <td>None         </td> <td>None         </td> <td>4            </td> <td>None         </td> <td>5            </td> <td>None         </td> <td>None        </td> <td>None      </td> <td>Very knowledgeable      </td> <td>Very knowledgeable     </td>\n",
       "        </tr>\n",
       "        <tr>\n",
       "            <td>Arts & Humanities           </td> <td>Woman</td> <td>Mixed Race              </td> <td>19  </td> <td>None</td> <td>None             </td> <td>None   </td> <td>Scared          </td> <td>Community engagement</td> <td>None      </td> <td>1    </td> <td>No; I do not know how</td> <td>Mostly Democrats  </td> <td>Yes </td> <td>No  </td> <td>Somewhat agree   </td> <td>Strongly agree   </td> <td>Strongly agree   </td> <td>3     </td> <td>Every couple of days </td> <td>Once a week</td> <td>Once a week          </td> <td>Very important</td> <td>Very important</td> <td>Very important</td> <td>Very important</td> <td>Moderately important</td> <td>Very important      </td> <td>Very important</td> <td>Very important      </td> <td>Very important      </td> <td>Very important      </td> <td>None          </td> <td>None       </td> <td>Facebook,Other,Washington Post,New York Times,Time </td> <td>1           </td> <td>None         </td> <td>4           </td> <td>None        </td> <td>None        </td> <td>3           </td> <td>None         </td> <td>None         </td> <td>None         </td> <td>None         </td> <td>5            </td> <td>None         </td> <td>2           </td> <td>Snapchat  </td> <td>Very knowledgeable      </td> <td>Very knowledgeable     </td>\n",
       "        </tr>\n",
       "    </tbody>\n",
       "</table>\n",
       "<p>... (511 rows omitted)</p>"
      ],
      "text/plain": [
       "<IPython.core.display.HTML object>"
      ]
     },
     "metadata": {},
     "output_type": "display_data"
    }
   ],
   "source": [
    "dc.get_mixed_category(cleaned_data, 'Q8', 'Race').show(5)"
   ]
  },
  {
   "cell_type": "markdown",
   "metadata": {},
   "source": [
    "### 2. convert text answer to numerical values  Q 40, 41, 42, 43, "
   ]
  },
  {
   "cell_type": "code",
   "execution_count": 23,
   "metadata": {},
   "outputs": [],
   "source": [
    "# convert Q40 to numerical values\n",
    "# Please do not run the cell more than once \n",
    "levels = [None, 'Strongly disagree', 'Somewhat disagree', 'Neutral', 'Somewhat agree', 'Strongly agree']\n",
    "dc.convert_degree_to_num(cleaned_data, 'Q40_1', levels)\n",
    "dc.convert_degree_to_num(cleaned_data, 'Q40_2', levels)\n",
    "dc.convert_degree_to_num(cleaned_data, 'Q40_3', levels)\n",
    "\n"
   ]
  },
  {
   "cell_type": "code",
   "execution_count": 26,
   "metadata": {},
   "outputs": [
    {
     "data": {
      "text/html": [
       "<table border=\"1\" class=\"dataframe\">\n",
       "    <thead>\n",
       "        <tr>\n",
       "            <th>Q40_1</th>\n",
       "        </tr>\n",
       "    </thead>\n",
       "    <tbody>\n",
       "        <tr>\n",
       "            <td>1    </td>\n",
       "        </tr>\n",
       "        <tr>\n",
       "            <td>4    </td>\n",
       "        </tr>\n",
       "        <tr>\n",
       "            <td>5    </td>\n",
       "        </tr>\n",
       "        <tr>\n",
       "            <td>4    </td>\n",
       "        </tr>\n",
       "        <tr>\n",
       "            <td>4    </td>\n",
       "        </tr>\n",
       "        <tr>\n",
       "            <td>1    </td>\n",
       "        </tr>\n",
       "        <tr>\n",
       "            <td>4    </td>\n",
       "        </tr>\n",
       "        <tr>\n",
       "            <td>5    </td>\n",
       "        </tr>\n",
       "        <tr>\n",
       "            <td>3    </td>\n",
       "        </tr>\n",
       "        <tr>\n",
       "            <td>4    </td>\n",
       "        </tr>\n",
       "    </tbody>\n",
       "</table>\n",
       "<p>... (506 rows omitted)</p>"
      ],
      "text/plain": [
       "Q40_1\n",
       "1\n",
       "4\n",
       "5\n",
       "4\n",
       "4\n",
       "1\n",
       "4\n",
       "5\n",
       "3\n",
       "4\n",
       "... (506 rows omitted)"
      ]
     },
     "execution_count": 26,
     "metadata": {},
     "output_type": "execute_result"
    }
   ],
   "source": [
    "# check converting result \n",
    "cleaned_data.select('Q40_1')"
   ]
  },
  {
   "cell_type": "code",
   "execution_count": 28,
   "metadata": {},
   "outputs": [
    {
     "data": {
      "text/plain": [
       "array(['Once or twice a year', 'Once or twice a month', 'Every day',\n",
       "       'Once a week', 'Every couple of days', 'Never', None], dtype=object)"
      ]
     },
     "execution_count": 28,
     "metadata": {},
     "output_type": "execute_result"
    }
   ],
   "source": [
    "pd.Series(data.column('Q42_1')).unique()"
   ]
  },
  {
   "cell_type": "code",
   "execution_count": 29,
   "metadata": {},
   "outputs": [],
   "source": [
    "# convert Q42 to numerical values\n",
    "# Please do not run the cell more than once \n",
    "levels = [None, 'Never', 'Once or twice a year', 'Once or twice a month', 'Once a week', 'Every couple of days', 'Every day']\n",
    "dc.convert_degree_to_num(cleaned_data, 'Q42_1', levels)\n",
    "dc.convert_degree_to_num(cleaned_data, 'Q42_2', levels)\n",
    "dc.convert_degree_to_num(cleaned_data, 'Q42_3', levels)\n",
    "\n"
   ]
  },
  {
   "cell_type": "code",
   "execution_count": 30,
   "metadata": {},
   "outputs": [
    {
     "data": {
      "text/plain": [
       "array(['Very important', 'Slightly important', 'Important',\n",
       "       'Moderately important', None, 'Not important'], dtype=object)"
      ]
     },
     "execution_count": 30,
     "metadata": {},
     "output_type": "execute_result"
    }
   ],
   "source": [
    "pd.Series(data.column('Q43_1')).unique()"
   ]
  },
  {
   "cell_type": "code",
   "execution_count": 31,
   "metadata": {},
   "outputs": [],
   "source": [
    "# convert Q43 to numerical values\n",
    "# Please do not run the cell more than once \n",
    "levels = [None, 'Not important', 'Slightly important', 'Moderately important', 'Important', 'Very important']\n",
    "dc.convert_degree_to_num(cleaned_data, 'Q43_1', levels)\n",
    "dc.convert_degree_to_num(cleaned_data, 'Q43_2', levels)\n",
    "dc.convert_degree_to_num(cleaned_data, 'Q43_3', levels)\n",
    "dc.convert_degree_to_num(cleaned_data, 'Q43_4', levels)\n",
    "dc.convert_degree_to_num(cleaned_data, 'Q43_5', levels)\n",
    "dc.convert_degree_to_num(cleaned_data, 'Q43_6', levels)\n",
    "dc.convert_degree_to_num(cleaned_data, 'Q43_7', levels)\n",
    "dc.convert_degree_to_num(cleaned_data, 'Q43_8', levels)\n",
    "dc.convert_degree_to_num(cleaned_data, 'Q43_9', levels)\n",
    "dc.convert_degree_to_num(cleaned_data, 'Q43_10', levels)\n",
    "dc.convert_degree_to_num(cleaned_data, 'Q43_11', levels)\n",
    "\n"
   ]
  },
  {
   "cell_type": "code",
   "execution_count": 32,
   "metadata": {},
   "outputs": [],
   "source": [
    "cleaned_data.to_csv('cleaned_data.csv')"
   ]
  },
  {
   "cell_type": "code",
   "execution_count": null,
   "metadata": {},
   "outputs": [],
   "source": []
  },
  {
   "cell_type": "code",
   "execution_count": null,
   "metadata": {},
   "outputs": [],
   "source": []
  },
  {
   "cell_type": "code",
   "execution_count": null,
   "metadata": {},
   "outputs": [],
   "source": []
  },
  {
   "cell_type": "markdown",
   "metadata": {},
   "source": [
    "### `one hot encoding` [notebook2]"
   ]
  },
  {
   "cell_type": "code",
   "execution_count": null,
   "metadata": {},
   "outputs": [],
   "source": [
    "b = pd.Series(data.column('Q7'))\n",
    "pdtbl = pd.get_dummies(b)\n",
    "Table.from_df(pdtbl)\n",
    "type(Table.from_df(pdtbl))"
   ]
  },
  {
   "cell_type": "markdown",
   "metadata": {},
   "source": [
    "[with_column](http://data8.org/datascience/_autosummary/datascience.tables.Table.with_column.html#datascience.tables.Table.with_column) method Return a new table with an additional or replaced column.\n",
    "\n"
   ]
  },
  {
   "cell_type": "markdown",
   "metadata": {},
   "source": [
    "### output the cleaned table to a csv and load it in the second notebook"
   ]
  },
  {
   "cell_type": "code",
   "execution_count": null,
   "metadata": {},
   "outputs": [],
   "source": []
  }
 ],
 "metadata": {
  "kernelspec": {
   "display_name": "Python 3",
   "language": "python",
   "name": "python3"
  },
  "language_info": {
   "codemirror_mode": {
    "name": "ipython",
    "version": 3
   },
   "file_extension": ".py",
   "mimetype": "text/x-python",
   "name": "python",
   "nbconvert_exporter": "python",
   "pygments_lexer": "ipython3",
   "version": "3.6.8"
  }
 },
 "nbformat": 4,
 "nbformat_minor": 2
}
