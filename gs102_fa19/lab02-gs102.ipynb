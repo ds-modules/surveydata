{
 "cells": [
  {
   "cell_type": "markdown",
   "metadata": {},
   "source": [
    "# GS 102 Survey Data Analysis"
   ]
  },
  {
   "cell_type": "markdown",
   "metadata": {},
   "source": [
    "### Professor Tiffany Page "
   ]
  },
  {
   "cell_type": "markdown",
   "metadata": {},
   "source": [
    "Now that you have collected some of your own survey data we are going to apply the analysis we learned in the data science modules earlier this semester to our own survey data! You will create bar charts using the demographic variables from our survey so that you can compare our sample with the larger UC Berkeley undergraduate population to determine the representativeness of our sample. You will create pivot tables with sets of variables and then create bar charts to visualize that data. You will then do some hypothesis testing. You will calculate p-values and determine whether there are any statistically significant associations. And, finally you will create word clouds for the open-ended survey questions.\n",
    "\n",
    "\n",
    "*Estimated Time: 2 hours*\n",
    "\n",
    "--------------------------------------------------------------------------------------------------------------------------------"
   ]
  },
  {
   "cell_type": "markdown",
   "metadata": {},
   "source": [
    "# Table of Contents \n",
    "\n",
    "1. <a href = '#section0'>The Data</a>\n",
    "\n",
    "\n",
    "2. <a href = '#section1'>Part I: Relationship between Demographic Factors and Presidential Choice</a>\n",
    "\n",
    "\n",
    "3. <a href = '#section2'>Part II: Significance Tests for Categorical Variables</a>\n",
    "\n",
    "    a. <a href = '#subsection2a'>Hypothesis Testing: The Basics</a>\n",
    "        \n",
    "    c. <a href = '#subsection2c'>Correlation vs. Causation</a>\n",
    "\n",
    "6. <a href = '#section5'>Part V: Analyzing Text Responses</a>\n",
    "\n",
    "\n",
    "7. <a href = '#section6'>Part VI: Bias in Surveys</a>\n",
    "\n",
    "\n",
    "8. <a href = '#section7'>Bibliography</a>"
   ]
  },
  {
   "cell_type": "markdown",
   "metadata": {},
   "source": [
    "# Topics Covered\n",
    " - Pivot Tables\n",
    " - Bar Charts \n",
    " - Significance Tests \n",
    " - Correlation vs. Causation\n",
    " - Bias in Survey Data"
   ]
  },
  {
   "cell_type": "markdown",
   "metadata": {},
   "source": [
    "##### Dependencies: (Run the cell below before continuing)"
   ]
  },
  {
   "cell_type": "code",
   "execution_count": null,
   "metadata": {},
   "outputs": [],
   "source": [
    "from datascience import *\n",
    "from utils import *\n",
    "import matplotlib.pyplot as plt\n",
    "import seaborn as sns\n",
    "import numpy as np\n",
    "import pandas as pd\n",
    "%matplotlib inline\n",
    "sns.set()\n",
    "import warnings\n",
    "warnings.filterwarnings(\"ignore\")"
   ]
  },
  {
   "cell_type": "markdown",
   "metadata": {},
   "source": [
    "### Part I: Relationship between Demographic Factors and Presidential Choice <a id = 'section1'></a>"
   ]
  },
  {
   "cell_type": "markdown",
   "metadata": {},
   "source": [
    "#### Exercise 1.1: Displaying Rows"
   ]
  },
  {
   "cell_type": "markdown",
   "metadata": {},
   "source": [
    "Let's get an idea of the data we're working with. \n",
    "\n",
    "Run the next cell to load the data and display the first three rows. Then, run the next two cells to see the number of columns and the number of rows in the data set."
   ]
  },
  {
   "cell_type": "code",
   "execution_count": null,
   "metadata": {},
   "outputs": [],
   "source": [
    "# load the data\n",
    "data = Table().read_table('survey.csv')\n",
    "# show the first 3 rows\n",
    "data.show(3)"
   ]
  },
  {
   "cell_type": "code",
   "execution_count": null,
   "metadata": {},
   "outputs": [],
   "source": [
    "# show the number of rows\n",
    "data.num_rows"
   ]
  },
  {
   "cell_type": "code",
   "execution_count": null,
   "metadata": {},
   "outputs": [],
   "source": [
    "# show the number of columns\n",
    "data.num_columns"
   ]
  },
  {
   "cell_type": "markdown",
   "metadata": {},
   "source": [
    "#### Exercise 1.2: Convert Numerical Values to Readable Text"
   ]
  },
  {
   "cell_type": "markdown",
   "metadata": {},
   "source": [
    "Run the next two cells to do some *data cleaning*. Here, we are going to take some actions to make the data easier for us and for the computer to use. First, we convert the numerical codes for each question's answers into readable text values. Then, we drop the rows with missing values."
   ]
  },
  {
   "cell_type": "code",
   "execution_count": null,
   "metadata": {},
   "outputs": [],
   "source": [
    "# convert the values of some of the columns to readable text\n",
    "for q in [\"Q2\", \"Q3\", \"Q4\"]:\n",
    "    convert_num_to_text(data, q, [\"0. None\", \"1. Once\", \"2. Twice\", \"3. Three or more times\"])\n",
    "convert_num_to_text(data, \"Q5\", [\"1. Significantly\", \"2. A little\", \"3. No\"])\n",
    "convert_num_to_text(data, \"Q6\", [\"Bennet\", \"Biden\", \"Booker\", \"Bullock\", \"Buttigieg\", \"Castro\", \"Delaney\",\n",
    "                                \"Gabbard\", \"Messam\", \"Sanders\", 'Harris', \"O'Rourke\", 'Ryan', 'Sestak', \n",
    "                                'Steyer', 'Trump', 'Walsh', 'Warren', 'Weld', 'Williamson', 'Yang', \n",
    "                                'Other', 'Undecided'])\n",
    "convert_num_to_text(data, \"Q8\", [\"Democrat\", \"Republican\", \"Libertarian\", \"Green\", \"Constitution\", \"Other\", \n",
    "                                 \"Independent\", \"I don't know\"])\n",
    "convert_num_to_text(data, \"Q9\", [\"1. <$30,000\", \"2. $30,000-49,999\", \"3. $50,000-74,999\", \"4. $75,000-99,999\",\n",
    "                                \"5. $100,000-149,999\", \"6. 150-000-$200,000\", \"7. More than $200,000\", \n",
    "                                \"8. Unknown\", \"9. Decline to state\"])\n",
    "convert_num_to_text(data, \"Q10\", [\"Southern California\", \"Northern California\", \"Another US state/territory\", \n",
    "                   \"Another Country\"])\n",
    "convert_num_to_text(data, \"Q11\", [\"Humanities\", \"Social Sciences\", \"Biological and Life Sciences\", \n",
    "                                 \"Physical Sciences\", \"Engineering\", \"Business\", \"Other\"])\n",
    "convert_num_to_text(data, \"Q12\", [\"Woman\", \"Man\", \"Non-binary\", \"Self-described\", \"Decline to state\"])\n",
    "convert_num_to_text(data, \"Q13\", [\"Christian\", \"Jewish\", \"Muslim\", \"Buddhist\", \"Hindu\", \"Other\",\n",
    "                                 \"Do not identify with religion/faith\", \"Decline to state\"])\n",
    "convert_num_to_text(data, \"Q14\", \n",
    "                    [\"African-American\", \"Native American\", \"Latinx\", \"Asian\", \"Middle Eastern\", \"White\", \"One or more\", \"Other\", \"Decline\"])\n",
    "# show the first three rows of the converted data\n",
    "data.show(3)"
   ]
  },
  {
   "cell_type": "code",
   "execution_count": null,
   "metadata": {},
   "outputs": [],
   "source": [
    "# drop free text response question columns and rows with missing values\n",
    "# this will allow our code to run smoothly when we analyze categorical data\n",
    "data = encode_nans_table(data)\n",
    "data = data.drop([c for c in data.column_labels if \"TEXT\" in c] + [\"Q7\", \"Q15\"])\n",
    "data = Table.from_df(data.to_df().dropna(axis=0))\n",
    "data.show(3)"
   ]
  },
  {
   "cell_type": "markdown",
   "metadata": {},
   "source": [
    "#### Exercise 1.3: Pivot Tables"
   ]
  },
  {
   "cell_type": "markdown",
   "metadata": {},
   "source": [
    "Pivot tables are useful to compare two categorical variables. Here's an example:"
   ]
  },
  {
   "cell_type": "code",
   "execution_count": null,
   "metadata": {},
   "outputs": [],
   "source": [
    "# create a pivot table with questions 8 and 5\n",
    "pivoted_data = data.pivot('Q8', 'Q5')\n",
    "pivoted_data"
   ]
  },
  {
   "cell_type": "markdown",
   "metadata": {},
   "source": [
    "Let's understand what's happening here. Within the first column, we have the possibilities for respondent political party alignment. Along the rest of the columns, we have the possibilities for whether their political views changed since attending UC Berkeley."
   ]
  },
  {
   "cell_type": "markdown",
   "metadata": {},
   "source": [
    "Because there are different numbers of respondents for each party, we need to convert the counts in the pivot table to proportions to make fair comparisons.\n",
    "\n",
    "The next cell uses the function `counts_to_proportions` to convert the pivot table into another pivot table with proportions. This function takes in a pivot table and returns a modified pivot table. "
   ]
  },
  {
   "cell_type": "code",
   "execution_count": null,
   "metadata": {},
   "outputs": [],
   "source": [
    "# make a pivot table with the proportions\n",
    "pivoted_proportions = counts_to_proportions(pivoted_data)\n",
    "pivoted_proportions"
   ]
  },
  {
   "cell_type": "markdown",
   "metadata": {},
   "source": [
    "**Question:** Describe what you see in the table."
   ]
  },
  {
   "cell_type": "markdown",
   "metadata": {},
   "source": [
    "**Answer:** [Click on this cell and write your answer here]"
   ]
  },
  {
   "cell_type": "markdown",
   "metadata": {},
   "source": [
    "**Question:** In the cell below, create pivot tables for other sets of variables and describe what the tables illustrate. You can copy and paste the code used to create the pivot tables above and change the variable names."
   ]
  },
  {
   "cell_type": "markdown",
   "metadata": {},
   "source": [
    "**Answer:** [Click on this cell and write your answer here]"
   ]
  },
  {
   "cell_type": "code",
   "execution_count": null,
   "metadata": {},
   "outputs": [],
   "source": [
    "# replace the ... with the names of the two questions you want to compare\n",
    "# remember to put the names inside quotation marks!\n",
    "my_pivoted_data = data.pivot(..., ...)\n",
    "\n",
    "# show your pivot table\n",
    "my_pivoted_data"
   ]
  },
  {
   "cell_type": "code",
   "execution_count": null,
   "metadata": {},
   "outputs": [],
   "source": [
    "# run this cell to create the pivot table with the proportions instead of the counts\n",
    "my_pivoted_proportions = counts_to_proportions(my_pivoted_data)\n",
    "my_pivoted_proportions"
   ]
  },
  {
   "cell_type": "markdown",
   "metadata": {},
   "source": [
    "**Question:** Now that you have a sense of the proportions of respondents in our sample that identified in each gender category, each racial category, each major, etc. compare the sample with summary statistics of the UCB undergraduate student population to determine the representativeness of our sample. Here are links that might help: https://opa.berkeley.edu/sites/default/files/ugprofile_2016-17_11april2018.pdf and https://diversity.berkeley.edu/reports-data/diversity-data-dashboard. Explain in what ways our sample is representative or not representative of the larger UCB undergraduate student population"
   ]
  },
  {
   "cell_type": "markdown",
   "metadata": {},
   "source": [
    "**Answer:** [Click on this cell and write your answer here]"
   ]
  },
  {
   "cell_type": "markdown",
   "metadata": {},
   "source": [
    "Awesome job! We're almost ready to start making inferences. The last step is to visualize our data. "
   ]
  },
  {
   "cell_type": "markdown",
   "metadata": {},
   "source": [
    "#### Exercise 1.4: Bar Charts"
   ]
  },
  {
   "cell_type": "markdown",
   "metadata": {},
   "source": [
    "Bar charts help us visualize data and identify patterns and outliers. The next cell creates a bar chart of the data we examined earlier in pivot tables, comparing question 5 (political view changes) with question 8 (party alignment).\n",
    "\n",
    "To make a bar plot, we can use the `barh` (horizontal bar plot) method on our proportions pivot table. The argument in the parentheses is the name of the second variable in the pivot table (the one that appears on top of the far-left column)."
   ]
  },
  {
   "cell_type": "code",
   "execution_count": null,
   "metadata": {},
   "outputs": [],
   "source": [
    "# create a bar plot\n",
    "pivoted_proportions.barh(\"Q5\")"
   ]
  },
  {
   "cell_type": "markdown",
   "metadata": {},
   "source": [
    "**Question:** What does this bar chart tell us about the distribution of the variable?"
   ]
  },
  {
   "cell_type": "markdown",
   "metadata": {},
   "source": [
    "**Answer:** [Click on this cell and write your answer here]"
   ]
  },
  {
   "cell_type": "markdown",
   "metadata": {},
   "source": [
    "**Question:** Calculate what percentage of total respondents’ views changed significantly, a little and not at all."
   ]
  },
  {
   "cell_type": "markdown",
   "metadata": {},
   "source": [
    "**Answer:** [Click on this cell and write your answer here]"
   ]
  },
  {
   "cell_type": "markdown",
   "metadata": {},
   "source": [
    "**Question:** In the cell below, create bar charts for the variables in the other pivot tables that you created."
   ]
  },
  {
   "cell_type": "markdown",
   "metadata": {},
   "source": [
    "**Answer:** [Click on this cell and write your answer here]"
   ]
  },
  {
   "cell_type": "markdown",
   "metadata": {},
   "source": [
    "**TASK:** Use the `barh` method to visualize the proportions of the earlier pivot table you created. This function takes in one argument in the parentheses: the name of the second variable you chose to pivot (hint: it's the variable that appears at the top of the far left column in your pivot table)."
   ]
  },
  {
   "cell_type": "code",
   "execution_count": null,
   "metadata": {},
   "outputs": [],
   "source": [
    "# replace the ... with the name of the second variable you chose\n",
    "# remember to put the name inside quotation marks!\n",
    "my_pivoted_proportions.barh(...)"
   ]
  },
  {
   "cell_type": "markdown",
   "metadata": {},
   "source": [
    "**Question:** What patterns or differences do you see? Why do you think that may be the case?"
   ]
  },
  {
   "cell_type": "markdown",
   "metadata": {},
   "source": [
    "**Answer:** [Click on this cell and write your answer here]"
   ]
  },
  {
   "cell_type": "markdown",
   "metadata": {},
   "source": [
    "#### Exercise 1.5: Processing Pipeline"
   ]
  },
  {
   "cell_type": "markdown",
   "metadata": {},
   "source": [
    "In data science, when you repeat a set of tasks to analyze a dataset, you are creating a *data processing pipeline*. \n",
    "\n",
    "Above, we compared two categorical variables by doing the following set of tasks:\n",
    "1. creating a pivot table\n",
    "2. turning the counts in the pivot table to proportions so we could make apples-to-apples comparisons\n",
    "3. visualizing the proportions in a bar plot\n",
    "\n",
    "It would be handy to quickly repeat these tasks for different combinations of variables. We can do that using Python. Run the next cell to make a function called `categorical_variable_relationship` which makes a function that will compare two categorical variables. The function takes three arguments: the Table with the data, and the names of the two variables to compare. It outputs a bar plot of the proportions of the two variables pivoted against one another.  "
   ]
  },
  {
   "cell_type": "code",
   "execution_count": null,
   "metadata": {},
   "outputs": [],
   "source": [
    "# run this cell to make the function\n",
    "def categorical_variable_relationship(table, first, second):\n",
    "    pivot = table.pivot(first, second)\n",
    "    proportion_pivot = counts_to_proportions(pivot)\n",
    "    proportion_pivot.barh(second, width=10, height=max(6, pivot.num_rows, pivot.num_columns))\n",
    "    plt.legend(labels=pivot.column_labels[1:], title=first, loc=2, bbox_to_anchor=(1.05, 1))"
   ]
  },
  {
   "cell_type": "markdown",
   "metadata": {},
   "source": [
    "As an example, in the next cell, the `categorical_variable_relationship` function is used to compare question 9 with question 2. Behind the scenes, the computer makes a pivot table and calculates the proportions, then shows us the bar graph."
   ]
  },
  {
   "cell_type": "code",
   "execution_count": null,
   "metadata": {},
   "outputs": [],
   "source": [
    "# visualize the relationship between Q9 and Q2 in a bar plot\n",
    "categorical_variable_relationship(data, 'Q9', 'Q2')"
   ]
  },
  {
   "cell_type": "markdown",
   "metadata": {},
   "source": [
    "**TASK**: Using the newly created `categorical_variable_relationship` function, plot a bar chart to find the relationship between two new categorical variables from the survey. Interpret the chart and write your findings below."
   ]
  },
  {
   "cell_type": "code",
   "execution_count": null,
   "metadata": {},
   "outputs": [],
   "source": [
    "# Replace the ... with the names of two categorical variables to compare\n",
    "# Remember to put the names inside quotation marks!\n",
    "categorical_variable_relationship(data, ..., ...)"
   ]
  },
  {
   "cell_type": "markdown",
   "metadata": {},
   "source": [
    "**Answer:** [Click on this cell and write your answer here]"
   ]
  },
  {
   "cell_type": "markdown",
   "metadata": {},
   "source": [
    "### Part II: Significance Tests for Categorical Variables <a id = 'section2'></a>"
   ]
  },
  {
   "cell_type": "markdown",
   "metadata": {},
   "source": [
    "So far, we've created pivot tables between categorical variables and plotted bar charts to compare distributions. Based on these charts, we were able to come up with *qualitative differences* between variables. For example, we can say that, based on the bar chart of student majors, there isn't an *even/equal* distribution of majors within our sample. We know this because some majors had much higher counts than the others (*potentially overrepresented*). \n",
    "\n",
    "\n",
    "\n",
    "\n",
    "\n",
    "\n",
    "However, how do we know that these differences are not due to *random chance* alone? To answer this question, we turn to **hypothesis testing** for categorical variables. "
   ]
  },
  {
   "cell_type": "markdown",
   "metadata": {},
   "source": [
    "### Hypothesis Testing: The Basics <a id = 'subsection2a'></a>"
   ]
  },
  {
   "cell_type": "markdown",
   "metadata": {},
   "source": [
    "Hypothesis tests are used when you observe some phenomena and want to know whether it happened by random chance alone or due to a specific cause. A *hypothesis* is an guess about the world, based on available evidence. We want to *test* between two different hypotheses:\n",
    "\n",
    "- The **Null** Hypothesis: My observation has arisen due to **random chance alone**. \n",
    "\n",
    "\n",
    "- The **Alternative** Hypothesis: My observation has arisen due to a cause **other** than random chance alone. \n",
    "\n",
    "Ex: I flip a coin 100 times and get 99 heads. I want to conduct a hypothesis test to check whether the coin is fair or not. The null hypothesis is that I got 99 heads due to random chance alone (that is, the coin is fair). The alterative hypothesis is that I got 99 heads due to something other than random chance (which may indicate the coin is not fair, but doesn't exclude other non-random-chance reasons for the result)."
   ]
  },
  {
   "cell_type": "markdown",
   "metadata": {},
   "source": [
    "### Step 1: Pivoting the Data\n",
    "\n",
    "First, we use the `Table` method `.pivot` with the appropriate ordering of column names to generate the pivot table shown earlier. Run the cell to save this into a name called `party_by_race`. \n",
    "\n",
    "The independent variable, or the variable that we believe influences the other, is race/ethnicity. This variable should be presented along the columns of our pivot table. The dependent variable (political party) should be placed along the rows of the pivot table. "
   ]
  },
  {
   "cell_type": "code",
   "execution_count": null,
   "metadata": {
    "scrolled": true
   },
   "outputs": [],
   "source": [
    "# create a pivot table comparing party and race/ethnicity\n",
    "party_by_race = data.pivot(\"Q14\", \"Q8\")\n",
    "party_by_race"
   ]
  },
  {
   "cell_type": "markdown",
   "metadata": {},
   "source": [
    "### Step 2: Adding Row and Column Totals\n",
    "\n",
    "In order to calculate the expected counts under our null hypothesis of independence, we need to calculate row and column totals.\n",
    "\n",
    "**Row totals** are horizontal sums added as the right-most column of the table. In this case, they would represent the total number of respondents from each racial/ethnic group in the dataset.\n",
    "\n",
    "**Column Totals** are vertical sums added as the bottom row of the table. In our example, they represent the total number of respondents who align themselves with each political party option.\n",
    "\n",
    "Run the next cell to create a table called `party_by_race_total` which adds a Row Total and Column Total to the `party_by_ethnicity` table. It uses the function `add_row_totals`, which takes in a pivot table and returns an updated version with the row totals. It also uses the function `add_column_totals`, which takes in a pivot table and returns an updated version with the column totals. "
   ]
  },
  {
   "cell_type": "code",
   "execution_count": null,
   "metadata": {},
   "outputs": [],
   "source": [
    "# calculate the row and column totals and add them to the Table\n",
    "party_by_race_totals = add_row_totals(party_by_race)\n",
    "party_by_race_totals = add_column_totals(party_by_race_totals)\n",
    "party_by_race_totals.show(11)"
   ]
  },
  {
   "cell_type": "markdown",
   "metadata": {},
   "source": [
    "The next cell uses a function called `get_p_value`. It takes a pivot table with row and column totals as its argument in the parentheses, and it outputs the p value."
   ]
  },
  {
   "cell_type": "code",
   "execution_count": null,
   "metadata": {},
   "outputs": [],
   "source": [
    "# calculate the p value\n",
    "get_p_value(party_by_race_totals)"
   ]
  },
  {
   "cell_type": "markdown",
   "metadata": {},
   "source": [
    "This last output is the **p-value**. This is a number which indicates the likelihood that your observations are consistent with the null hypothesis. In this case, our null hypothesis is that party choice and race/ethnicity are independent of each other. \n",
    "\n",
    "By convention, we say that:\n",
    "- If the p-value is less than or equal to 0.05 then, we can reject the null hypothesis. Essentially, what we are saying here is that a 1 in 20 chance of observing our test statistic is too unlikely for the null hypothesis to be true.\n",
    "- If the p-value is greater than 0.05, then we do not reject the null hypothesis.\n",
    "\n",
    "Rejecting the null hypothesis means that we have evidence that supports the alternative hypothesis. In either case, notice that *we never accept* that a hypothesis is true; *rather, we simply reject or fail to reject it.* "
   ]
  },
  {
   "cell_type": "markdown",
   "metadata": {},
   "source": [
    "**Question:** Explain what this p-value means. Be specific based on the variables considered."
   ]
  },
  {
   "cell_type": "markdown",
   "metadata": {},
   "source": [
    "**Answer:** [Click on this cell and write your answer here]"
   ]
  },
  {
   "cell_type": "markdown",
   "metadata": {},
   "source": [
    "### Another example\n",
    "Now, let's repeat the process with two different questions from the survey: race/ethnicity and the frequency of election discussion."
   ]
  },
  {
   "cell_type": "code",
   "execution_count": null,
   "metadata": {},
   "outputs": [],
   "source": [
    "# create the pivot table for the two questions\n",
    "discussion_by_race = data.pivot(\"Q14\", \"Q2\")\n",
    "discussion_by_race"
   ]
  },
  {
   "cell_type": "code",
   "execution_count": null,
   "metadata": {},
   "outputs": [],
   "source": [
    "# get the row totals for the pivot table\n",
    "discussion_by_race_totals = add_row_totals(discussion_by_race)\n",
    "discussion_by_race_totals = add_column_totals(discussion_by_race_totals)\n",
    "discussion_by_race_totals"
   ]
  },
  {
   "cell_type": "code",
   "execution_count": null,
   "metadata": {},
   "outputs": [],
   "source": [
    "# calculate the p-value\n",
    "get_p_value(discussion_by_race_totals)"
   ]
  },
  {
   "cell_type": "markdown",
   "metadata": {},
   "source": [
    "**Question:** Explain what this p-value means. Be specific based on the variables considered."
   ]
  },
  {
   "cell_type": "markdown",
   "metadata": {},
   "source": [
    "**Answer:** [Click on this cell and write your answer here]"
   ]
  },
  {
   "cell_type": "markdown",
   "metadata": {},
   "source": [
    "**Task:** Repeat this with other combinations of variables to determine which relationships are statistically significant. Using the data table, run a hypothesis test. Write down the null hypothesis. Make the pivot table. Calculate the row totals, then calculate the p-value. Interpret the result. "
   ]
  },
  {
   "cell_type": "markdown",
   "metadata": {},
   "source": [
    "*Null Hypothesis:* [Click on this cell and write your answer here]\n",
    "\n",
    "*Alternative Hypothesis:* [Click on this cell and write your answer here]"
   ]
  },
  {
   "cell_type": "code",
   "execution_count": null,
   "metadata": {},
   "outputs": [],
   "source": [
    "# create the pivot table for the two questions\n",
    "# TO DO: fill in the ... with the names of the questions you want to test\n",
    "# make sure you put the question names in quotation marks!\n",
    "my_pivot = data.pivot(..., ...)\n",
    "my_pivot"
   ]
  },
  {
   "cell_type": "code",
   "execution_count": null,
   "metadata": {},
   "outputs": [],
   "source": [
    "# get the row totals for the pivot table\n",
    "my_totals = add_row_totals(my_pivot)\n",
    "my_totals = add_column_totals(my_totals)\n",
    "my_totals"
   ]
  },
  {
   "cell_type": "code",
   "execution_count": null,
   "metadata": {},
   "outputs": [],
   "source": [
    "# calculate the p-value\n",
    "get_p_value(my_totals)"
   ]
  },
  {
   "cell_type": "markdown",
   "metadata": {},
   "source": [
    "**Question:** Should we reject or fail to reject the null hypothesis? Explain what it means to either reject or fail to reject the null hypothesis given the specific variables you are considering."
   ]
  },
  {
   "cell_type": "markdown",
   "metadata": {},
   "source": [
    "**Answer:** [Click on this cell and write your answer here]"
   ]
  },
  {
   "cell_type": "markdown",
   "metadata": {},
   "source": [
    "### Discussion: Correlation vs. Causation <a id = 'subsection2c'></a>"
   ]
  },
  {
   "cell_type": "markdown",
   "metadata": {},
   "source": [
    "In any class involving statistics, you may have heard the adage, *\"Correlation doesn't imply causation.\"* \n",
    "\n",
    "Let's clarify what that means and why it's so important. *Correlation* is the inter-relation in trends of two variables (ex: gender and political party). Whereas, *Causation* is an explicit statement that a change in one variable directly incites a change in the other variable (ex: smoking and respiratory illness). \n",
    "\n",
    "\n",
    "Let's look at some concrete examples of why correlation isn't the same as causation. For instance, there is a 95.8% correlation between the per capita consumption of mozzarella cheese and the number of Civil Engineering doctorates awarded in the US. Clearly, these are two completely unrelated events that aren't linked to one another. As such, we wouldn't use this correlation as evidence of causality between these variables. \n",
    "\n",
    "For more \"Spurious Correlations\", check out this link: https://www.tylervigen.com/spurious-correlations\n",
    "\n",
    "\n",
    "During hypothesis testing, we were able to find that the relationship between certain variables deviated significantly from the null hypothesis. Does this mean that one variable *causes* the other? No. To establish that relationship, we must gather more evidence.\n",
    "\n",
    "Typically, to establish a causal relationship between variables, you must perform a randomized controlled experiment. If you're interested in this topic, you can check out this link for more information: https://www.statisticssolutions.com/establishing-cause-and-effect/\n",
    "\n"
   ]
  },
  {
   "cell_type": "markdown",
   "metadata": {},
   "source": [
    "### Part V: Analyzing Text Responses <a id = 'section5'></a>"
   ]
  },
  {
   "cell_type": "markdown",
   "metadata": {},
   "source": [
    "So far, we've been dealing with survey data in the form of multiple choice questions or rankings. However, sometimes in a survey, you want to ask responders to enter text or multple responses for their answer. One example of this is the column **'Q15'** which is about the responder's final thoughts."
   ]
  },
  {
   "cell_type": "markdown",
   "metadata": {},
   "source": [
    "#### Exercise 5.1: Word Clouds"
   ]
  },
  {
   "cell_type": "markdown",
   "metadata": {},
   "source": [
    "To deal with data in the form of text, we can use word clouds. These data visualizations are commonly used when you want to display the most frequently occuring words in a piece of text. They work by counting the number of occurences of each word in a set of text, and then display each word proportionally to its frequency. Thus, more frequent words look bigger and vice versa. \n",
    "\n",
    "Here's an example using question 15. When we loaded the data the first time, we quickly dropped the columns with free text data so we could focus on analyzing the categorical data. Here, we're going to load only the questions that have free response text answers. Run the next cell to load the data."
   ]
  },
  {
   "cell_type": "code",
   "execution_count": null,
   "metadata": {},
   "outputs": [],
   "source": [
    "# load the text response data\n",
    "text_data = Table.read_table(\"survey_text_data.csv\")\n",
    "text_data"
   ]
  },
  {
   "cell_type": "markdown",
   "metadata": {},
   "source": [
    "We can then use the `create_word_cloud` function to make a word cloud. The first argument in the parentheses is the table of data, the second is the name of the column we want to visualize."
   ]
  },
  {
   "cell_type": "code",
   "execution_count": null,
   "metadata": {},
   "outputs": [],
   "source": [
    "# create a word cloud for question 15\n",
    "create_wordcloud(text_data, 'Q15')"
   ]
  },
  {
   "cell_type": "markdown",
   "metadata": {},
   "source": [
    "**Question:** Please describe what you conclude from the word cloud along with any qualifications that you have about your conclusions. "
   ]
  },
  {
   "cell_type": "markdown",
   "metadata": {},
   "source": [
    "**Answer:** [Click on this cell and write your answer here]"
   ]
  },
  {
   "cell_type": "markdown",
   "metadata": {},
   "source": [
    "**TASK:** Create a wordcloud for the column **\"Q7\"** using the `create_wordcloud` function, which takes in a table name and a column name containing text data. Write your observations below. "
   ]
  },
  {
   "cell_type": "code",
   "execution_count": null,
   "metadata": {},
   "outputs": [],
   "source": [
    "# make a word cloud by replacing the ... with the name of the correct column\n",
    "# make sure to put the column name in quotation marks!\n",
    "create_wordcloud(text_data, ...)"
   ]
  },
  {
   "cell_type": "markdown",
   "metadata": {},
   "source": [
    "**Question:** Please describe what you conclude from the word cloud along with any qualifications that you have about your conclusions. "
   ]
  },
  {
   "cell_type": "markdown",
   "metadata": {},
   "source": [
    "**Answer**: [Click on this cell and write your answer here]"
   ]
  },
  {
   "cell_type": "markdown",
   "metadata": {},
   "source": [
    "### Part VI: Bias in Surveys <a id = 'section6'></a>"
   ]
  },
  {
   "cell_type": "markdown",
   "metadata": {},
   "source": [
    "The goal of a survey is to provide information about a large population from a limited sample. In this notebook, we've gone quite in depth in how to analyze different variables present in a survey. However, we've operated under the assumption that our survey data was representative of the UC Berkeley student population. However, in the real world, data collection is messy and difficult. Thus, we must be aware of sources of bias that may be present in our data. Here are a few common sources of bias in survey data:\n",
    "\n",
    "- **Undercoverage bias**: Certain groups of the population are left out of the sample, leading to an *undercoverage* of responses in the sample\n",
    "\n",
    "\n",
    "- **Nonresponse bias**: If the survey is optional, then certain respondents may not complete it. This may lead to skewed data. \n",
    "\n",
    "\n",
    "- **Self-selection bias**: If sample members volunteer themselves to take the survey, it may be the case that they are passionate about the issues asked about. This usually leads to an over-representation of individuals with strong opinions in the survey.\n",
    "\n",
    "\n",
    "**TASK:** Given these sources of bias, do you see any problems with the methodology of our survey (including survey design, question wording, and distribution)? If you see any problems, what changes to our survey project would you make to fix them?\n"
   ]
  },
  {
   "cell_type": "markdown",
   "metadata": {},
   "source": [
    "**Answer:** [Click on this cell and write your answer here]\n",
    "\n",
    "--------------------------------------------------------------------------------------------------------------------------------"
   ]
  },
  {
   "cell_type": "markdown",
   "metadata": {},
   "source": [
    "## Bibliography <a id = 'section7'></a>\n",
    "\n",
    "• Caitlin Light - Adapted Chi-square case study. https://www.ling.upenn.edu/~clight/chisquared.htm\n",
    "\n",
    "• Tyler Vigen - Incorporated example of \"spurious\" correlation. https://www.tylervigen.com/spurious-correlations\n",
    "\n",
    "• Statistics Solutions - Referenced section on experimental design. https://www.statisticssolutions.com/establishing-cause-and-effect/\n",
    "\n",
    "• Stat Trek - Adapted material on sources of survey bias. https://stattrek.com/survey-research/survey-bias.aspx"
   ]
  },
  {
   "cell_type": "markdown",
   "metadata": {},
   "source": [
    "___\n",
    "### Getting extra help\n",
    "\n",
    "Interested in more help with learning Python or computational survey analysis? Check out  [Data Peer Consulting](https://data.berkeley.edu/education/data-peer-consulting) in Moffitt library for drop-in, one-on-one questions. For additional workshops designed for people new to computational analysis, take a look at the workshops at [The Dlab](https://dlab.berkeley.edu) (free for Berkeley students!). \n",
    "\n",
    "Good luck!"
   ]
  },
  {
   "cell_type": "markdown",
   "metadata": {},
   "source": [
    "------------------------------------------------------------------------------------------------------------------------\n",
    "\n",
    "### Feedback:\n",
    "Please let us know your thoughts on this notebook!\n",
    "\n",
    "Fill out the survey at this link: https://docs.google.com/forms/d/e/1FAIpQLSfahkYSKqlEEfC6WMKlaqeIxRVj0r7T4N5lgBf9bRVwRG58wQ/viewform"
   ]
  },
  {
   "cell_type": "markdown",
   "metadata": {},
   "source": [
    "#### Note to Students: \n",
    "If you would like to use the utility provided by the Data Science Education Program team, simply copy the `utils.py` script to the folder where you are creating your analysis notebook. Good luck!"
   ]
  },
  {
   "cell_type": "markdown",
   "metadata": {},
   "source": [
    "------------------------------------------------------------------------------------------------------------------------\n",
    "Notebook developed by: Ritvik Iyer, Jiaqi (Arianna) Guo, Monica Wilkinson\n",
    "\n",
    "Data Science Modules: http://data.berkeley.edu/education/modules"
   ]
  }
 ],
 "metadata": {
  "kernelspec": {
   "display_name": "Python 3",
   "language": "python",
   "name": "python3"
  },
  "language_info": {
   "codemirror_mode": {
    "name": "ipython",
    "version": 3
   },
   "file_extension": ".py",
   "mimetype": "text/x-python",
   "name": "python",
   "nbconvert_exporter": "python",
   "pygments_lexer": "ipython3",
   "version": "3.6.8"
  }
 },
 "nbformat": 4,
 "nbformat_minor": 2
}
