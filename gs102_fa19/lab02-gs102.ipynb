{
 "cells": [
  {
   "cell_type": "markdown",
   "metadata": {},
   "source": [
    "# GS 102 Survey Data Analysis"
   ]
  },
  {
   "cell_type": "markdown",
   "metadata": {},
   "source": [
    "### Professor Tiffany Page "
   ]
  },
  {
   "cell_type": "markdown",
   "metadata": {},
   "source": [
    "In this notebook, we will learn how to analyze survey data. Using the cleaned data from the last notebook, you will practice manipulating data tables, creating data visualizations, and interpreting results. You will also be introduced to basic concepts in statistical inference.\n",
    "\n",
    "\n",
    "*Estimated Time: 2 hours*\n",
    "\n",
    "--------------------------------------------------------------------------------------------------------------------------------"
   ]
  },
  {
   "cell_type": "markdown",
   "metadata": {},
   "source": [
    "# Table of Contents \n",
    "\n",
    "1. <a href = '#section0'>The Data</a>\n",
    "\n",
    "\n",
    "2. <a href = '#section1'>Part I: Relationship between Demographic Factors and Presidential Choice</a>\n",
    "\n",
    "\n",
    "3. <a href = '#section2'>Part II: Significance Tests for Categorical Variables</a>\n",
    "\n",
    "    a. <a href = '#subsection2a'>Hypothesis Testing: The Basics</a>\n",
    "    \n",
    "    b. <a href = '#subsection2b'>The Chi-square Test: A Case Study</a>\n",
    "    \n",
    "    c. <a href = '#subsection2c'>Correlation vs. Causation</a>\n",
    "\n",
    "6. <a href = '#section5'>Part V: Analyzing Text Responses</a>\n",
    "\n",
    "\n",
    "7. <a href = '#section6'>Part VI: Bias in Surveys</a>\n",
    "\n",
    "\n",
    "8. <a href = '#section7'>Bibliography</a>"
   ]
  },
  {
   "cell_type": "markdown",
   "metadata": {},
   "source": [
    "# Topics Covered\n",
    " - Pivot Tables\n",
    " - Bar Charts \n",
    " - Significance Tests and Chi-Square Goodness of Fit\n",
    " - Correlation vs. Causation\n",
    " - Bias in Survey Data"
   ]
  },
  {
   "cell_type": "markdown",
   "metadata": {},
   "source": [
    "##### Dependencies: (Run the cell below before continuing)"
   ]
  },
  {
   "cell_type": "code",
   "execution_count": 1,
   "metadata": {},
   "outputs": [],
   "source": [
    "from datascience import *\n",
    "from utils import *\n",
    "import matplotlib.pyplot as plt\n",
    "import seaborn as sns\n",
    "import numpy as np\n",
    "%matplotlib inline\n",
    "sns.set()\n",
    "import warnings\n",
    "warnings.filterwarnings(\"ignore\")"
   ]
  },
  {
   "cell_type": "markdown",
   "metadata": {},
   "source": [
    "### Part I: Relationship between Demographic Factors and Presidential Choice <a id = 'section1'></a>"
   ]
  },
  {
   "cell_type": "markdown",
   "metadata": {},
   "source": [
    "#### Exercise 1.1: Displaying Rows"
   ]
  },
  {
   "cell_type": "markdown",
   "metadata": {},
   "source": [
    "Let's get an idea of the data we're working with. \n",
    "\n",
    "Run the next cell to load the data and display the first three rows. Then, run the next two cells to see the number of columns and the number of rows in the data set."
   ]
  },
  {
   "cell_type": "code",
   "execution_count": 2,
   "metadata": {},
   "outputs": [
    {
     "data": {
      "text/html": [
       "<table border=\"1\" class=\"dataframe\">\n",
       "    <thead>\n",
       "        <tr>\n",
       "            <th>Q2</th> <th>Q3</th> <th>Q4</th> <th>Q5</th> <th>Q6</th> <th>Q7</th> <th>Q8</th> <th>Q9</th> <th>Q10</th> <th>Q11</th> <th>Q12</th> <th>Q13</th> <th>Q14</th>\n",
       "        </tr>\n",
       "    </thead>\n",
       "    <tbody>\n",
       "        <tr>\n",
       "            <td>2   </td> <td>1   </td> <td>4   </td> <td>3   </td> <td>18  </td> <td>climate change </td> <td>1   </td> <td>2   </td> <td>1   </td> <td>1   </td> <td>1   </td> <td>1   </td> <td>5   </td>\n",
       "        </tr>\n",
       "        <tr>\n",
       "            <td>3   </td> <td>3   </td> <td>4   </td> <td>2   </td> <td>18  </td> <td>immigration    </td> <td>1   </td> <td>3   </td> <td>3   </td> <td>2   </td> <td>1   </td> <td>7   </td> <td>6   </td>\n",
       "        </tr>\n",
       "        <tr>\n",
       "            <td>2   </td> <td>3   </td> <td>4   </td> <td>2   </td> <td>18  </td> <td>Climate change </td> <td>1   </td> <td>6   </td> <td>2   </td> <td>1   </td> <td>1   </td> <td>7   </td> <td>6   </td>\n",
       "        </tr>\n",
       "    </tbody>\n",
       "</table>\n",
       "<p>... (297 rows omitted)</p>"
      ],
      "text/plain": [
       "<IPython.core.display.HTML object>"
      ]
     },
     "metadata": {},
     "output_type": "display_data"
    }
   ],
   "source": [
    "# load the data\n",
    "data = Table().read_table('clean_survey.csv')\n",
    "# show the first 3 rows\n",
    "data.show(3)"
   ]
  },
  {
   "cell_type": "code",
   "execution_count": 3,
   "metadata": {},
   "outputs": [
    {
     "data": {
      "text/plain": [
       "300"
      ]
     },
     "execution_count": 3,
     "metadata": {},
     "output_type": "execute_result"
    }
   ],
   "source": [
    "# show the number of rows\n",
    "data.num_rows"
   ]
  },
  {
   "cell_type": "code",
   "execution_count": 4,
   "metadata": {},
   "outputs": [
    {
     "data": {
      "text/plain": [
       "13"
      ]
     },
     "execution_count": 4,
     "metadata": {},
     "output_type": "execute_result"
    }
   ],
   "source": [
    "# show the number of columns\n",
    "data.num_columns"
   ]
  },
  {
   "cell_type": "markdown",
   "metadata": {},
   "source": [
    "#### Exercise 1.2: Convert Numerical Values to Readable Text"
   ]
  },
  {
   "cell_type": "code",
   "execution_count": 5,
   "metadata": {},
   "outputs": [
    {
     "data": {
      "text/html": [
       "<table border=\"1\" class=\"dataframe\">\n",
       "    <thead>\n",
       "        <tr>\n",
       "            <th>Q2</th> <th>Q3</th> <th>Q4</th> <th>Q5</th> <th>Q6</th> <th>Q7</th> <th>Q8</th> <th>Q9</th> <th>Q10</th> <th>Q11</th> <th>Q12</th> <th>Q13</th> <th>Q14</th>\n",
       "        </tr>\n",
       "    </thead>\n",
       "    <tbody>\n",
       "        <tr>\n",
       "            <td>Once </td> <td>1   </td> <td>4   </td> <td>3. No      </td> <td>18  </td> <td>climate change </td> <td>Democrat</td> <td>2   </td> <td>1   </td> <td>1   </td> <td>1   </td> <td>1   </td> <td>Middle Eastern</td>\n",
       "        </tr>\n",
       "        <tr>\n",
       "            <td>Twice</td> <td>3   </td> <td>4   </td> <td>2. A little</td> <td>18  </td> <td>immigration    </td> <td>Democrat</td> <td>3   </td> <td>3   </td> <td>2   </td> <td>1   </td> <td>7   </td> <td>White         </td>\n",
       "        </tr>\n",
       "        <tr>\n",
       "            <td>Once </td> <td>3   </td> <td>4   </td> <td>2. A little</td> <td>18  </td> <td>Climate change </td> <td>Democrat</td> <td>6   </td> <td>2   </td> <td>1   </td> <td>1   </td> <td>7   </td> <td>White         </td>\n",
       "        </tr>\n",
       "    </tbody>\n",
       "</table>\n",
       "<p>... (297 rows omitted)</p>"
      ],
      "text/plain": [
       "<IPython.core.display.HTML object>"
      ]
     },
     "metadata": {},
     "output_type": "display_data"
    }
   ],
   "source": [
    "# convert the values of some of the columns to readable text\n",
    "convert_num_to_text(data, \"Q5\", [\"1. Significantly\", \"2. A little\", \"3. No\"])\n",
    "convert_num_to_text(data, \"Q8\", [\"Democrat\", \"Republican\", \"Libertarian\", \"Green\", \"Constitution\", \"Other\", \"Independent\", \"I don't know\"])\n",
    "convert_num_to_text(data, \"Q14\", \n",
    "                    [\"African-American\", \"Native American\", \"Latinx\", \"Asian\", \"Middle Eastern\", \"White\", \"One or more\", \"Other\", \"Decline\"])\n",
    "convert_num_to_text(data, \"Q2\", \n",
    "                    [\"None\", \"Once\", \"Twice\", \"Three or more times\"])\n",
    "# show the first three rows of the converted data\n",
    "data.show(3)"
   ]
  },
  {
   "cell_type": "markdown",
   "metadata": {},
   "source": [
    "#### Exercise 1.3: Pivot Tables"
   ]
  },
  {
   "cell_type": "code",
   "execution_count": 6,
   "metadata": {},
   "outputs": [
    {
     "data": {
      "text/html": [
       "<table border=\"1\" class=\"dataframe\">\n",
       "    <thead>\n",
       "        <tr>\n",
       "            <th>Q8</th> <th>1. Significantly</th> <th>2. A little</th> <th>3. No</th>\n",
       "        </tr>\n",
       "    </thead>\n",
       "    <tbody>\n",
       "        <tr>\n",
       "            <td>Constitution</td> <td>1               </td> <td>0          </td> <td>0    </td>\n",
       "        </tr>\n",
       "        <tr>\n",
       "            <td>Democrat    </td> <td>7               </td> <td>74         </td> <td>102  </td>\n",
       "        </tr>\n",
       "        <tr>\n",
       "            <td>Green       </td> <td>1               </td> <td>3          </td> <td>2    </td>\n",
       "        </tr>\n",
       "        <tr>\n",
       "            <td>I don't know</td> <td>2               </td> <td>13         </td> <td>13   </td>\n",
       "        </tr>\n",
       "        <tr>\n",
       "            <td>Independent </td> <td>5               </td> <td>23         </td> <td>25   </td>\n",
       "        </tr>\n",
       "        <tr>\n",
       "            <td>Libertarian </td> <td>0               </td> <td>3          </td> <td>2    </td>\n",
       "        </tr>\n",
       "        <tr>\n",
       "            <td>Other       </td> <td>1               </td> <td>0          </td> <td>6    </td>\n",
       "        </tr>\n",
       "        <tr>\n",
       "            <td>Republican  </td> <td>2               </td> <td>4          </td> <td>11   </td>\n",
       "        </tr>\n",
       "    </tbody>\n",
       "</table>"
      ],
      "text/plain": [
       "Q8           | 1. Significantly | 2. A little | 3. No\n",
       "Constitution | 1                | 0           | 0\n",
       "Democrat     | 7                | 74          | 102\n",
       "Green        | 1                | 3           | 2\n",
       "I don't know | 2                | 13          | 13\n",
       "Independent  | 5                | 23          | 25\n",
       "Libertarian  | 0                | 3           | 2\n",
       "Other        | 1                | 0           | 6\n",
       "Republican   | 2                | 4           | 11"
      ]
     },
     "execution_count": 6,
     "metadata": {},
     "output_type": "execute_result"
    }
   ],
   "source": [
    "# create a pivot table with questions 5 and 8\n",
    "pivoted_data = data.pivot('Q5', 'Q8')\n",
    "pivoted_data"
   ]
  },
  {
   "cell_type": "markdown",
   "metadata": {},
   "source": [
    "Let's understand what's happening here. Within the first column, we have the three possibilities for respondant political party alignment. Along the rest of the columns, we have the possibilities for whether their poltical views changed since attending UC Berkeley."
   ]
  },
  {
   "cell_type": "markdown",
   "metadata": {},
   "source": [
    "Because there are different numbers of respondants for each party, we need to convert the counts in the pivot table to proportions to make fair comparisons.\n",
    "\n",
    "**TASK:** Use the function `counts_to_proportions` to convert the pivot table into another pivot table with proportions. This function takes in a pivot table and returns a modified pivot table. "
   ]
  },
  {
   "cell_type": "code",
   "execution_count": 9,
   "metadata": {},
   "outputs": [
    {
     "data": {
      "text/html": [
       "<table border=\"1\" class=\"dataframe\">\n",
       "    <thead>\n",
       "        <tr>\n",
       "            <th>Q8</th> <th>1. Significantly</th> <th>2. A little</th> <th>3. No</th>\n",
       "        </tr>\n",
       "    </thead>\n",
       "    <tbody>\n",
       "        <tr>\n",
       "            <td>Constitution</td> <td>0.0526316       </td> <td>0          </td> <td>0        </td>\n",
       "        </tr>\n",
       "        <tr>\n",
       "            <td>Democrat    </td> <td>0.368421        </td> <td>0.616667   </td> <td>0.63354  </td>\n",
       "        </tr>\n",
       "        <tr>\n",
       "            <td>Green       </td> <td>0.0526316       </td> <td>0.025      </td> <td>0.0124224</td>\n",
       "        </tr>\n",
       "        <tr>\n",
       "            <td>I don't know</td> <td>0.105263        </td> <td>0.108333   </td> <td>0.0807453</td>\n",
       "        </tr>\n",
       "        <tr>\n",
       "            <td>Independent </td> <td>0.263158        </td> <td>0.191667   </td> <td>0.15528  </td>\n",
       "        </tr>\n",
       "        <tr>\n",
       "            <td>Libertarian </td> <td>0               </td> <td>0.025      </td> <td>0.0124224</td>\n",
       "        </tr>\n",
       "        <tr>\n",
       "            <td>Other       </td> <td>0.0526316       </td> <td>0          </td> <td>0.0372671</td>\n",
       "        </tr>\n",
       "        <tr>\n",
       "            <td>Republican  </td> <td>0.105263        </td> <td>0.0333333  </td> <td>0.068323 </td>\n",
       "        </tr>\n",
       "    </tbody>\n",
       "</table>"
      ],
      "text/plain": [
       "Q8           | 1. Significantly | 2. A little | 3. No\n",
       "Constitution | 0.0526316        | 0           | 0\n",
       "Democrat     | 0.368421         | 0.616667    | 0.63354\n",
       "Green        | 0.0526316        | 0.025       | 0.0124224\n",
       "I don't know | 0.105263         | 0.108333    | 0.0807453\n",
       "Independent  | 0.263158         | 0.191667    | 0.15528\n",
       "Libertarian  | 0                | 0.025       | 0.0124224\n",
       "Other        | 0.0526316        | 0           | 0.0372671\n",
       "Republican   | 0.105263         | 0.0333333   | 0.068323"
      ]
     },
     "execution_count": 9,
     "metadata": {},
     "output_type": "execute_result"
    }
   ],
   "source": [
    "# make a pivot table with the proportions\n",
    "pivoted_proportions = counts_to_proportions(pivoted_data)\n",
    "pivoted_proportions"
   ]
  },
  {
   "cell_type": "markdown",
   "metadata": {},
   "source": [
    "**Question:** Is this pivot table enough information to make conclusions about these two categories? Why or why not? "
   ]
  },
  {
   "cell_type": "markdown",
   "metadata": {},
   "source": [
    "**Answer:** [Click on this cell and write your answer here]"
   ]
  },
  {
   "cell_type": "markdown",
   "metadata": {},
   "source": [
    "Awesome job! We're almost ready to start making inferences. The last step is to visualize our data. "
   ]
  },
  {
   "cell_type": "markdown",
   "metadata": {},
   "source": [
    "#### Exercise 1.4: Bar Charts"
   ]
  },
  {
   "cell_type": "code",
   "execution_count": 7,
   "metadata": {},
   "outputs": [
    {
     "data": {
      "image/png": "[encoded data removed]",
      "text/plain": [
       "<Figure size 1296x432 with 1 Axes>"
      ]
     },
     "metadata": {},
     "output_type": "display_data"
    }
   ],
   "source": [
    "# create a bar plot\n",
    "plt.figure(figsize = (18, 6))\n",
    "plt.rcParams.update({'font.size': 15})\n",
    "sns.barplot(x = data.group('Q5').column('Q5'), y = data.group('Q5').column('count')); # Run this cell\n"
   ]
  },
  {
   "cell_type": "markdown",
   "metadata": {},
   "source": [
    "**Question:** What does this bar chart tell us about the distribution of the variable?"
   ]
  },
  {
   "cell_type": "markdown",
   "metadata": {},
   "source": [
    "**Answer:** [Click on this cell and write your answer here]"
   ]
  },
  {
   "cell_type": "markdown",
   "metadata": {},
   "source": [
    "**TASK:** Use the `plot_bar_chart` function to visualize the proportions of the earlier pivot table we created for one of the categories. This function takes in 4 arguments. First, enter the relevant pivot table. Next, enter a list containing the column name(s) you want to visualize. Additionally, enter a title for the chart. Finally, enter the variable of comparison."
   ]
  },
  {
   "cell_type": "code",
   "execution_count": 10,
   "metadata": {},
   "outputs": [
    {
     "data": {
      "image/png": "[encoded data removed]",
      "text/plain": [
       "<Figure size 1175.45x648 with 1 Axes>"
      ]
     },
     "metadata": {},
     "output_type": "display_data"
    }
   ],
   "source": [
    "# create a bar chart of the proportions pivot table we calculated earlier\n",
    "plot_bar_chart(pivoted_proportions, ['1. Significantly'],\n",
    "               'Change in political views by party',\n",
    "               'Change in political views')\n",
    "plt.xlabel('Party');"
   ]
  },
  {
   "cell_type": "markdown",
   "metadata": {},
   "source": [
    "**TASK:** Next, use the `plot_bar_chart` method to visualize the proportions of all categories."
   ]
  },
  {
   "cell_type": "code",
   "execution_count": 11,
   "metadata": {},
   "outputs": [
    {
     "data": {
      "image/png": "[encoded data removed]",
      "text/plain": [
       "<Figure size 1175.45x648 with 1 Axes>"
      ]
     },
     "metadata": {},
     "output_type": "display_data"
    }
   ],
   "source": [
    "# create a bar chart of all the proportions in the pivot table\n",
    "plot_bar_chart(pivoted_proportions, ['1. Significantly', '2. A little', '3. No'],\n",
    "               'Change in political views by party',\n",
    "               'Change in political views')\n",
    "plt.xlabel(\"Presidential Choice\");"
   ]
  },
  {
   "cell_type": "markdown",
   "metadata": {},
   "source": [
    "**Question:** What patterns or differences do you see? Why do you think that may be the case?"
   ]
  },
  {
   "cell_type": "markdown",
   "metadata": {},
   "source": [
    "**Answer:** [Click on this cell and write your answer here]"
   ]
  },
  {
   "cell_type": "markdown",
   "metadata": {},
   "source": [
    "#### Exercise 1.5: Processing Pipeline"
   ]
  },
  {
   "cell_type": "markdown",
   "metadata": {},
   "source": [
    "In data science, when you repeat a set of tasks to analyze a dataset, you are creating a *data processing pipeline*. \n",
    "\n",
    "We've now analyzed the relationship between a student's major and their choice of Presidential candidate. Let's extend our analysis to Gender Identity and Ethnicity as well. \n",
    "\n",
    "**TASK:** Write a function that takes in a table, two column names of categorical variables in the table, a title, and a category, and outputs a bar graph displaying the relationship between those variables. The first column name is the independent variable.\n",
    "\n",
    "**Hint:** This question requires you to follow the steps that we took before and apply them in a more general way. "
   ]
  },
  {
   "cell_type": "code",
   "execution_count": null,
   "metadata": {},
   "outputs": [],
   "source": [
    "def categorical_variable_relationship(table, first, second, title, category):\n",
    "    table = table.select([first, second])\n",
    "    table = drop_missing_rows(table, first)\n",
    "    table = drop_missing_rows(table, second)\n",
    "    pivot = table.pivot(first, second)\n",
    "    proportion_pivot = counts_to_proportions(pivot)\n",
    "    plot_bar_chart(proportion_pivot, proportion_pivot.labels[1:], title, category)"
   ]
  },
  {
   "cell_type": "markdown",
   "metadata": {},
   "source": [
    "**TASK:** Using your newly created `categorical_variable_relationship` function, plot a bar chart to find the relationship between Gender Identity **'Q7'** and Presidential vote **'Q17'**. Interpret the chart and write your findings below. "
   ]
  },
  {
   "cell_type": "code",
   "execution_count": null,
   "metadata": {},
   "outputs": [],
   "source": [
    "# categorical_variable_relationship(data,\n",
    "# 'Q7', 'Q17', 'Relationship between Gender Identity and Presidential Vote',\n",
    "#                                   'Gender Identity')\n",
    "# plt.xlabel(\"Presidential Choice\");"
   ]
  },
  {
   "cell_type": "markdown",
   "metadata": {},
   "source": [
    "**Answer:** [Click on this cell and write your answer here]"
   ]
  },
  {
   "cell_type": "markdown",
   "metadata": {},
   "source": [
    "**TASK**: Using your newly created `categorical_variable_relationship` function, plot a bar chart to find the relationship between Ethnic/Racial Identity **'Q8'** and Presidential vote **'Q17'**. Interpret the chart and write your findings below."
   ]
  },
  {
   "cell_type": "code",
   "execution_count": null,
   "metadata": {},
   "outputs": [],
   "source": [
    "# categorical_variable_relationship(data,\n",
    "#                                   'Q8', 'Q17', 'Relationship between Ethnic Identity and Presidential Vote',\n",
    "#                                   \"Ethnic/Racial Identity\")\n",
    "# plt.xlabel(\"Presidential Choice\");"
   ]
  },
  {
   "cell_type": "markdown",
   "metadata": {},
   "source": [
    "**Answer:** [Click on this cell and write your answer here]"
   ]
  },
  {
   "cell_type": "markdown",
   "metadata": {},
   "source": [
    "### Part II: Significance Tests for Categorical Variables <a id = 'section2'></a>"
   ]
  },
  {
   "cell_type": "markdown",
   "metadata": {},
   "source": [
    "So far, we've created pivot tables between categorical variables and plotted bar charts to compare distributions. Based on these charts, we were able to come up with *qualitative differences* between variables. For example, we can say that, based on the bar chart of student majors, there isn't an *even/equal* distribution of majors within our sample. We know this because some majors had much higher counts than the others (*potentially overrepresented*). \n",
    "\n",
    "\n",
    "\n",
    "\n",
    "\n",
    "\n",
    "However, how do we know that these differences are not due to *random chance* alone? To answer this question, we turn to **hypothesis testing** for categorical variables. "
   ]
  },
  {
   "cell_type": "markdown",
   "metadata": {},
   "source": [
    "### Hypothesis Testing: The Basics <a id = 'subsection2a'></a>"
   ]
  },
  {
   "cell_type": "markdown",
   "metadata": {},
   "source": [
    "Hypothesis tests are used when you observe some phenomena and want to know whether it happened by random chance alone or due to a specific cause. A *hypothesis* is an guess about the world, based on available evidence. We want to *test* between two different hypotheses:\n",
    "\n",
    "- The **Null** Hypothesis: My observation has arisen due to **random chance alone**. \n",
    "\n",
    "\n",
    "- The **Alternative** Hypothesis: My observation has arisen due to a cause **other** than random chance alone. \n",
    "\n",
    "Ex: I flip a coin 100 times and get 99 heads. I want to conduct a hypothesis test to check whether the coin is fair or not. What should my null and alternative hypothesis be?"
   ]
  },
  {
   "cell_type": "markdown",
   "metadata": {},
   "source": [
    "### Step 1: Pivoting the Data\n",
    "\n",
    "**TASK:** Use the `Table` method `.pivot` with the appropriate ordering of column names to generate the pivot table shown earlier. Save this into a name called `party_by_ethnicity`. \n",
    "\n",
    "Don't worry about the ordering of values; just make sure to have the correct values on the vertical and horizontal axis. "
   ]
  },
  {
   "cell_type": "code",
   "execution_count": null,
   "metadata": {
    "scrolled": true
   },
   "outputs": [],
   "source": [
    "party_by_ethnicity = data.pivot(\"Q8\", \"Q14\")\n",
    "party_by_ethnicity"
   ]
  },
  {
   "cell_type": "markdown",
   "metadata": {},
   "source": [
    "### Step 2: Adding Row and Column Totals\n",
    "\n",
    "In order to calculate the expected counts under our null hypothesis of independence, we need to calculate row and column totals.\n",
    "\n",
    "**Row totals** are horizontal sums added as the right-most column of the table. In this case, they would represent the total number of females and males in the dataset. \n",
    "\n",
    "**Column Totals** are vertical sums added as the bottom row of the table. In our example, they represent the total number of Democrats and Republicans. \n",
    "\n",
    "**TASK:** Create a table called `totals` which adds a Row Total and Column Total to the `party_by_ethnicity` table. Use the function `add_row_totals`, which takes in a pivot table and returns an updated version with the row totals. Also use the function `add_column_totals`, which takes in a pivot table and returns an updated version with the column totals. "
   ]
  },
  {
   "cell_type": "code",
   "execution_count": null,
   "metadata": {},
   "outputs": [],
   "source": [
    "totals = add_row_totals(party_by_ethnicity)\n",
    "totals = add_column_totals(totals)\n",
    "totals"
   ]
  },
  {
   "cell_type": "code",
   "execution_count": null,
   "metadata": {},
   "outputs": [],
   "source": [
    "chisquaretest(totals)['p-value']"
   ]
  },
  {
   "cell_type": "markdown",
   "metadata": {},
   "source": [
    "You may have noticed that there is another output called the **p-value**. This is a number which indicates the likelihood that your observations are consistent with the null hypothesis. In this case, our null hypothesis is that party choice and gender are independent of each other. \n",
    "\n",
    "By convention, we say that:\n",
    "- If the p-value is less than or equal to 0.05 then, we can reject the null hypothesis. Essentially, what we are saying here is that a 1 in 20 chance of observing our test statistic is too unlikely for the null hypothesis to be true.\n",
    "- If the p-value is greater than 0.05, then we do not reject the null hypothesis.\n",
    "\n",
    "Rejecting the null hypothesis means that we have evidence that supports the alternative hypothesis. In the case of Chi-square tests, it means that the two variables are inter-related. In either case, notice that *we never accept* that a hypothesis is true; *rather, we simply reject or fail to reject it.* "
   ]
  },
  {
   "cell_type": "markdown",
   "metadata": {},
   "source": [
    "### Another example\n",
    "Now, let's repeat the process with two different questions from the survey."
   ]
  },
  {
   "cell_type": "code",
   "execution_count": null,
   "metadata": {},
   "outputs": [],
   "source": [
    "# create the pivot table for the two questions\n",
    "discussion_by_ethnicity = data.pivot(\"Q2\", \"Q14\")\n",
    "discussion_by_ethnicity"
   ]
  },
  {
   "cell_type": "code",
   "execution_count": null,
   "metadata": {},
   "outputs": [],
   "source": [
    "# get the row totals for the pivot table\n",
    "totals2 = add_row_totals(discussion_by_ethnicity)\n",
    "totals2 = add_column_totals(totals2)\n",
    "totals2"
   ]
  },
  {
   "cell_type": "code",
   "execution_count": null,
   "metadata": {},
   "outputs": [],
   "source": [
    "# calculate the p-value\n",
    "chisquaretest(totals2)['p-value']"
   ]
  },
  {
   "cell_type": "markdown",
   "metadata": {},
   "source": [
    "Now, let's apply what we've learned to our dataset. \n",
    "\n",
    "**Task:** Using the `data` table, let's run a hypothesis test. Write down the null hypothesis. Make the pivot table. Calculate the row totals, then calculate the p-value. Interpret the result. Should we *reject or fail to reject the null hypothesis?*"
   ]
  },
  {
   "cell_type": "markdown",
   "metadata": {},
   "source": [
    "*Null Hypothesis:* [Click on this cell and write your answer here]\n",
    "\n",
    "*Alternative Hypothesis:* [Click on this cell and write your answer here]"
   ]
  },
  {
   "cell_type": "markdown",
   "metadata": {},
   "source": [
    "**Answer:** [Click on this cell and write your answer here]"
   ]
  },
  {
   "cell_type": "code",
   "execution_count": null,
   "metadata": {},
   "outputs": [],
   "source": [
    "# create the pivot table for the two questions\n",
    "# TO DO: fill in the ... with the names of the questions you want to test\n",
    "# make sure you put the question names in quotation marks\n",
    "my_pivot = data.pivot(..., ...)\n",
    "my_pivot"
   ]
  },
  {
   "cell_type": "code",
   "execution_count": null,
   "metadata": {},
   "outputs": [],
   "source": [
    "# get the row totals for the pivot table\n",
    "my_totals = add_row_totals(my_pivot)\n",
    "my_totals = add_column_totals(my_totals)\n",
    "my_totals"
   ]
  },
  {
   "cell_type": "code",
   "execution_count": null,
   "metadata": {},
   "outputs": [],
   "source": [
    "# calculate the p-value\n",
    "chisquaretest(my_totals)['p-value']"
   ]
  },
  {
   "cell_type": "markdown",
   "metadata": {},
   "source": [
    "### Discussion: Correlation vs. Causation <a id = 'subsection2c'></a>"
   ]
  },
  {
   "cell_type": "markdown",
   "metadata": {},
   "source": [
    "In any class involving statistics, you may have heard the adage, *\"Correlation doesn't imply causation.\"* \n",
    "\n",
    "Let's clarify what that means and why it's so important. *Correlation* is the inter-relation in trends of two variables (ex: gender and political party). Whereas, *Causation* is an explicit statement that a change in one variable directly incites a change in the other variable (ex: smoking and respiratory illness). \n",
    "\n",
    "\n",
    "Let's look at some concrete examples of why correlation isn't the same as causation. For instance, there is a 95.8% correlation between the per capita consumption of mozzarella cheese and the number of Civil Engineering doctorates awarded in the US. Clearly, these are two completely unrelated events that aren't linked to one another. As such, we wouldn't use this correlation as evidence of causality between these variables. \n",
    "\n",
    "For more \"Spurious Correlations\", check out this link: https://www.tylervigen.com/spurious-correlations\n",
    "\n",
    "\n",
    "In our discussion of Chi-square tests, we were able to find that the relationship between certain variables (ie. major and presidential voting choice) deviated significantly from the null hypothesis. Does this mean that major *causes* the choice in presidential candidates? No. To establish that relationship, we must gather more evidence.\n",
    "\n",
    "Typically, to establish a causal relationship between variables, you must perform a randomized controlled experiment. If you're interested in this topic, you can check out this link for more information: https://www.statisticssolutions.com/establishing-cause-and-effect/\n",
    "\n"
   ]
  },
  {
   "cell_type": "markdown",
   "metadata": {},
   "source": [
    "### Part V: Analyzing Text Responses <a id = 'section5'></a>"
   ]
  },
  {
   "cell_type": "markdown",
   "metadata": {},
   "source": [
    "So far, we've been dealing with survey data in the form of multiple choice questions or rankings. However, sometimes in a survey, you want to ask responders to enter text or multple responses for their answer. One example of this is the column **'Q20'** which is about the responder's reaction to the result of the 2016 election."
   ]
  },
  {
   "cell_type": "markdown",
   "metadata": {},
   "source": [
    "#### Exercise 5.1: Word Clouds"
   ]
  },
  {
   "cell_type": "markdown",
   "metadata": {},
   "source": [
    "To deal with data in the form of text, we can use word cloud. These data visualizations are commonly used when you want to display the most frequently occuring words in a piece of text. They work by counting the number of occurences of each word in a set of text, and then display each word proportionally to its frequency. Thus, more frequent words look bigger and vice versa. \n",
    "\n",
    "**TASK:** Create a wordcloud for the column **\"Q23_5_TEXT\"** using the `create_wordcloud` function, which takes in a table name and a column name containing text data. Write your observations below. "
   ]
  },
  {
   "cell_type": "code",
   "execution_count": null,
   "metadata": {},
   "outputs": [],
   "source": [
    "q15 = Table.read_table(\"survey.csv\").select(\"Q15\")\n",
    "q15_clean = drop_missing_rows(q15, \"Q15\")"
   ]
  },
  {
   "cell_type": "code",
   "execution_count": null,
   "metadata": {},
   "outputs": [],
   "source": [
    "create_wordcloud(q15_clean, 'Q15')"
   ]
  },
  {
   "cell_type": "code",
   "execution_count": null,
   "metadata": {},
   "outputs": [],
   "source": [
    "q7 = Table().with_columns(\"Q7\", data.column(\"Q7\"))\n",
    "create_wordcloud(q7, \"Q7\")"
   ]
  },
  {
   "cell_type": "markdown",
   "metadata": {},
   "source": [
    "**Answer**: [Click on this cell and write your answer here]"
   ]
  },
  {
   "cell_type": "markdown",
   "metadata": {},
   "source": [
    "### Part VI: Bias in Surveys <a id = 'section6'></a>"
   ]
  },
  {
   "cell_type": "markdown",
   "metadata": {},
   "source": [
    "The goal of a survey is to provide information about a large population from a limited sample. In this notebook, we've gone quite in depth in how to analyze different variables present in a survey. However, we've operated under the assumption that our survey data was representative of the UC Berkeley student population. However, in the real world, data collection is messy and difficult. Thus, we must be aware of sources of bias that may be present in our data. Here are a few common sources of bias in survey data:\n",
    "\n",
    "- **Undercoverage bias**: Certain groups of the population are left out of the sample, leading to an *undercoverage* of responses in the sample\n",
    "\n",
    "\n",
    "- **Nonresponse bias**: If the survey is optional, then certain respondants may not complete it. This may lead to skewed data. \n",
    "\n",
    "\n",
    "- **Self-selection bias**: If sample members volunteer themselves to take the survey, it may be the case that they are passionate about the issues asked about. This usually leads to an over-representation of individuals with strong opinions in the survey.\n",
    "\n",
    "\n",
    "**TASK:** Given these sources of bias, do you see any problems with the methodology of the Hill survey? If there are problems, what could you do to fix them? \n"
   ]
  },
  {
   "cell_type": "markdown",
   "metadata": {},
   "source": [
    "**Answer:** [Click on this cell and write your answer here]\n",
    "\n",
    "--------------------------------------------------------------------------------------------------------------------------------"
   ]
  },
  {
   "cell_type": "markdown",
   "metadata": {},
   "source": [
    "## Bibliography <a id = 'section7'></a>\n",
    "\n",
    "• Caitlin Light - Adapted Chi-square case study. https://www.ling.upenn.edu/~clight/chisquared.htm\n",
    "\n",
    "• Tyler Vigen - Incorporated example of \"spurious\" correlation. https://www.tylervigen.com/spurious-correlations\n",
    "\n",
    "• Statistics Solutions - Referenced section on experimental design. https://www.statisticssolutions.com/establishing-cause-and-effect/\n",
    "\n",
    "• Stat Trek - Adapted material on sources of survey bias. https://stattrek.com/survey-research/survey-bias.aspx"
   ]
  },
  {
   "cell_type": "markdown",
   "metadata": {},
   "source": [
    "___\n",
    "### Getting extra help\n",
    "\n",
    "Interested in more help with learning Python or computational survey analysis? Check out  [Data Peer Consulting](https://data.berkeley.edu/education/data-peer-consulting) in Moffitt library for drop-in, one-on-one questions. For additional workshops designed for people new to computational analysis, take a look at the workshops at [The Dlab](https://dlab.berkeley.edu) (free for Berkeley students!). \n",
    "\n",
    "Good luck!"
   ]
  },
  {
   "cell_type": "markdown",
   "metadata": {},
   "source": [
    "------------------------------------------------------------------------------------------------------------------------\n",
    "\n",
    "### Feedback:\n",
    "Please let us know your thoughts on this notebook!\n",
    "\n",
    "Fill out the survey at this link: https://docs.google.com/forms/d/e/1FAIpQLSfahkYSKqlEEfC6WMKlaqeIxRVj0r7T4N5lgBf9bRVwRG58wQ/viewform"
   ]
  },
  {
   "cell_type": "markdown",
   "metadata": {},
   "source": [
    "#### Note to Students: \n",
    "If you would like to use the utility provided by the Data Science Education Program team, simply copy the `utils.py` script to the folder where you are creating your analysis notebook. Good luck!"
   ]
  },
  {
   "cell_type": "markdown",
   "metadata": {},
   "source": [
    "------------------------------------------------------------------------------------------------------------------------\n",
    "Notebook developed by: Ritvik Iyer, Jiaqi (Arianna) Guo, Monica Wilkinson\n",
    "\n",
    "Data Science Modules: http://data.berkeley.edu/education/modules"
   ]
  }
 ],
 "metadata": {
  "kernelspec": {
   "display_name": "Python 3",
   "language": "python",
   "name": "python3"
  },
  "language_info": {
   "codemirror_mode": {
    "name": "ipython",
    "version": 3
   },
   "file_extension": ".py",
   "mimetype": "text/x-python",
   "name": "python",
   "nbconvert_exporter": "python",
   "pygments_lexer": "ipython3",
   "version": "3.6.8"
  }
 },
 "nbformat": 4,
 "nbformat_minor": 2
}
