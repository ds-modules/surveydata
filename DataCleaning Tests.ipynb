{
 "cells": [
  {
   "cell_type": "markdown",
   "metadata": {},
   "source": [
    "## Tests for Helper Class"
   ]
  },
  {
   "cell_type": "code",
   "execution_count": 1,
   "metadata": {},
   "outputs": [],
   "source": [
    "from datascience import * \n",
    "import pandas as pd \n",
    "import numpy as np\n",
    "from DataCleaning import *"
   ]
  },
  {
   "cell_type": "code",
   "execution_count": 2,
   "metadata": {},
   "outputs": [
    {
     "name": "stderr",
     "output_type": "stream",
     "text": [
      "C:\\Anaconda3\\lib\\site-packages\\datascience\\tables.py:107: FutureWarning: Table.from_columns_dict is deprecated. Use Table().with_columns(...)\n",
      "  warnings.warn(\"Table.from_columns_dict is deprecated. Use Table().with_columns(...)\", FutureWarning)\n"
     ]
    }
   ],
   "source": [
    "table1 = pd.DataFrame({\"first\":[1, np.nan, 3], \"second\":[1, 2, 3]})\n",
    "table2 = Table.from_columns_dict({\"first\":[1, np.nan, 3], \"second\":[1, 2, 3]})"
   ]
  },
  {
   "cell_type": "code",
   "execution_count": 3,
   "metadata": {},
   "outputs": [
    {
     "data": {
      "text/html": [
       "<div>\n",
       "<style scoped>\n",
       "    .dataframe tbody tr th:only-of-type {\n",
       "        vertical-align: middle;\n",
       "    }\n",
       "\n",
       "    .dataframe tbody tr th {\n",
       "        vertical-align: top;\n",
       "    }\n",
       "\n",
       "    .dataframe thead th {\n",
       "        text-align: right;\n",
       "    }\n",
       "</style>\n",
       "<table border=\"1\" class=\"dataframe\">\n",
       "  <thead>\n",
       "    <tr style=\"text-align: right;\">\n",
       "      <th></th>\n",
       "      <th>first</th>\n",
       "      <th>second</th>\n",
       "    </tr>\n",
       "  </thead>\n",
       "  <tbody>\n",
       "    <tr>\n",
       "      <th>0</th>\n",
       "      <td>1.0</td>\n",
       "      <td>1</td>\n",
       "    </tr>\n",
       "    <tr>\n",
       "      <th>1</th>\n",
       "      <td>NaN</td>\n",
       "      <td>2</td>\n",
       "    </tr>\n",
       "    <tr>\n",
       "      <th>2</th>\n",
       "      <td>3.0</td>\n",
       "      <td>3</td>\n",
       "    </tr>\n",
       "  </tbody>\n",
       "</table>\n",
       "</div>"
      ],
      "text/plain": [
       "   first  second\n",
       "0    1.0       1\n",
       "1    NaN       2\n",
       "2    3.0       3"
      ]
     },
     "execution_count": 3,
     "metadata": {},
     "output_type": "execute_result"
    }
   ],
   "source": [
    "table1 #toy dataset (DataFrame)"
   ]
  },
  {
   "cell_type": "code",
   "execution_count": 4,
   "metadata": {},
   "outputs": [
    {
     "data": {
      "text/html": [
       "<table border=\"1\" class=\"dataframe\">\n",
       "    <thead>\n",
       "        <tr>\n",
       "            <th>first</th> <th>second</th>\n",
       "        </tr>\n",
       "    </thead>\n",
       "    <tbody>\n",
       "        <tr>\n",
       "            <td>1    </td> <td>1     </td>\n",
       "        </tr>\n",
       "        <tr>\n",
       "            <td>nan  </td> <td>2     </td>\n",
       "        </tr>\n",
       "        <tr>\n",
       "            <td>3    </td> <td>3     </td>\n",
       "        </tr>\n",
       "    </tbody>\n",
       "</table>"
      ],
      "text/plain": [
       "first | second\n",
       "1     | 1\n",
       "nan   | 2\n",
       "3     | 3"
      ]
     },
     "execution_count": 4,
     "metadata": {},
     "output_type": "execute_result"
    }
   ],
   "source": [
    "table2 #toy dataset (Table)"
   ]
  },
  {
   "cell_type": "code",
   "execution_count": 5,
   "metadata": {},
   "outputs": [
    {
     "name": "stderr",
     "output_type": "stream",
     "text": [
      "C:\\Anaconda3\\lib\\site-packages\\datascience\\tables.py:132: FutureWarning: read_table is deprecated, use read_csv instead.\n",
      "  df = pandas.read_table(filepath_or_buffer, *args, **vargs)\n"
     ]
    },
    {
     "data": {
      "text/html": [
       "<table border=\"1\" class=\"dataframe\">\n",
       "    <thead>\n",
       "        <tr>\n",
       "            <th>StartDate</th> <th>EndDate</th> <th>Status</th> <th>IPAddress</th> <th>Progress</th> <th>Duration (in seconds)</th> <th>Finished</th> <th>RecordedDate</th> <th>ResponseId</th> <th>RecipientLastName</th> <th>RecipientFirstName</th> <th>RecipientEmail</th> <th>ExternalReference</th> <th>LocationLatitude</th> <th>LocationLongitude</th> <th>DistributionChannel</th> <th>UserLanguage</th> <th>Q1</th> <th>Q3</th> <th>Q4</th> <th>Q5</th> <th>Q6</th> <th>Q7</th> <th>Q8</th> <th>Q8_9_TEXT</th> <th>Q9</th> <th>Q10</th> <th>Q11</th> <th>Q11_4_TEXT</th> <th>Q12</th> <th>Q12_7_TEXT</th> <th>Q13</th> <th>Q14_1</th> <th>Q15</th> <th>Q56</th> <th>Q56_8_TEXT</th> <th>Q16</th> <th>Q17</th> <th>Q18</th> <th>Q19</th> <th>Q20</th> <th>Q20_7_TEXT</th> <th>Q21</th> <th>Q23</th> <th>Q23_5_TEXT</th> <th>Q24</th> <th>Q25</th> <th>Q25_7_TEXT</th> <th>Q26_1</th> <th>Q26_2</th> <th>Q27</th> <th>Q27_9_TEXT</th> <th>Q28</th> <th>Q29_1</th> <th>Q30</th> <th>Q31</th> <th>Q32</th> <th>Q32_1_TEXT</th> <th>Q32_2_TEXT</th> <th>Q32_3_TEXT</th> <th>Q33</th> <th>Q33_1_TEXT</th> <th>Q55</th> <th>Q34_1</th> <th>Q34_2</th> <th>Q34_3</th> <th>Q34_7</th> <th>Q34_6</th> <th>Q34_6_TEXT</th> <th>Q35</th> <th>Q36</th> <th>Q37</th> <th>Q39_1</th> <th>Q39_2</th> <th>Q39_3</th> <th>Q39_4</th> <th>Q39_5</th> <th>Q40_1</th> <th>Q40_2</th> <th>Q40_3</th> <th>Q41_23</th> <th>Q42_1</th> <th>Q42_2</th> <th>Q42_3</th> <th>Q43_1</th> <th>Q43_2</th> <th>Q43_3</th> <th>Q43_4</th> <th>Q43_5</th> <th>Q43_6</th> <th>Q43_7</th> <th>Q43_8</th> <th>Q43_9</th> <th>Q43_10</th> <th>Q43_11</th> <th>Q43_11_TEXT</th> <th>Q44_0_GROUP</th> <th>Q44_0_1_RANK</th> <th>Q44_0_15_RANK</th> <th>Q44_0_4_RANK</th> <th>Q44_0_5_RANK</th> <th>Q44_0_6_RANK</th> <th>Q44_0_9_RANK</th> <th>Q44_0_10_RANK</th> <th>Q44_0_11_RANK</th> <th>Q44_0_12_RANK</th> <th>Q44_0_13_RANK</th> <th>Q44_0_14_RANK</th> <th>Q44_0_16_RANK</th> <th>Q44_0_8_RANK</th> <th>Q44_8_TEXT</th> <th>Q45</th> <th>Q45_1_TEXT</th> <th>Q45_2_TEXT</th> <th>Q45_3_TEXT</th> <th>Q46</th> <th>Q46_1_TEXT</th> <th>Q46_2_TEXT</th> <th>Q46_3_TEXT</th> <th>Q47_1</th> <th>Q47_2</th> <th>Q48_1</th> <th>Q48_2</th> <th>Q48_3</th> <th>Q48_4</th> <th>Q49</th> <th>Q50</th> <th>Q50_1_TEXT</th> <th>Q50_2_TEXT</th> <th>Q51</th> <th>Q52</th> <th>Q52_1_TEXT</th>\n",
       "        </tr>\n",
       "    </thead>\n",
       "    <tbody>\n",
       "        <tr>\n",
       "            <td>Start Date                                          </td> <td>End Date                                          </td> <td>Response Type        </td> <td>IP Address              </td> <td>Progress               </td> <td>Duration (in seconds)  </td> <td>Finished               </td> <td>Recorded Date                                          </td> <td>Response ID             </td> <td>Recipient Last Name             </td> <td>Recipient First Name             </td> <td>Recipient Email              </td> <td>External Data Reference             </td> <td>Location Latitude              </td> <td>Location Longitude              </td> <td>Distribution Channel              </td> <td>User Language              </td> <td>Welcome! The purpose of this research project is to expl ...</td> <td>Which college(s) are you enrolled in?                       </td> <td>Are you a transfer student?</td> <td>Please select the group(s) that best apply to your major(s).</td> <td>Are you a California resident?</td> <td>Which gender do you best identify with?</td> <td>Check the box(es) of the race/ethnicity that you best id ...</td> <td>Check the box(es) of the race/ethnicity that you best id ...</td> <td>What is your age?   </td> <td>Did you attend any rallies for any presidential candidat ...</td> <td>How did you register to vote in 2016? - Selected Choice</td> <td>How did you register to vote in 2016? - Other - Text</td> <td>Why did you not register for the 2016 presidential elect ...</td> <td>Why did you not register for the 2016 presidential elect ...</td> <td>Where did you register to vote in the 2016 presidential  ...</td> <td>How would you describe the registration process for the  ...</td> <td>Did you vote in the 2016 presidential elections?</td> <td>Why did you not vote in the 2016 presidential elections? ...</td> <td>Why did you not vote in the 2016 presidential elections? ...</td> <td>Which of the following describes how you voted in the 20 ...</td> <td>Which presidential candidate did you vote for?</td> <td>If you had class during the presidential elections on Tu ...</td> <td>If you held a job on Tuesday November 8th, 2016, did you ...</td> <td>How did the results of the 2016 presidential election ma ...</td> <td>How did the results of the 2016 presidential election ma ...</td> <td>Have those emotions influenced you to vote in the 2018 m ...</td> <td>What do you think is the most effective way to make a di ...</td> <td>What do you think is the most effective way to make a di ...</td> <td>How often do you volunteer?</td> <td>What do you think is the most effective way to make a di ...</td> <td>What do you think is the most effective way to make a di ...</td> <td>Please choose the answer that best applies to you. - How ...</td> <td>Please choose the answer that best applies to you. - How ...</td> <td>If you registered or re-registered to vote for the 2018  ...</td> <td>If you registered or re-registered to vote for the 2018  ...</td> <td>Where did you register to vote in for the 2018 Midterm E ...</td> <td>If you registered for the first time in 2018 or re-regis ...</td> <td>Did you vote in the 2018 midterm elections?</td> <td>Did you check to see if your vote was officially counted?</td> <td>Which method of voting did you use and why? - Selected C ...</td> <td>Which method of voting did you use and why? - Polling st ...</td> <td>Which method of voting did you use and why? - Absentee / ...</td> <td>Which method of voting did you use and why? - Provisiona ...</td> <td>Was there a recent significant event that encouraged you ...</td> <td>Was there a recent significant event that encouraged you ...</td> <td>Which candidates did you vote for in the 2018 midterm el ...</td> <td>What would influence you to vote more? Rank the followin ...</td> <td>What would influence you to vote more? Rank the followin ...</td> <td>What would influence you to vote more? Rank the followin ...</td> <td>What would influence you to vote more? Rank the followin ...</td> <td>What would influence you to vote more? Rank the followin ...</td> <td>What would influence you to vote more? Rank the followin ...</td> <td>Did your major's department reach out to you about votin ...</td> <td>If you had class during the midterm elections on Novembe ...</td> <td>If you had work during the midterm elections on November ...</td> <td>Please select the answer that best fits your response to ...</td> <td>Please select the answer that best fits your response to ...</td> <td>Please select the answer that best fits your response to ...</td> <td>Please select the answer that best fits your response to ...</td> <td>Please select the answer that best fits your response to ...</td> <td>Please select the answer that best fits your response to ...</td> <td>Please select the answer that best fits your response to ...</td> <td>Please select the answer that best fits your response to ...</td> <td>Drag the cursor to the place on the political scale that ...</td> <td>Please select the option that best applies to you. - How ...</td> <td>Please select the option that best applies to you. - How ...</td> <td>Please select the option that best applies to you. - How ...</td> <td>The following is a list of political issues within the U ...</td> <td>The following is a list of political issues within the U ...</td> <td>The following is a list of political issues within the U ...</td> <td>The following is a list of political issues within the U ...</td> <td>The following is a list of political issues within the U ...</td> <td>The following is a list of political issues within the U ...</td> <td>The following is a list of political issues within the U ...</td> <td>The following is a list of political issues within the U ...</td> <td>The following is a list of political issues within the U ...</td> <td>The following is a list of political issues within the U ...</td> <td>The following is a list of political issues within the U ...</td> <td>The following is a list of political issues within the U ...</td> <td>Rank the following with 1 being the most used on where y ...</td> <td>Rank the following with 1 being the most used on where y ...</td> <td>Rank the following with 1 being the most used on where y ...</td> <td>Rank the following with 1 being the most used on where y ...</td> <td>Rank the following with 1 being the most used on where y ...</td> <td>Rank the following with 1 being the most used on where y ...</td> <td>Rank the following with 1 being the most used on where y ...</td> <td>Rank the following with 1 being the most used on where y ...</td> <td>Rank the following with 1 being the most used on where y ...</td> <td>Rank the following with 1 being the most used on where y ...</td> <td>Rank the following with 1 being the most used on where y ...</td> <td>Rank the following with 1 being the most used on where y ...</td> <td>Rank the following with 1 being the most used on where y ...</td> <td>Rank the following with 1 being the most used on where y ...</td> <td>Rank the following with 1 being the most used on where y ...</td> <td>Do you support the current president? Why or why not? -  ...</td> <td>Do you support the current president? Why or why not? -  ...</td> <td>Do you support the current president? Why or why not? -  ...</td> <td>Do you support the current president? Why or why not? -  ...</td> <td>Do you support the current administration's policies and ...</td> <td>Do you support the current administration's policies and ...</td> <td>Do you support the current administration's policies and ...</td> <td>Do you support the current administration's policies and ...</td> <td>Select the answers that best fit your level of knowledge ...</td> <td>Select the answers that best fit your level of knowledge ...</td> <td>Select the answers that best fit your perspective on vot ...</td> <td>Select the answers that best fit your perspective on vot ...</td> <td>Select the answers that best fit your perspective on vot ...</td> <td>Select the answers that best fit your perspective on vot ...</td> <td>Do you think voting in a presidential election is more i ...</td> <td>Have you taken part in a protest, march, or demonstratio ...</td> <td>Have you taken part in a protest, march, or demonstratio ...</td> <td>Have you taken part in a protest, march, or demonstratio ...</td> <td>Do you think that the Berkeley campus should make Electi ...</td> <td>Is there anything else that you would like to add? - Sel ...</td> <td>Is there anything else that you would like to add? - Yes ...</td>\n",
       "        </tr>\n",
       "        <tr>\n",
       "            <td>{\"ImportId\":\"startDate\",\"timeZone\":\"America/Denver\"}</td> <td>{\"ImportId\":\"endDate\",\"timeZone\":\"America/Denver\"}</td> <td>{\"ImportId\":\"status\"}</td> <td>{\"ImportId\":\"ipAddress\"}</td> <td>{\"ImportId\":\"progress\"}</td> <td>{\"ImportId\":\"duration\"}</td> <td>{\"ImportId\":\"finished\"}</td> <td>{\"ImportId\":\"recordedDate\",\"timeZone\":\"America/Denver\"}</td> <td>{\"ImportId\":\"_recordId\"}</td> <td>{\"ImportId\":\"recipientLastName\"}</td> <td>{\"ImportId\":\"recipientFirstName\"}</td> <td>{\"ImportId\":\"recipientEmail\"}</td> <td>{\"ImportId\":\"externalDataReference\"}</td> <td>{\"ImportId\":\"locationLatitude\"}</td> <td>{\"ImportId\":\"locationLongitude\"}</td> <td>{\"ImportId\":\"distributionChannel\"}</td> <td>{\"ImportId\":\"userLanguage\"}</td> <td>{\"ImportId\":\"QID80\"}                                        </td> <td>{\"ImportId\":\"QID2\"}                                         </td> <td>{\"ImportId\":\"QID3\"}        </td> <td>{\"ImportId\":\"QID4\"}                                         </td> <td>{\"ImportId\":\"QID5\"}           </td> <td>{\"ImportId\":\"QID6\"}                    </td> <td>{\"ImportId\":\"QID7\"}                                         </td> <td>{\"ImportId\":\"QID7_9_TEXT\"}                                  </td> <td>{\"ImportId\":\"QID79\"}</td> <td>{\"ImportId\":\"QID67\"}                                        </td> <td>{\"ImportId\":\"QID71\"}                                   </td> <td>{\"ImportId\":\"QID71_4_TEXT\"}                         </td> <td>{\"ImportId\":\"QID72\"}                                        </td> <td>{\"ImportId\":\"QID72_7_TEXT\"}                                 </td> <td>{\"ImportId\":\"QID75\"}                                        </td> <td>{\"ImportId\":\"QID76_1\"}                                      </td> <td>{\"ImportId\":\"QID68\"}                            </td> <td>{\"ImportId\":\"QID102\"}                                       </td> <td>{\"ImportId\":\"QID102_8_TEXT\"}                                </td> <td>{\"ImportId\":\"QID77\"}                                        </td> <td>{\"ImportId\":\"QID78\"}                          </td> <td>{\"ImportId\":\"QID73\"}                                        </td> <td>{\"ImportId\":\"QID74\"}                                        </td> <td>{\"ImportId\":\"QID70\"}                                        </td> <td>{\"ImportId\":\"QID70_7_TEXT\"}                                 </td> <td>{\"ImportId\":\"QID69\"}                                        </td> <td>{\"ImportId\":\"QID88\"}                                        </td> <td>{\"ImportId\":\"QID88_5_TEXT\"}                                 </td> <td>{\"ImportId\":\"QID89\"}       </td> <td>{\"ImportId\":\"QID93\"}                                        </td> <td>{\"ImportId\":\"QID93_7_TEXT\"}                                 </td> <td>{\"ImportId\":\"QID90_1\"}                                      </td> <td>{\"ImportId\":\"QID90_2\"}                                      </td> <td>{\"ImportId\":\"QID24\"}                                        </td> <td>{\"ImportId\":\"QID24_9_TEXT\"}                                 </td> <td>{\"ImportId\":\"QID98\"}                                        </td> <td>{\"ImportId\":\"QID25_1\"}                                      </td> <td>{\"ImportId\":\"QID86\"}                       </td> <td>{\"ImportId\":\"QID95\"}                                     </td> <td>{\"ImportId\":\"QID29\"}                                        </td> <td>{\"ImportId\":\"QID29_1_TEXT\"}                                 </td> <td>{\"ImportId\":\"QID29_2_TEXT\"}                                 </td> <td>{\"ImportId\":\"QID29_3_TEXT\"}                                 </td> <td>{\"ImportId\":\"QID30\"}                                        </td> <td>{\"ImportId\":\"QID30_1_TEXT\"}                                 </td> <td>{\"ImportId\":\"QID101\"}                                       </td> <td>{\"ImportId\":\"QID87_1\"}                                      </td> <td>{\"ImportId\":\"QID87_2\"}                                      </td> <td>{\"ImportId\":\"QID87_3\"}                                      </td> <td>{\"ImportId\":\"QID87_4\"}                                      </td> <td>{\"ImportId\":\"QID87_5\"}                                      </td> <td>{\"ImportId\":\"QID87_6_TEXT\"}                                 </td> <td>{\"ImportId\":\"QID26\"}                                        </td> <td>{\"ImportId\":\"QID27\"}                                        </td> <td>{\"ImportId\":\"QID28\"}                                        </td> <td>{\"ImportId\":\"QID32_9\"}                                      </td> <td>{\"ImportId\":\"QID32_1\"}                                      </td> <td>{\"ImportId\":\"QID32_2\"}                                      </td> <td>{\"ImportId\":\"QID32_6\"}                                      </td> <td>{\"ImportId\":\"QID32_7\"}                                      </td> <td>{\"ImportId\":\"QID84_1\"}                                      </td> <td>{\"ImportId\":\"QID84_2\"}                                      </td> <td>{\"ImportId\":\"QID84_3\"}                                      </td> <td>{\"ImportId\":\"QID35_23\"}                                     </td> <td>{\"ImportId\":\"QID37_1\"}                                      </td> <td>{\"ImportId\":\"QID37_2\"}                                      </td> <td>{\"ImportId\":\"QID37_3\"}                                      </td> <td>{\"ImportId\":\"QID39_1\"}                                      </td> <td>{\"ImportId\":\"QID39_2\"}                                      </td> <td>{\"ImportId\":\"QID39_3\"}                                      </td> <td>{\"ImportId\":\"QID39_4\"}                                      </td> <td>{\"ImportId\":\"QID39_5\"}                                      </td> <td>{\"ImportId\":\"QID39_10\"}                                     </td> <td>{\"ImportId\":\"QID39_6\"}                                      </td> <td>{\"ImportId\":\"QID39_7\"}                                      </td> <td>{\"ImportId\":\"QID39_12\"}                                     </td> <td>{\"ImportId\":\"QID39_13\"}                                     </td> <td>{\"ImportId\":\"QID39_8\"}                                      </td> <td>{\"ImportId\":\"QID39_8_TEXT\"}                                 </td> <td>{\"ImportId\":\"QID40_0_GROUP\"}                                </td> <td>{\"ImportId\":\"QID40_G0_1_RANK\"}                              </td> <td>{\"ImportId\":\"QID40_G0_15_RANK\"}                             </td> <td>{\"ImportId\":\"QID40_G0_4_RANK\"}                              </td> <td>{\"ImportId\":\"QID40_G0_5_RANK\"}                              </td> <td>{\"ImportId\":\"QID40_G0_6_RANK\"}                              </td> <td>{\"ImportId\":\"QID40_G0_9_RANK\"}                              </td> <td>{\"ImportId\":\"QID40_G0_10_RANK\"}                             </td> <td>{\"ImportId\":\"QID40_G0_11_RANK\"}                             </td> <td>{\"ImportId\":\"QID40_G0_12_RANK\"}                             </td> <td>{\"ImportId\":\"QID40_G0_13_RANK\"}                             </td> <td>{\"ImportId\":\"QID40_G0_14_RANK\"}                             </td> <td>{\"ImportId\":\"QID40_G0_16_RANK\"}                             </td> <td>{\"ImportId\":\"QID40_G0_8_RANK\"}                              </td> <td>{\"ImportId\":\"QID40_8_TEXT\"}                                 </td> <td>{\"ImportId\":\"QID44\"}                                        </td> <td>{\"ImportId\":\"QID44_1_TEXT\"}                                 </td> <td>{\"ImportId\":\"QID44_2_TEXT\"}                                 </td> <td>{\"ImportId\":\"QID44_3_TEXT\"}                                 </td> <td>{\"ImportId\":\"QID45\"}                                        </td> <td>{\"ImportId\":\"QID45_1_TEXT\"}                                 </td> <td>{\"ImportId\":\"QID45_2_TEXT\"}                                 </td> <td>{\"ImportId\":\"QID45_3_TEXT\"}                                 </td> <td>{\"ImportId\":\"QID46_1\"}                                      </td> <td>{\"ImportId\":\"QID46_6\"}                                      </td> <td>{\"ImportId\":\"QID96_7\"}                                      </td> <td>{\"ImportId\":\"QID96_8\"}                                      </td> <td>{\"ImportId\":\"QID96_9\"}                                      </td> <td>{\"ImportId\":\"QID96_10\"}                                     </td> <td>{\"ImportId\":\"QID99\"}                                        </td> <td>{\"ImportId\":\"QID51\"}                                        </td> <td>{\"ImportId\":\"QID51_1_TEXT\"}                                 </td> <td>{\"ImportId\":\"QID51_2_TEXT\"}                                 </td> <td>{\"ImportId\":\"QID52\"}                                        </td> <td>{\"ImportId\":\"QID85\"}                                        </td> <td>{\"ImportId\":\"QID85_1_TEXT\"}                                 </td>\n",
       "        </tr>\n",
       "        <tr>\n",
       "            <td>2018-11-13 13:37:27                                 </td> <td>2018-11-13 13:48:30                               </td> <td>IP Address           </td> <td>136.152.143.179         </td> <td>100                    </td> <td>663                    </td> <td>True                   </td> <td>2018-11-13 13:48:31                                    </td> <td>R_xA58gXXjXE5t4vD       </td> <td>nan                             </td> <td>nan                              </td> <td>nan                          </td> <td>nan                                 </td> <td>37.8737945556640625            </td> <td>-122.2548980712890625           </td> <td>anonymous                         </td> <td>EN                         </td> <td>I consent                                                   </td> <td>College of Letters and Science (includes undeclared stud ...</td> <td>No                         </td> <td>Social Sciences                                             </td> <td>Yes                           </td> <td>Woman                                  </td> <td>White                                                       </td> <td>nan                                                         </td> <td>21                  </td> <td>No                                                          </td> <td>In person                                              </td> <td>nan                                                 </td> <td>nan                                                         </td> <td>nan                                                         </td> <td>Another California county                                   </td> <td>3                                                           </td> <td>Yes                                             </td> <td>nan                                                         </td> <td>nan                                                         </td> <td>Polling station                                             </td> <td>Trump                                         </td> <td>No                                                          </td> <td>nan                                                         </td> <td>Happy                                                       </td> <td>nan                                                         </td> <td>Yes                                                         </td> <td>Volunteering                                                </td> <td>nan                                                         </td> <td>1-3 hours per week         </td> <td>Voting                                                      </td> <td>nan                                                         </td> <td>Occasionally                                                </td> <td>Never                                                       </td> <td>I was already registered and did not re-register.           </td> <td>nan                                                         </td> <td>nan                                                         </td> <td>nan                                                         </td> <td>Yes                                        </td> <td>No; I did not check                                      </td> <td>Absentee / mail  ballot                                     </td> <td>nan                                                         </td> <td>I was at school and my polling station was down in south ...</td> <td>nan                                                         </td> <td>No                                                          </td> <td>nan                                                         </td> <td>Mostly Republicans                                          </td> <td>4                                                           </td> <td>3                                                           </td> <td>1                                                           </td> <td>2                                                           </td> <td>nan                                                         </td> <td>nan                                                         </td> <td>Yes                                                         </td> <td>No                                                          </td> <td>I did not have work that day                                </td> <td>Neutral                                                     </td> <td>Somewhat agree                                              </td> <td>Strongly disagree                                           </td> <td>Neutral                                                     </td> <td>Somewhat disagree                                           </td> <td>Strongly disagree                                           </td> <td>Strongly disagree                                           </td> <td>Strongly disagree                                           </td> <td>7                                                           </td> <td>Once or twice a year                                        </td> <td>Every day                                                   </td> <td>Every day                                                   </td> <td>Very important                                              </td> <td>Very important                                              </td> <td>Very important                                              </td> <td>Very important                                              </td> <td>Very important                                              </td> <td>Very important                                              </td> <td>Very important                                              </td> <td>Very important                                              </td> <td>Very important                                              </td> <td>Very important                                              </td> <td>nan                                                         </td> <td>nan                                                         </td> <td>Fox News,New York Times,CBS,Twitter,CNN                     </td> <td>nan                                                         </td> <td>4                                                           </td> <td>2                                                           </td> <td>5                                                           </td> <td>1                                                           </td> <td>nan                                                         </td> <td>3                                                           </td> <td>nan                                                         </td> <td>nan                                                         </td> <td>nan                                                         </td> <td>nan                                                         </td> <td>nan                                                         </td> <td>nan                                                         </td> <td>nan                                                         </td> <td>Sometimes because:                                          </td> <td>nan                                                         </td> <td>He is doing what he said he would be needs to chill with ...</td> <td>nan                                                         </td> <td>No opinion                                                  </td> <td>nan                                                         </td> <td>nan                                                         </td> <td>nan                                                         </td> <td>Moderately knowledgeable                                    </td> <td>Slightly knowledgeable                                      </td> <td>Strongly agree                                              </td> <td>Somewhat agree                                              </td> <td>Somewhat agree                                              </td> <td>Strongly agree                                              </td> <td>Presidential elections are more important                   </td> <td>No:                                                         </td> <td>nan                                                         </td> <td>nan                                                         </td> <td>Probably yes                                                </td> <td>No                                                          </td> <td>nan                                                         </td>\n",
       "        </tr>\n",
       "        <tr>\n",
       "            <td>2018-11-13 13:42:15                                 </td> <td>2018-11-13 13:54:07                               </td> <td>IP Address           </td> <td>67.160.238.12           </td> <td>100                    </td> <td>712                    </td> <td>True                   </td> <td>2018-11-13 13:54:08                                    </td> <td>R_T1qHpCfq74QzG9z       </td> <td>nan                             </td> <td>nan                              </td> <td>nan                          </td> <td>nan                                 </td> <td>37.51739501953125              </td> <td>-122.29270172119140625          </td> <td>anonymous                         </td> <td>EN                         </td> <td>I consent                                                   </td> <td>College of Engineering                                      </td> <td>Yes                        </td> <td>Engineering/Computer Science                                </td> <td>Yes                           </td> <td>Man                                    </td> <td>White                                                       </td> <td>nan                                                         </td> <td>20                  </td> <td>No                                                          </td> <td>Online                                                 </td> <td>nan                                                 </td> <td>nan                                                         </td> <td>nan                                                         </td> <td>Another California county                                   </td> <td>3                                                           </td> <td>Yes                                             </td> <td>nan                                                         </td> <td>nan                                                         </td> <td>Polling station                                             </td> <td>Trump                                         </td> <td>I do not remember                                           </td> <td>nan                                                         </td> <td>nan                                                         </td> <td>nan                                                         </td> <td>No                                                          </td> <td>Volunteering                                                </td> <td>nan                                                         </td> <td>1-3 hours per week         </td> <td>Voting                                                      </td> <td>nan                                                         </td> <td>Moderately                                                  </td> <td>Never                                                       </td> <td>Automatic registration via the California Department of  ...</td> <td>nan                                                         </td> <td>Other California county                                     </td> <td>3                                                           </td> <td>Yes                                        </td> <td>No; I do not know how                                    </td> <td>Absentee / mail  ballot                                     </td> <td>nan                                                         </td> <td>Easy                                                        </td> <td>nan                                                         </td> <td>No                                                          </td> <td>nan                                                         </td> <td>Mostly Republicans                                          </td> <td>1                                                           </td> <td>3                                                           </td> <td>2                                                           </td> <td>4                                                           </td> <td>nan                                                         </td> <td>nan                                                         </td> <td>No                                                          </td> <td>No                                                          </td> <td>I did not have work that day                                </td> <td>Somewhat agree                                              </td> <td>Strongly agree                                              </td> <td>Strongly agree                                              </td> <td>Neutral                                                     </td> <td>Neutral                                                     </td> <td>Somewhat agree                                              </td> <td>Somewhat disagree                                           </td> <td>Somewhat disagree                                           </td> <td>7                                                           </td> <td>Once or twice a month                                       </td> <td>Once a week                                                 </td> <td>Never                                                       </td> <td>Very important                                              </td> <td>Important                                                   </td> <td>Important                                                   </td> <td>Important                                                   </td> <td>Moderately important                                        </td> <td>Moderately important                                        </td> <td>Important                                                   </td> <td>Moderately important                                        </td> <td>Moderately important                                        </td> <td>Moderately important                                        </td> <td>nan                                                         </td> <td>nan                                                         </td> <td>nan                                                         </td> <td>nan                                                         </td> <td>nan                                                         </td> <td>nan                                                         </td> <td>nan                                                         </td> <td>nan                                                         </td> <td>nan                                                         </td> <td>nan                                                         </td> <td>nan                                                         </td> <td>nan                                                         </td> <td>nan                                                         </td> <td>nan                                                         </td> <td>nan                                                         </td> <td>nan                                                         </td> <td>nan                                                         </td> <td>nan                                                         </td> <td>nan                                                         </td> <td>nan                                                         </td> <td>nan                                                         </td> <td>nan                                                         </td> <td>nan                                                         </td> <td>nan                                                         </td> <td>nan                                                         </td> <td>Slightly knowledgeable                                      </td> <td>Very knowledgeable                                          </td> <td>Strongly agree                                              </td> <td>Somewhat agree                                              </td> <td>Somewhat agree                                              </td> <td>Somewhat agree                                              </td> <td>Presidential elections are more important                   </td> <td>No:                                                         </td> <td>nan                                                         </td> <td>No                                                          </td> <td>Probably yes                                                </td> <td>No                                                          </td> <td>nan                                                         </td>\n",
       "        </tr>\n",
       "        <tr>\n",
       "            <td>2018-11-13 13:40:17                                 </td> <td>2018-11-13 13:56:41                               </td> <td>IP Address           </td> <td>192.31.105.240          </td> <td>100                    </td> <td>983                    </td> <td>True                   </td> <td>2018-11-13 13:56:42                                    </td> <td>R_1lAiYt3HSH063Or       </td> <td>nan                             </td> <td>nan                              </td> <td>nan                          </td> <td>nan                                 </td> <td>37.8737945556640625            </td> <td>-122.2548980712890625           </td> <td>anonymous                         </td> <td>EN                         </td> <td>I consent                                                   </td> <td>College of Letters and Science (includes undeclared stud ...</td> <td>No                         </td> <td>Social Sciences                                             </td> <td>Yes                           </td> <td>Woman                                  </td> <td>Asian,White                                                 </td> <td>nan                                                         </td> <td>18                  </td> <td>nan                                                         </td> <td>nan                                                    </td> <td>nan                                                 </td> <td>nan                                                         </td> <td>nan                                                         </td> <td>nan                                                         </td> <td>nan                                                         </td> <td>nan                                             </td> <td>nan                                                         </td> <td>nan                                                         </td> <td>nan                                                         </td> <td>nan                                           </td> <td>nan                                                         </td> <td>nan                                                         </td> <td>Sad,Scared,Angry                                            </td> <td>nan                                                         </td> <td>Yes                                                         </td> <td>Community engagement                                        </td> <td>nan                                                         </td> <td>1-3 hours per week         </td> <td>Voting                                                      </td> <td>nan                                                         </td> <td>Moderately                                                  </td> <td>Frequently                                                  </td> <td>I was already registered and did not re-register.           </td> <td>nan                                                         </td> <td>nan                                                         </td> <td>nan                                                         </td> <td>Yes                                        </td> <td>Yes; it was counted                                      </td> <td>Absentee / mail  ballot                                     </td> <td>nan                                                         </td> <td>I wanted to vote in my county and now live in Berkeley.  ...</td> <td>nan                                                         </td> <td>No                                                          </td> <td>nan                                                         </td> <td>Only Democrats                                              </td> <td>nan                                                         </td> <td>nan                                                         </td> <td>nan                                                         </td> <td>nan                                                         </td> <td>nan                                                         </td> <td>nan                                                         </td> <td>Yes                                                         </td> <td>No                                                          </td> <td>I did not have work that day                                </td> <td>Strongly agree                                              </td> <td>Strongly agree                                              </td> <td>Strongly agree                                              </td> <td>Somewhat agree                                              </td> <td>Somewhat agree                                              </td> <td>Strongly agree                                              </td> <td>Strongly agree                                              </td> <td>Somewhat agree                                              </td> <td>2                                                           </td> <td>Every day                                                   </td> <td>Every day                                                   </td> <td>Once or twice a month                                       </td> <td>Very important                                              </td> <td>Very important                                              </td> <td>Very important                                              </td> <td>Important                                                   </td> <td>Important                                                   </td> <td>Very important                                              </td> <td>Very important                                              </td> <td>Important                                                   </td> <td>Important                                                   </td> <td>Important                                                   </td> <td>nan                                                         </td> <td>nan                                                         </td> <td>CNN,New York Times,Twitter,Facebook,Washington Post         </td> <td>4                                                           </td> <td>3                                                           </td> <td>2                                                           </td> <td>1                                                           </td> <td>nan                                                         </td> <td>5                                                           </td> <td>nan                                                         </td> <td>nan                                                         </td> <td>nan                                                         </td> <td>nan                                                         </td> <td>nan                                                         </td> <td>nan                                                         </td> <td>nan                                                         </td> <td>nan                                                         </td> <td>No because:                                                 </td> <td>nan                                                         </td> <td>nan                                                         </td> <td>No for so, so many reasons                                  </td> <td>No because:                                                 </td> <td>nan                                                         </td> <td>nan                                                         </td> <td>No, they are not in line with my political views            </td> <td>Extremely knowledgeable                                     </td> <td>Extremely knowledgeable                                     </td> <td>Strongly agree                                              </td> <td>Strongly agree                                              </td> <td>Strongly agree                                              </td> <td>Strongly agree                                              </td> <td>Presidential elections and midterm elections are equally ...</td> <td>Yes:                                                        </td> <td>Yes, the Women's March and the March for our Lives          </td> <td>nan                                                         </td> <td>Probably yes                                                </td> <td>No                                                          </td> <td>nan                                                         </td>\n",
       "        </tr>\n",
       "    </tbody>\n",
       "</table>\n",
       "<p>... (544 rows omitted)</p>"
      ],
      "text/plain": [
       "<IPython.core.display.HTML object>"
      ]
     },
     "metadata": {},
     "output_type": "display_data"
    }
   ],
   "source": [
    "survey_table = Table.read_table('UCB Main Survey_June 19, 2019_15.47.csv')\n",
    "survey_table.show(5)"
   ]
  },
  {
   "cell_type": "code",
   "execution_count": 6,
   "metadata": {},
   "outputs": [
    {
     "data": {
      "text/html": [
       "<div>\n",
       "<style scoped>\n",
       "    .dataframe tbody tr th:only-of-type {\n",
       "        vertical-align: middle;\n",
       "    }\n",
       "\n",
       "    .dataframe tbody tr th {\n",
       "        vertical-align: top;\n",
       "    }\n",
       "\n",
       "    .dataframe thead th {\n",
       "        text-align: right;\n",
       "    }\n",
       "</style>\n",
       "<table border=\"1\" class=\"dataframe\">\n",
       "  <thead>\n",
       "    <tr style=\"text-align: right;\">\n",
       "      <th></th>\n",
       "      <th>StartDate</th>\n",
       "      <th>EndDate</th>\n",
       "      <th>Status</th>\n",
       "      <th>IPAddress</th>\n",
       "      <th>Progress</th>\n",
       "      <th>Duration (in seconds)</th>\n",
       "      <th>Finished</th>\n",
       "      <th>RecordedDate</th>\n",
       "      <th>ResponseId</th>\n",
       "      <th>RecipientLastName</th>\n",
       "      <th>...</th>\n",
       "      <th>Q48_2</th>\n",
       "      <th>Q48_3</th>\n",
       "      <th>Q48_4</th>\n",
       "      <th>Q49</th>\n",
       "      <th>Q50</th>\n",
       "      <th>Q50_1_TEXT</th>\n",
       "      <th>Q50_2_TEXT</th>\n",
       "      <th>Q51</th>\n",
       "      <th>Q52</th>\n",
       "      <th>Q52_1_TEXT</th>\n",
       "    </tr>\n",
       "  </thead>\n",
       "  <tbody>\n",
       "    <tr>\n",
       "      <th>0</th>\n",
       "      <td>Start Date</td>\n",
       "      <td>End Date</td>\n",
       "      <td>Response Type</td>\n",
       "      <td>IP Address</td>\n",
       "      <td>Progress</td>\n",
       "      <td>Duration (in seconds)</td>\n",
       "      <td>Finished</td>\n",
       "      <td>Recorded Date</td>\n",
       "      <td>Response ID</td>\n",
       "      <td>Recipient Last Name</td>\n",
       "      <td>...</td>\n",
       "      <td>Select the answers that best fit your perspect...</td>\n",
       "      <td>Select the answers that best fit your perspect...</td>\n",
       "      <td>Select the answers that best fit your perspect...</td>\n",
       "      <td>Do you think voting in a presidential election...</td>\n",
       "      <td>Have you taken part in a protest, march, or de...</td>\n",
       "      <td>Have you taken part in a protest, march, or de...</td>\n",
       "      <td>Have you taken part in a protest, march, or de...</td>\n",
       "      <td>Do you think that the Berkeley campus should m...</td>\n",
       "      <td>Is there anything else that you would like to ...</td>\n",
       "      <td>Is there anything else that you would like to ...</td>\n",
       "    </tr>\n",
       "    <tr>\n",
       "      <th>1</th>\n",
       "      <td>{\"ImportId\":\"startDate\",\"timeZone\":\"America/De...</td>\n",
       "      <td>{\"ImportId\":\"endDate\",\"timeZone\":\"America/Denv...</td>\n",
       "      <td>{\"ImportId\":\"status\"}</td>\n",
       "      <td>{\"ImportId\":\"ipAddress\"}</td>\n",
       "      <td>{\"ImportId\":\"progress\"}</td>\n",
       "      <td>{\"ImportId\":\"duration\"}</td>\n",
       "      <td>{\"ImportId\":\"finished\"}</td>\n",
       "      <td>{\"ImportId\":\"recordedDate\",\"timeZone\":\"America...</td>\n",
       "      <td>{\"ImportId\":\"_recordId\"}</td>\n",
       "      <td>{\"ImportId\":\"recipientLastName\"}</td>\n",
       "      <td>...</td>\n",
       "      <td>{\"ImportId\":\"QID96_8\"}</td>\n",
       "      <td>{\"ImportId\":\"QID96_9\"}</td>\n",
       "      <td>{\"ImportId\":\"QID96_10\"}</td>\n",
       "      <td>{\"ImportId\":\"QID99\"}</td>\n",
       "      <td>{\"ImportId\":\"QID51\"}</td>\n",
       "      <td>{\"ImportId\":\"QID51_1_TEXT\"}</td>\n",
       "      <td>{\"ImportId\":\"QID51_2_TEXT\"}</td>\n",
       "      <td>{\"ImportId\":\"QID52\"}</td>\n",
       "      <td>{\"ImportId\":\"QID85\"}</td>\n",
       "      <td>{\"ImportId\":\"QID85_1_TEXT\"}</td>\n",
       "    </tr>\n",
       "    <tr>\n",
       "      <th>2</th>\n",
       "      <td>2018-11-13 13:37:27</td>\n",
       "      <td>2018-11-13 13:48:30</td>\n",
       "      <td>IP Address</td>\n",
       "      <td>136.152.143.179</td>\n",
       "      <td>100</td>\n",
       "      <td>663</td>\n",
       "      <td>True</td>\n",
       "      <td>2018-11-13 13:48:31</td>\n",
       "      <td>R_xA58gXXjXE5t4vD</td>\n",
       "      <td>NaN</td>\n",
       "      <td>...</td>\n",
       "      <td>Somewhat agree</td>\n",
       "      <td>Somewhat agree</td>\n",
       "      <td>Strongly agree</td>\n",
       "      <td>Presidential elections are more important</td>\n",
       "      <td>No:</td>\n",
       "      <td>NaN</td>\n",
       "      <td>NaN</td>\n",
       "      <td>Probably yes</td>\n",
       "      <td>No</td>\n",
       "      <td>NaN</td>\n",
       "    </tr>\n",
       "    <tr>\n",
       "      <th>3</th>\n",
       "      <td>2018-11-13 13:42:15</td>\n",
       "      <td>2018-11-13 13:54:07</td>\n",
       "      <td>IP Address</td>\n",
       "      <td>67.160.238.12</td>\n",
       "      <td>100</td>\n",
       "      <td>712</td>\n",
       "      <td>True</td>\n",
       "      <td>2018-11-13 13:54:08</td>\n",
       "      <td>R_T1qHpCfq74QzG9z</td>\n",
       "      <td>NaN</td>\n",
       "      <td>...</td>\n",
       "      <td>Somewhat agree</td>\n",
       "      <td>Somewhat agree</td>\n",
       "      <td>Somewhat agree</td>\n",
       "      <td>Presidential elections are more important</td>\n",
       "      <td>No:</td>\n",
       "      <td>NaN</td>\n",
       "      <td>No</td>\n",
       "      <td>Probably yes</td>\n",
       "      <td>No</td>\n",
       "      <td>NaN</td>\n",
       "    </tr>\n",
       "    <tr>\n",
       "      <th>4</th>\n",
       "      <td>2018-11-13 13:40:17</td>\n",
       "      <td>2018-11-13 13:56:41</td>\n",
       "      <td>IP Address</td>\n",
       "      <td>192.31.105.240</td>\n",
       "      <td>100</td>\n",
       "      <td>983</td>\n",
       "      <td>True</td>\n",
       "      <td>2018-11-13 13:56:42</td>\n",
       "      <td>R_1lAiYt3HSH063Or</td>\n",
       "      <td>NaN</td>\n",
       "      <td>...</td>\n",
       "      <td>Strongly agree</td>\n",
       "      <td>Strongly agree</td>\n",
       "      <td>Strongly agree</td>\n",
       "      <td>Presidential elections and midterm elections a...</td>\n",
       "      <td>Yes:</td>\n",
       "      <td>Yes, the Women's March and the March for our L...</td>\n",
       "      <td>NaN</td>\n",
       "      <td>Probably yes</td>\n",
       "      <td>No</td>\n",
       "      <td>NaN</td>\n",
       "    </tr>\n",
       "  </tbody>\n",
       "</table>\n",
       "<p>5 rows × 132 columns</p>\n",
       "</div>"
      ],
      "text/plain": [
       "                                           StartDate  \\\n",
       "0                                         Start Date   \n",
       "1  {\"ImportId\":\"startDate\",\"timeZone\":\"America/De...   \n",
       "2                                2018-11-13 13:37:27   \n",
       "3                                2018-11-13 13:42:15   \n",
       "4                                2018-11-13 13:40:17   \n",
       "\n",
       "                                             EndDate                 Status  \\\n",
       "0                                           End Date          Response Type   \n",
       "1  {\"ImportId\":\"endDate\",\"timeZone\":\"America/Denv...  {\"ImportId\":\"status\"}   \n",
       "2                                2018-11-13 13:48:30             IP Address   \n",
       "3                                2018-11-13 13:54:07             IP Address   \n",
       "4                                2018-11-13 13:56:41             IP Address   \n",
       "\n",
       "                  IPAddress                 Progress    Duration (in seconds)  \\\n",
       "0                IP Address                 Progress    Duration (in seconds)   \n",
       "1  {\"ImportId\":\"ipAddress\"}  {\"ImportId\":\"progress\"}  {\"ImportId\":\"duration\"}   \n",
       "2           136.152.143.179                      100                      663   \n",
       "3             67.160.238.12                      100                      712   \n",
       "4            192.31.105.240                      100                      983   \n",
       "\n",
       "                  Finished                                       RecordedDate  \\\n",
       "0                 Finished                                      Recorded Date   \n",
       "1  {\"ImportId\":\"finished\"}  {\"ImportId\":\"recordedDate\",\"timeZone\":\"America...   \n",
       "2                     True                                2018-11-13 13:48:31   \n",
       "3                     True                                2018-11-13 13:54:08   \n",
       "4                     True                                2018-11-13 13:56:42   \n",
       "\n",
       "                 ResponseId                 RecipientLastName  ...  \\\n",
       "0               Response ID               Recipient Last Name  ...   \n",
       "1  {\"ImportId\":\"_recordId\"}  {\"ImportId\":\"recipientLastName\"}  ...   \n",
       "2         R_xA58gXXjXE5t4vD                               NaN  ...   \n",
       "3         R_T1qHpCfq74QzG9z                               NaN  ...   \n",
       "4         R_1lAiYt3HSH063Or                               NaN  ...   \n",
       "\n",
       "                                               Q48_2  \\\n",
       "0  Select the answers that best fit your perspect...   \n",
       "1                             {\"ImportId\":\"QID96_8\"}   \n",
       "2                                     Somewhat agree   \n",
       "3                                     Somewhat agree   \n",
       "4                                     Strongly agree   \n",
       "\n",
       "                                               Q48_3  \\\n",
       "0  Select the answers that best fit your perspect...   \n",
       "1                             {\"ImportId\":\"QID96_9\"}   \n",
       "2                                     Somewhat agree   \n",
       "3                                     Somewhat agree   \n",
       "4                                     Strongly agree   \n",
       "\n",
       "                                               Q48_4  \\\n",
       "0  Select the answers that best fit your perspect...   \n",
       "1                            {\"ImportId\":\"QID96_10\"}   \n",
       "2                                     Strongly agree   \n",
       "3                                     Somewhat agree   \n",
       "4                                     Strongly agree   \n",
       "\n",
       "                                                 Q49  \\\n",
       "0  Do you think voting in a presidential election...   \n",
       "1                               {\"ImportId\":\"QID99\"}   \n",
       "2          Presidential elections are more important   \n",
       "3          Presidential elections are more important   \n",
       "4  Presidential elections and midterm elections a...   \n",
       "\n",
       "                                                 Q50  \\\n",
       "0  Have you taken part in a protest, march, or de...   \n",
       "1                               {\"ImportId\":\"QID51\"}   \n",
       "2                                                No:   \n",
       "3                                                No:   \n",
       "4                                               Yes:   \n",
       "\n",
       "                                          Q50_1_TEXT  \\\n",
       "0  Have you taken part in a protest, march, or de...   \n",
       "1                        {\"ImportId\":\"QID51_1_TEXT\"}   \n",
       "2                                                NaN   \n",
       "3                                                NaN   \n",
       "4  Yes, the Women's March and the March for our L...   \n",
       "\n",
       "                                          Q50_2_TEXT  \\\n",
       "0  Have you taken part in a protest, march, or de...   \n",
       "1                        {\"ImportId\":\"QID51_2_TEXT\"}   \n",
       "2                                                NaN   \n",
       "3                                                 No   \n",
       "4                                                NaN   \n",
       "\n",
       "                                                 Q51  \\\n",
       "0  Do you think that the Berkeley campus should m...   \n",
       "1                               {\"ImportId\":\"QID52\"}   \n",
       "2                                       Probably yes   \n",
       "3                                       Probably yes   \n",
       "4                                       Probably yes   \n",
       "\n",
       "                                                 Q52  \\\n",
       "0  Is there anything else that you would like to ...   \n",
       "1                               {\"ImportId\":\"QID85\"}   \n",
       "2                                                 No   \n",
       "3                                                 No   \n",
       "4                                                 No   \n",
       "\n",
       "                                          Q52_1_TEXT  \n",
       "0  Is there anything else that you would like to ...  \n",
       "1                        {\"ImportId\":\"QID85_1_TEXT\"}  \n",
       "2                                                NaN  \n",
       "3                                                NaN  \n",
       "4                                                NaN  \n",
       "\n",
       "[5 rows x 132 columns]"
      ]
     },
     "execution_count": 6,
     "metadata": {},
     "output_type": "execute_result"
    }
   ],
   "source": [
    "survey_frame = pd.read_csv('UCB Main Survey_June 19, 2019_15.47.csv')\n",
    "survey_frame.head(5)"
   ]
  },
  {
   "cell_type": "markdown",
   "metadata": {},
   "source": [
    "### Tests for Missing Proportion"
   ]
  },
  {
   "cell_type": "code",
   "execution_count": 7,
   "metadata": {},
   "outputs": [
    {
     "data": {
      "text/plain": [
       "0.333"
      ]
     },
     "execution_count": 7,
     "metadata": {},
     "output_type": "execute_result"
    }
   ],
   "source": [
    "missing_proportion(table1, 'first')"
   ]
  },
  {
   "cell_type": "code",
   "execution_count": 8,
   "metadata": {},
   "outputs": [
    {
     "data": {
      "text/plain": [
       "0.0"
      ]
     },
     "execution_count": 8,
     "metadata": {},
     "output_type": "execute_result"
    }
   ],
   "source": [
    "missing_proportion(table1, 'second')"
   ]
  },
  {
   "cell_type": "code",
   "execution_count": 9,
   "metadata": {},
   "outputs": [
    {
     "data": {
      "text/plain": [
       "0.333"
      ]
     },
     "execution_count": 9,
     "metadata": {},
     "output_type": "execute_result"
    }
   ],
   "source": [
    "missing_proportion(table2, 'first')"
   ]
  },
  {
   "cell_type": "code",
   "execution_count": 10,
   "metadata": {},
   "outputs": [
    {
     "data": {
      "text/plain": [
       "0.0"
      ]
     },
     "execution_count": 10,
     "metadata": {},
     "output_type": "execute_result"
    }
   ],
   "source": [
    "missing_proportion(table2, 'second')"
   ]
  },
  {
   "cell_type": "code",
   "execution_count": 11,
   "metadata": {},
   "outputs": [
    {
     "ename": "AssertionError",
     "evalue": "Input not a supported type.",
     "output_type": "error",
     "traceback": [
      "\u001b[1;31m---------------------------------------------------------------------------\u001b[0m",
      "\u001b[1;31mAssertionError\u001b[0m                            Traceback (most recent call last)",
      "\u001b[1;32m<ipython-input-11-043c57018530>\u001b[0m in \u001b[0;36m<module>\u001b[1;34m()\u001b[0m\n\u001b[1;32m----> 1\u001b[1;33m \u001b[0mmissing_proportion\u001b[0m\u001b[1;33m(\u001b[0m\u001b[1;33m[\u001b[0m\u001b[1;36m1\u001b[0m\u001b[1;33m,\u001b[0m\u001b[1;36m2\u001b[0m\u001b[1;33m,\u001b[0m\u001b[1;36m3\u001b[0m\u001b[1;33m]\u001b[0m\u001b[1;33m,\u001b[0m \u001b[1;36m0\u001b[0m\u001b[1;33m)\u001b[0m\u001b[1;33m\u001b[0m\u001b[0m\n\u001b[0m",
      "\u001b[1;32m~\\Desktop\\surveydata\\DataCleaning.py\u001b[0m in \u001b[0;36mmissing_proportion\u001b[1;34m(table, column_name)\u001b[0m\n\u001b[0;32m     34\u001b[0m         \u001b[1;36m0.333\u001b[0m\u001b[1;33m\u001b[0m\u001b[0m\n\u001b[0;32m     35\u001b[0m \t\"\"\"\n\u001b[1;32m---> 36\u001b[1;33m         \u001b[1;32massert\u001b[0m \u001b[1;33m(\u001b[0m\u001b[0misinstance\u001b[0m\u001b[1;33m(\u001b[0m\u001b[0mtable\u001b[0m\u001b[1;33m,\u001b[0m \u001b[0mTable\u001b[0m\u001b[1;33m)\u001b[0m \u001b[1;32mor\u001b[0m \u001b[0misinstance\u001b[0m\u001b[1;33m(\u001b[0m\u001b[0mtable\u001b[0m\u001b[1;33m,\u001b[0m \u001b[0mpd\u001b[0m\u001b[1;33m.\u001b[0m\u001b[0mDataFrame\u001b[0m\u001b[1;33m)\u001b[0m\u001b[1;33m)\u001b[0m\u001b[1;33m,\u001b[0m \u001b[1;34m\"Input not a supported type.\"\u001b[0m\u001b[1;33m\u001b[0m\u001b[0m\n\u001b[0m\u001b[0;32m     37\u001b[0m         \u001b[1;32mif\u001b[0m \u001b[0misinstance\u001b[0m\u001b[1;33m(\u001b[0m\u001b[0mtable\u001b[0m\u001b[1;33m,\u001b[0m \u001b[0mpd\u001b[0m\u001b[1;33m.\u001b[0m\u001b[0mDataFrame\u001b[0m\u001b[1;33m)\u001b[0m\u001b[1;33m:\u001b[0m\u001b[1;33m\u001b[0m\u001b[0m\n\u001b[0;32m     38\u001b[0m                 \u001b[1;32massert\u001b[0m \u001b[1;33m(\u001b[0m\u001b[0mcolumn_name\u001b[0m \u001b[1;32min\u001b[0m \u001b[0mlist\u001b[0m\u001b[1;33m(\u001b[0m\u001b[0mtable\u001b[0m\u001b[1;33m.\u001b[0m\u001b[0mcolumns\u001b[0m\u001b[1;33m.\u001b[0m\u001b[0mvalues\u001b[0m\u001b[1;33m)\u001b[0m\u001b[1;33m)\u001b[0m\u001b[1;33m,\u001b[0m \u001b[1;34m\"Input a valid column name.\"\u001b[0m\u001b[1;33m\u001b[0m\u001b[0m\n",
      "\u001b[1;31mAssertionError\u001b[0m: Input not a supported type."
     ]
    }
   ],
   "source": [
    "missing_proportion([1,2,3], 0)"
   ]
  },
  {
   "cell_type": "code",
   "execution_count": 12,
   "metadata": {},
   "outputs": [
    {
     "ename": "TypeError",
     "evalue": "missing_proportion() missing 1 required positional argument: 'column_name'",
     "output_type": "error",
     "traceback": [
      "\u001b[1;31m---------------------------------------------------------------------------\u001b[0m",
      "\u001b[1;31mTypeError\u001b[0m                                 Traceback (most recent call last)",
      "\u001b[1;32m<ipython-input-12-6e4ec2e94031>\u001b[0m in \u001b[0;36m<module>\u001b[1;34m()\u001b[0m\n\u001b[1;32m----> 1\u001b[1;33m \u001b[0mmissing_proportion\u001b[0m\u001b[1;33m(\u001b[0m\u001b[0mtable1\u001b[0m\u001b[1;33m)\u001b[0m\u001b[1;33m\u001b[0m\u001b[0m\n\u001b[0m",
      "\u001b[1;31mTypeError\u001b[0m: missing_proportion() missing 1 required positional argument: 'column_name'"
     ]
    }
   ],
   "source": [
    "missing_proportion(table1)"
   ]
  },
  {
   "cell_type": "code",
   "execution_count": 13,
   "metadata": {
    "scrolled": true
   },
   "outputs": [
    {
     "data": {
      "text/plain": [
       "array(['If you had class during the presidential elections on Tuesday November 8th, 2016, did your professor(s) cancel or shorten class to allow students time to vote?',\n",
       "       '{\"ImportId\":\"QID73\"}', 'No', 'I do not remember', 'nan', 'No',\n",
       "       'nan', 'No', 'I do not remember', 'I did not have class that day',\n",
       "       'I do not remember', 'I do not remember', 'nan',\n",
       "       'I did not have class that day', 'No', 'nan', 'No', 'No', 'nan',\n",
       "       'nan', 'nan', 'Yes', 'No', 'I did not have class that day',\n",
       "       'I did not have class that day', 'nan', 'No', 'nan',\n",
       "       'I did not have class that day', 'No', 'No',\n",
       "       'I did not have class that day', 'No', 'No',\n",
       "       'I did not have class that day', 'I do not remember', 'nan', 'nan',\n",
       "       'No', 'Yes', 'No', 'nan', 'No', 'nan', 'nan', 'nan', 'nan',\n",
       "       'I do not remember', 'No', 'No', 'Yes', 'No', 'I do not remember',\n",
       "       'No', 'No', 'I do not remember', 'I did not have class that day',\n",
       "       'No', 'nan', 'nan', 'I do not remember', 'No', 'No', 'No',\n",
       "       'I do not remember', 'I do not remember', 'Yes', 'nan', 'nan',\n",
       "       'I did not have class that day', 'No', 'I do not remember',\n",
       "       'I do not remember', 'I did not have class that day', 'No', 'nan',\n",
       "       'nan', 'nan', 'nan', 'I do not remember',\n",
       "       'I did not have class that day', 'nan', 'No', 'nan',\n",
       "       'I do not remember', 'No', 'I do not remember', 'nan', 'nan', 'No',\n",
       "       'No', 'nan', 'I do not remember', 'No', 'No', 'I do not remember',\n",
       "       'nan', 'No', 'No', 'nan', 'I do not remember', 'nan', 'No', 'No',\n",
       "       'nan', 'nan', 'nan', 'nan', 'I did not have class that day', 'nan',\n",
       "       'No', 'No', 'nan', 'I do not remember', 'I do not remember', 'No',\n",
       "       'No', 'No', 'No', 'No', 'I do not remember', 'No', 'nan', 'nan',\n",
       "       'nan', 'nan', 'nan', 'No', 'nan', 'nan', 'nan', 'nan',\n",
       "       'I do not remember', 'No', 'No', 'No', 'nan', 'No', 'No', 'No',\n",
       "       'nan', 'nan', 'No', 'I do not remember', 'I do not remember', 'No',\n",
       "       'nan', 'nan', 'I did not have class that day', 'nan', 'No', 'No',\n",
       "       'No', 'I did not have class that day', 'nan', 'No',\n",
       "       'I did not have class that day', 'nan', 'nan', 'No', 'No', 'No',\n",
       "       'nan', 'nan', 'nan', 'I do not remember',\n",
       "       'I did not have class that day', 'I did not have class that day',\n",
       "       'nan', 'No', 'nan', 'No', 'nan', 'No', 'nan',\n",
       "       'I was studying abroad', 'No', 'I did not have class that day',\n",
       "       'I do not remember', 'nan', 'No', 'nan', 'nan', 'nan', 'nan',\n",
       "       'nan', 'nan', 'No', 'No', 'No', 'I was studying abroad', 'No',\n",
       "       'nan', 'No', 'I do not remember', 'nan',\n",
       "       'I did not have class that day', 'No', 'I do not remember', 'No',\n",
       "       'nan', 'No', 'nan', 'No', 'I do not remember', 'I do not remember',\n",
       "       'No', 'Yes', 'I did not have class that day', 'nan', 'nan', 'nan',\n",
       "       'nan', 'nan', 'No', 'nan', 'I do not remember',\n",
       "       'I do not remember', 'nan', 'nan', 'No', 'No', 'I do not remember',\n",
       "       'No', 'nan', 'No', 'nan', 'No', 'nan', 'nan', 'No', 'No', 'No',\n",
       "       'nan', 'nan', 'No', 'No', 'I do not remember', 'I do not remember',\n",
       "       'nan', 'nan', 'nan', 'nan', 'I was studying abroad', 'No',\n",
       "       'I do not remember', 'No', 'I do not remember', 'No', 'nan',\n",
       "       'I do not remember', 'No', 'I do not remember',\n",
       "       'I do not remember', 'I did not have class that day', 'No', 'nan',\n",
       "       'No', 'nan', 'I do not remember', 'No', 'No', 'nan', 'No', 'nan',\n",
       "       'nan', 'nan', 'No', 'No', 'I do not remember', 'nan',\n",
       "       'I did not have class that day', 'nan', 'No', 'No', 'No',\n",
       "       'I do not remember', 'No', 'I do not remember', 'nan', 'No', 'No',\n",
       "       'nan', 'No', 'nan', 'No', 'nan', 'I do not remember', 'nan', 'nan',\n",
       "       'No', 'nan', 'No', 'nan', 'nan', 'nan', 'nan', 'No', 'No', 'No',\n",
       "       'No', 'nan', 'No', 'nan', 'nan', 'I do not remember', 'nan', 'nan',\n",
       "       'I was studying abroad', 'No', 'nan', 'nan', 'nan', 'No', 'No',\n",
       "       'I do not remember', 'nan', 'No', 'nan', 'No', 'nan', 'No', 'nan',\n",
       "       'No', 'nan', 'nan', 'nan', 'nan', 'nan', 'No', 'nan', 'nan', 'No',\n",
       "       'No', 'nan', 'nan', 'nan', 'nan', 'nan', 'No', 'nan', 'nan',\n",
       "       'I do not remember', 'No', 'nan', 'nan', 'nan', 'nan',\n",
       "       'I do not remember', 'nan', 'nan', 'nan', 'nan', 'nan', 'nan',\n",
       "       'I do not remember', 'nan', 'nan', 'No', 'nan', 'No', 'nan', 'No',\n",
       "       'No', 'No', 'I do not remember', 'I did not have class that day',\n",
       "       'Yes', 'I do not remember', 'I do not remember', 'nan', 'nan',\n",
       "       'I do not remember', 'I was studying abroad', 'nan',\n",
       "       'I do not remember', 'No', 'I did not have class that day', 'No',\n",
       "       'No', 'I do not remember', 'nan', 'nan', 'nan', 'nan', 'No', 'No',\n",
       "       'nan', 'I do not remember', 'No', 'No', 'Yes', 'nan', 'No', 'nan',\n",
       "       'No', 'I do not remember', 'nan', 'nan', 'nan', 'nan', 'nan',\n",
       "       'nan', 'nan', 'nan', 'nan', 'nan', 'nan', 'No', 'No', 'nan', 'nan',\n",
       "       'nan', 'nan', 'nan', 'nan', 'nan', 'nan', 'nan', 'No', 'nan',\n",
       "       'I did not have class that day', 'nan', 'nan',\n",
       "       'I did not have class that day', 'nan',\n",
       "       'I did not have class that day', 'nan', 'nan', 'nan', 'nan',\n",
       "       'I did not have class that day', 'nan', 'nan', 'nan',\n",
       "       'I do not remember', 'nan', 'nan', 'nan', 'nan',\n",
       "       'I do not remember', 'nan', 'nan', 'I do not remember',\n",
       "       'I do not remember', 'nan', 'nan', 'I was studying abroad', 'Yes',\n",
       "       'No', 'nan', 'No', 'nan', 'I do not remember', 'No', 'No', 'No',\n",
       "       'nan', 'nan', 'nan', 'nan', 'nan', 'nan', 'nan', 'nan',\n",
       "       'I did not have class that day', 'nan', 'nan', 'Yes', 'nan', 'nan',\n",
       "       'nan', 'nan', 'nan', 'I do not remember', 'nan', 'nan', 'nan',\n",
       "       'nan', 'nan', 'nan', 'nan', 'nan', 'nan', 'I do not remember',\n",
       "       'I do not remember', 'No', 'nan', 'nan', 'nan', 'nan', 'nan',\n",
       "       'nan', 'I did not have class that day', 'nan', 'nan',\n",
       "       'I do not remember', 'No', 'nan', 'nan', 'No', 'I do not remember',\n",
       "       'nan', 'nan', 'nan', 'No', 'nan', 'No', 'No', 'No', 'No',\n",
       "       'I do not remember', 'nan', 'No', 'nan', 'nan', 'nan',\n",
       "       'I do not remember', 'No', 'No', 'nan', 'nan', 'nan',\n",
       "       'I do not remember', 'nan', 'nan', 'No', 'nan', 'nan', 'nan',\n",
       "       'nan', 'nan', 'I do not remember', 'nan', 'nan', 'nan', 'nan',\n",
       "       'No', 'nan', 'nan', 'I did not have class that day', 'nan', 'No',\n",
       "       'I do not remember', 'nan', 'nan', 'nan', 'No', 'nan'],\n",
       "      dtype='<U159')"
      ]
     },
     "execution_count": 13,
     "metadata": {},
     "output_type": "execute_result"
    }
   ],
   "source": [
    "survey_table.column(\"Q18\")"
   ]
  },
  {
   "cell_type": "code",
   "execution_count": 14,
   "metadata": {},
   "outputs": [
    {
     "data": {
      "text/plain": [
       "0.485"
      ]
     },
     "execution_count": 14,
     "metadata": {},
     "output_type": "execute_result"
    }
   ],
   "source": [
    "missing_proportion(survey_table, \"Q18\")"
   ]
  },
  {
   "cell_type": "code",
   "execution_count": 15,
   "metadata": {},
   "outputs": [
    {
     "data": {
      "text/plain": [
       "0.485"
      ]
     },
     "execution_count": 15,
     "metadata": {},
     "output_type": "execute_result"
    }
   ],
   "source": [
    "missing_proportion(survey_frame, \"Q18\")"
   ]
  },
  {
   "cell_type": "markdown",
   "metadata": {},
   "source": [
    "### Tests for Drop Missing Rows"
   ]
  },
  {
   "cell_type": "code",
   "execution_count": 16,
   "metadata": {},
   "outputs": [
    {
     "data": {
      "text/html": [
       "<table border=\"1\" class=\"dataframe\">\n",
       "    <thead>\n",
       "        <tr>\n",
       "            <th>first</th> <th>second</th>\n",
       "        </tr>\n",
       "    </thead>\n",
       "    <tbody>\n",
       "        <tr>\n",
       "            <td>1    </td> <td>1     </td>\n",
       "        </tr>\n",
       "        <tr>\n",
       "            <td>None </td> <td>2     </td>\n",
       "        </tr>\n",
       "        <tr>\n",
       "            <td>3    </td> <td>3     </td>\n",
       "        </tr>\n",
       "    </tbody>\n",
       "</table>"
      ],
      "text/plain": [
       "first | second\n",
       "1     | 1\n",
       "None  | 2\n",
       "3     | 3"
      ]
     },
     "execution_count": 16,
     "metadata": {},
     "output_type": "execute_result"
    }
   ],
   "source": [
    "table2"
   ]
  },
  {
   "cell_type": "code",
   "execution_count": 17,
   "metadata": {},
   "outputs": [
    {
     "data": {
      "text/html": [
       "<table border=\"1\" class=\"dataframe\">\n",
       "    <thead>\n",
       "        <tr>\n",
       "            <th>first</th> <th>second</th>\n",
       "        </tr>\n",
       "    </thead>\n",
       "    <tbody>\n",
       "        <tr>\n",
       "            <td>1    </td> <td>1     </td>\n",
       "        </tr>\n",
       "        <tr>\n",
       "            <td>3    </td> <td>3     </td>\n",
       "        </tr>\n",
       "    </tbody>\n",
       "</table>"
      ],
      "text/plain": [
       "first | second\n",
       "1     | 1\n",
       "3     | 3"
      ]
     },
     "execution_count": 17,
     "metadata": {},
     "output_type": "execute_result"
    }
   ],
   "source": [
    "drop_missing_rows(table2, 'first')"
   ]
  },
  {
   "cell_type": "code",
   "execution_count": 18,
   "metadata": {},
   "outputs": [
    {
     "data": {
      "text/html": [
       "<table border=\"1\" class=\"dataframe\">\n",
       "    <thead>\n",
       "        <tr>\n",
       "            <th>first</th> <th>second</th>\n",
       "        </tr>\n",
       "    </thead>\n",
       "    <tbody>\n",
       "        <tr>\n",
       "            <td>1    </td> <td>1     </td>\n",
       "        </tr>\n",
       "        <tr>\n",
       "            <td>None </td> <td>2     </td>\n",
       "        </tr>\n",
       "        <tr>\n",
       "            <td>3    </td> <td>3     </td>\n",
       "        </tr>\n",
       "    </tbody>\n",
       "</table>"
      ],
      "text/plain": [
       "first | second\n",
       "1     | 1\n",
       "None  | 2\n",
       "3     | 3"
      ]
     },
     "execution_count": 18,
     "metadata": {},
     "output_type": "execute_result"
    }
   ],
   "source": [
    "drop_missing_rows(table2, 'second')"
   ]
  },
  {
   "cell_type": "code",
   "execution_count": 19,
   "metadata": {},
   "outputs": [
    {
     "data": {
      "text/html": [
       "<table border=\"1\" class=\"dataframe\">\n",
       "    <thead>\n",
       "        <tr>\n",
       "            <th>Q18</th>\n",
       "        </tr>\n",
       "    </thead>\n",
       "    <tbody>\n",
       "        <tr>\n",
       "            <td>If you had class during the presidential elections on Tu ...</td>\n",
       "        </tr>\n",
       "        <tr>\n",
       "            <td>{\"ImportId\":\"QID73\"}                                        </td>\n",
       "        </tr>\n",
       "        <tr>\n",
       "            <td>No                                                          </td>\n",
       "        </tr>\n",
       "        <tr>\n",
       "            <td>I do not remember                                           </td>\n",
       "        </tr>\n",
       "        <tr>\n",
       "            <td>None                                                        </td>\n",
       "        </tr>\n",
       "    </tbody>\n",
       "</table>\n",
       "<p>... (544 rows omitted)</p>"
      ],
      "text/plain": [
       "<IPython.core.display.HTML object>"
      ]
     },
     "metadata": {},
     "output_type": "display_data"
    }
   ],
   "source": [
    "survey_table.select(\"Q18\").show(5)"
   ]
  },
  {
   "cell_type": "code",
   "execution_count": 20,
   "metadata": {},
   "outputs": [
    {
     "data": {
      "text/html": [
       "<table border=\"1\" class=\"dataframe\">\n",
       "    <thead>\n",
       "        <tr>\n",
       "            <th>Q18</th>\n",
       "        </tr>\n",
       "    </thead>\n",
       "    <tbody>\n",
       "        <tr>\n",
       "            <td>If you had class during the presidential elections on Tu ...</td>\n",
       "        </tr>\n",
       "        <tr>\n",
       "            <td>{\"ImportId\":\"QID73\"}                                        </td>\n",
       "        </tr>\n",
       "        <tr>\n",
       "            <td>No                                                          </td>\n",
       "        </tr>\n",
       "        <tr>\n",
       "            <td>I do not remember                                           </td>\n",
       "        </tr>\n",
       "        <tr>\n",
       "            <td>No                                                          </td>\n",
       "        </tr>\n",
       "    </tbody>\n",
       "</table>\n",
       "<p>... (278 rows omitted)</p>"
      ],
      "text/plain": [
       "<IPython.core.display.HTML object>"
      ]
     },
     "metadata": {},
     "output_type": "display_data"
    }
   ],
   "source": [
    "drop_missing_rows(survey_table, 'Q18').select('Q18').show(5)"
   ]
  },
  {
   "cell_type": "code",
   "execution_count": 21,
   "metadata": {},
   "outputs": [
    {
     "ename": "AssertionError",
     "evalue": "Input not a supported type.",
     "output_type": "error",
     "traceback": [
      "\u001b[1;31m---------------------------------------------------------------------------\u001b[0m",
      "\u001b[1;31mAssertionError\u001b[0m                            Traceback (most recent call last)",
      "\u001b[1;32m<ipython-input-21-ab579ac6a738>\u001b[0m in \u001b[0;36m<module>\u001b[1;34m()\u001b[0m\n\u001b[1;32m----> 1\u001b[1;33m \u001b[0mdrop_missing_rows\u001b[0m\u001b[1;33m(\u001b[0m\u001b[1;33m[\u001b[0m\u001b[1;33m[\u001b[0m\u001b[1;36m1\u001b[0m\u001b[1;33m,\u001b[0m\u001b[1;36m2\u001b[0m\u001b[1;33m,\u001b[0m\u001b[1;36m3\u001b[0m\u001b[1;33m]\u001b[0m\u001b[1;33m,\u001b[0m \u001b[1;33m[\u001b[0m\u001b[1;36m2\u001b[0m\u001b[1;33m,\u001b[0m\u001b[1;36m3\u001b[0m\u001b[1;33m,\u001b[0m\u001b[0mnp\u001b[0m\u001b[1;33m.\u001b[0m\u001b[0mnan\u001b[0m\u001b[1;33m]\u001b[0m\u001b[1;33m]\u001b[0m\u001b[1;33m)\u001b[0m\u001b[1;33m\u001b[0m\u001b[0m\n\u001b[0m",
      "\u001b[1;32m~\\Desktop\\surveydata\\DataCleaning.py\u001b[0m in \u001b[0;36mdrop_missing_rows\u001b[1;34m(table, column_name)\u001b[0m\n\u001b[0;32m     53\u001b[0m         \u001b[0mrows\u001b[0m \u001b[1;32mwith\u001b[0m \u001b[0mmissing\u001b[0m \u001b[0mvalues\u001b[0m \u001b[0mwill\u001b[0m \u001b[0mbe\u001b[0m \u001b[0mdropped\u001b[0m \u001b[0munless\u001b[0m \u001b[0mcolumns\u001b[0m \u001b[1;33m=\u001b[0m \u001b[1;32mTrue\u001b[0m \u001b[1;32mis\u001b[0m \u001b[0mspecified\u001b[0m \u001b[1;32mas\u001b[0m \u001b[0man\u001b[0m \u001b[0margument\u001b[0m\u001b[1;33m.\u001b[0m\u001b[1;33m\u001b[0m\u001b[0m\n\u001b[0;32m     54\u001b[0m \t\"\"\"\n\u001b[1;32m---> 55\u001b[1;33m         \u001b[1;32massert\u001b[0m \u001b[0misinstance\u001b[0m\u001b[1;33m(\u001b[0m\u001b[0mtable\u001b[0m\u001b[1;33m,\u001b[0m \u001b[0mTable\u001b[0m\u001b[1;33m)\u001b[0m\u001b[1;33m,\u001b[0m \u001b[1;34m\"Input not a supported type.\"\u001b[0m\u001b[1;33m\u001b[0m\u001b[0m\n\u001b[0m\u001b[0;32m     56\u001b[0m         \u001b[1;32massert\u001b[0m \u001b[1;33m(\u001b[0m\u001b[0mcolumn_name\u001b[0m \u001b[1;32min\u001b[0m \u001b[0mtable\u001b[0m\u001b[1;33m.\u001b[0m\u001b[0mlabels\u001b[0m\u001b[1;33m)\u001b[0m\u001b[1;33m,\u001b[0m \u001b[1;34m\"Input is invalid. Enter a valid column name.\"\u001b[0m\u001b[1;33m\u001b[0m\u001b[0m\n\u001b[0;32m     57\u001b[0m         \u001b[0mencode_nans\u001b[0m\u001b[1;33m(\u001b[0m\u001b[0mtable\u001b[0m\u001b[1;33m,\u001b[0m \u001b[0mcolumn_name\u001b[0m\u001b[1;33m)\u001b[0m\u001b[1;33m\u001b[0m\u001b[0m\n",
      "\u001b[1;31mAssertionError\u001b[0m: Input not a supported type."
     ]
    }
   ],
   "source": [
    "drop_missing_rows([[1,2,3], [2,3,np.nan]])"
   ]
  }
 ],
 "metadata": {
  "kernelspec": {
   "display_name": "Python 3",
   "language": "python",
   "name": "python3"
  },
  "language_info": {
   "codemirror_mode": {
    "name": "ipython",
    "version": 3
   },
   "file_extension": ".py",
   "mimetype": "text/x-python",
   "name": "python",
   "nbconvert_exporter": "python",
   "pygments_lexer": "ipython3",
   "version": "3.6.5"
  }
 },
 "nbformat": 4,
 "nbformat_minor": 2
}
