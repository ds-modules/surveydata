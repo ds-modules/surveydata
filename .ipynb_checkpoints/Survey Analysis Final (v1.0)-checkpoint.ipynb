{
 "cells": [
  {
   "cell_type": "markdown",
   "metadata": {},
   "source": [
    "# [GLOBAL 150Q/PACS 190] Data Analysis (2)"
   ]
  },
  {
   "cell_type": "markdown",
   "metadata": {},
   "source": [
    "### Professor Crystal Chang Cohen, Professor Tiffany Page "
   ]
  },
  {
   "cell_type": "markdown",
   "metadata": {},
   "source": [
    "In this notebook, we will learn how to analyze survey data. We will use cleaned data from the last notebook to manipulate data tables, create data visualizations, and interpret results. "
   ]
  },
  {
   "cell_type": "markdown",
   "metadata": {},
   "source": [
    "--------------------------------------------------------------------------------------------------------------------------------"
   ]
  },
  {
   "cell_type": "markdown",
   "metadata": {},
   "source": [
    "### Topics Covered\n",
    " - Pivot tables\n",
    " - Bar Charts \n",
    " - Correlation vs. Causation"
   ]
  },
  {
   "cell_type": "markdown",
   "metadata": {},
   "source": [
    "### Table of Contents"
   ]
  },
  {
   "cell_type": "markdown",
   "metadata": {},
   "source": [
    "##### Dependencies:"
   ]
  },
  {
   "cell_type": "code",
   "execution_count": 1,
   "metadata": {},
   "outputs": [],
   "source": [
    "from datascience import *\n",
    "from utils import *\n",
    "import matplotlib.pyplot as plt\n",
    "%matplotlib inline"
   ]
  },
  {
   "cell_type": "markdown",
   "metadata": {},
   "source": [
    "### The Data"
   ]
  },
  {
   "cell_type": "markdown",
   "metadata": {},
   "source": [
    "You'll be working with data collected from a survey about the voting patterns of students at UC Berkeley. This data was collected by Hannah Hill, who used the data to study the factors that influence youth voter turnout. In this notebook, we will analyze the cleaned data from the last notebook and interpret the results. Here's a peek at the first few rows of our dataset:"
   ]
  },
  {
   "cell_type": "code",
   "execution_count": 2,
   "metadata": {},
   "outputs": [
    {
     "name": "stderr",
     "output_type": "stream",
     "text": [
      "C:\\Anaconda3\\lib\\site-packages\\datascience\\tables.py:132: FutureWarning: read_table is deprecated, use read_csv instead.\n",
      "  df = pandas.read_table(filepath_or_buffer, *args, **vargs)\n"
     ]
    },
    {
     "data": {
      "text/html": [
       "<table border=\"1\" class=\"dataframe\">\n",
       "    <thead>\n",
       "        <tr>\n",
       "            <th>Q5</th> <th>Q7</th> <th>Q8</th> <th>Q9</th> <th>Q15</th> <th>Q16</th> <th>Q17</th> <th>Q20</th> <th>Q23</th> <th>Q23_5_TEXT</th> <th>Q29_1</th> <th>Q31</th> <th>Q55</th> <th>Q35</th> <th>Q36</th> <th>Q40_1</th> <th>Q40_2</th> <th>Q40_3</th> <th>Q41_23</th> <th>Q42_1</th> <th>Q42_2</th> <th>Q42_3</th> <th>Q43_1</th> <th>Q43_2</th> <th>Q43_3</th> <th>Q43_4</th> <th>Q43_5</th> <th>Q43_6</th> <th>Q43_7</th> <th>Q43_8</th> <th>Q43_9</th> <th>Q43_10</th> <th>Q43_11</th> <th>Q43_11_TEXT</th> <th>Q44_0_GROUP</th> <th>Q44_0_1_RANK</th> <th>Q44_0_15_RANK</th> <th>Q44_0_4_RANK</th> <th>Q44_0_5_RANK</th> <th>Q44_0_6_RANK</th> <th>Q44_0_9_RANK</th> <th>Q44_0_10_RANK</th> <th>Q44_0_11_RANK</th> <th>Q44_0_12_RANK</th> <th>Q44_0_13_RANK</th> <th>Q44_0_14_RANK</th> <th>Q44_0_16_RANK</th> <th>Q44_0_8_RANK</th> <th>Q44_8_TEXT</th> <th>Q47_1</th> <th>Q47_2</th>\n",
       "        </tr>\n",
       "    </thead>\n",
       "    <tbody>\n",
       "        <tr>\n",
       "            <td>Social Sciences             </td> <td>Woman</td> <td>White     </td> <td>21  </td> <td>Yes </td> <td>Polling station</td> <td>Trump</td> <td>Happy           </td> <td>Volunteering        </td> <td>nan       </td> <td>nan  </td> <td>No; I did not check  </td> <td>Mostly Republicans</td> <td>Yes </td> <td>No  </td> <td>1    </td> <td>1    </td> <td>1    </td> <td>7     </td> <td>2    </td> <td>6    </td> <td>6    </td> <td>5    </td> <td>5    </td> <td>5    </td> <td>5    </td> <td>5    </td> <td>5    </td> <td>5    </td> <td>5    </td> <td>5    </td> <td>5     </td> <td>0     </td> <td>nan        </td> <td>Fox News,New York Times,CBS,Twitter,CNN            </td> <td>nan         </td> <td>4            </td> <td>2           </td> <td>5           </td> <td>1           </td> <td>nan         </td> <td>3            </td> <td>nan          </td> <td>nan          </td> <td>nan          </td> <td>nan          </td> <td>nan          </td> <td>nan         </td> <td>nan       </td> <td>Moderately knowledgeable</td> <td>Slightly knowledgeable </td>\n",
       "        </tr>\n",
       "        <tr>\n",
       "            <td>Engineering/Computer Science</td> <td>Man  </td> <td>White     </td> <td>20  </td> <td>Yes </td> <td>Polling station</td> <td>Trump</td> <td>nan             </td> <td>Volunteering        </td> <td>nan       </td> <td>3    </td> <td>No; I do not know how</td> <td>Mostly Republicans</td> <td>No  </td> <td>No  </td> <td>4    </td> <td>2    </td> <td>2    </td> <td>7     </td> <td>3    </td> <td>4    </td> <td>1    </td> <td>5    </td> <td>4    </td> <td>4    </td> <td>4    </td> <td>3    </td> <td>3    </td> <td>4    </td> <td>3    </td> <td>3    </td> <td>3     </td> <td>0     </td> <td>nan        </td> <td>nan                                                </td> <td>nan         </td> <td>nan          </td> <td>nan         </td> <td>nan         </td> <td>nan         </td> <td>nan         </td> <td>nan          </td> <td>nan          </td> <td>nan          </td> <td>nan          </td> <td>nan          </td> <td>nan          </td> <td>nan         </td> <td>nan       </td> <td>Slightly knowledgeable  </td> <td>Very knowledgeable     </td>\n",
       "        </tr>\n",
       "        <tr>\n",
       "            <td>Social Sciences             </td> <td>Woman</td> <td>Mixed Race</td> <td>18  </td> <td>nan </td> <td>nan            </td> <td>nan  </td> <td>Sad,Scared,Angry</td> <td>Community engagement</td> <td>nan       </td> <td>nan  </td> <td>Yes; it was counted  </td> <td>Only Democrats    </td> <td>Yes </td> <td>No  </td> <td>5    </td> <td>5    </td> <td>4    </td> <td>2     </td> <td>6    </td> <td>6    </td> <td>3    </td> <td>5    </td> <td>5    </td> <td>5    </td> <td>4    </td> <td>4    </td> <td>5    </td> <td>5    </td> <td>4    </td> <td>4    </td> <td>4     </td> <td>0     </td> <td>nan        </td> <td>CNN,New York Times,Twitter,Facebook,Washington Post</td> <td>4           </td> <td>3            </td> <td>2           </td> <td>1           </td> <td>nan         </td> <td>5           </td> <td>nan          </td> <td>nan          </td> <td>nan          </td> <td>nan          </td> <td>nan          </td> <td>nan          </td> <td>nan         </td> <td>nan       </td> <td>Extremely knowledgeable </td> <td>Extremely knowledgeable</td>\n",
       "        </tr>\n",
       "    </tbody>\n",
       "</table>\n",
       "<p>... (513 rows omitted)</p>"
      ],
      "text/plain": [
       "<IPython.core.display.HTML object>"
      ]
     },
     "metadata": {},
     "output_type": "display_data"
    }
   ],
   "source": [
    "data = Table().read_table('cleaned_data.csv')\n",
    "data.show(3)"
   ]
  },
  {
   "cell_type": "markdown",
   "metadata": {},
   "source": [
    "#### Data Table Column Legend"
   ]
  },
  {
   "cell_type": "markdown",
   "metadata": {},
   "source": [
    "You may have noticed that the columns of the table pertain to questions on the survey, while each row pertains to the answers in a response. Here is a list of questions that we'll be working with:\n",
    "\n",
    " - \"Q5\"   : Student's Major\n",
    " \n",
    " \n",
    " - \"Q17\"  : Which Presidential Candidate did you vote for?\n",
    " \n",
    " \n",
    " - \"Q29\"  : If you registered for the first time in 2018 or re-registered to vote, how would you describe the registration process? (Ranges from 1 being extremely easy to 5 being extremely hard)\n",
    " \n",
    " \n",
    " - \"Q40_2\": I feel like I am able to present my political views freely on campus. (Scale from 1 being Strongly Disagree to 5 being Strongly Agree)\n",
    " \n",
    "\n",
    "- \"Q40_3\" : I think all political discussions are encouraged on campus. (Scale from 1 being Strongly Disagree to 5 being Strongly Agree)\n",
    "\n",
    "\n",
    "- \"Q41_23\": Drag the cursor to the place on the political spectrum that you mostly align your political ideologies with. (1 to 4 is Liberal, 5-6 is Moderate, 7-10 is Conservative) \n",
    "\n",
    "\n",
    "- \"Q47_1\" : Select the answers that best fit your level of knowledge of Candidates' positions in the 2018 midterm elections. (Scale from 1 being Not Knowledgeable at all to 7 being Extremely Knowledgeable)"
   ]
  },
  {
   "cell_type": "markdown",
   "metadata": {},
   "source": [
    "Let's start by looking at the relationships between Major, Gender Identity, and Ethnicity and candidate of choice in the 2016 Presidential Election."
   ]
  },
  {
   "cell_type": "markdown",
   "metadata": {},
   "source": [
    "### Part I: Relationship between Demographic Factors and Presidential Choice"
   ]
  },
  {
   "cell_type": "markdown",
   "metadata": {},
   "source": [
    "#### Exercise 1.1: Displaying Rows"
   ]
  },
  {
   "cell_type": "markdown",
   "metadata": {},
   "source": [
    "Let's get an idea of the data we're working with. \n",
    "\n",
    "**TASK:** Use the **.select** function to display only the columns pertaining to Major and Presidential Candidate vote. Remember that you can use Python's lists ([x, y]) to select more than one column at once. Save this new table into a name called **major_presidential_vote**. "
   ]
  },
  {
   "cell_type": "code",
   "execution_count": 3,
   "metadata": {},
   "outputs": [
    {
     "data": {
      "text/html": [
       "<table border=\"1\" class=\"dataframe\">\n",
       "    <thead>\n",
       "        <tr>\n",
       "            <th>Q5</th> <th>Q17</th>\n",
       "        </tr>\n",
       "    </thead>\n",
       "    <tbody>\n",
       "        <tr>\n",
       "            <td>Social Sciences             </td> <td>Trump    </td>\n",
       "        </tr>\n",
       "        <tr>\n",
       "            <td>Engineering/Computer Science</td> <td>Trump    </td>\n",
       "        </tr>\n",
       "        <tr>\n",
       "            <td>Social Sciences             </td> <td>nan      </td>\n",
       "        </tr>\n",
       "        <tr>\n",
       "            <td>Life Sciences               </td> <td>Clinton  </td>\n",
       "        </tr>\n",
       "        <tr>\n",
       "            <td>Arts & Humanities           </td> <td>nan      </td>\n",
       "        </tr>\n",
       "        <tr>\n",
       "            <td>Arts & Humanities           </td> <td>Clinton  </td>\n",
       "        </tr>\n",
       "        <tr>\n",
       "            <td>Social Sciences             </td> <td>Clinton  </td>\n",
       "        </tr>\n",
       "        <tr>\n",
       "            <td>Arts & Humanities           </td> <td>3rd party</td>\n",
       "        </tr>\n",
       "        <tr>\n",
       "            <td>Engineering/Computer Science</td> <td>nan      </td>\n",
       "        </tr>\n",
       "        <tr>\n",
       "            <td>Arts & Humanities           </td> <td>Clinton  </td>\n",
       "        </tr>\n",
       "    </tbody>\n",
       "</table>\n",
       "<p>... (506 rows omitted)</p>"
      ],
      "text/plain": [
       "Q5                           | Q17\n",
       "Social Sciences              | Trump\n",
       "Engineering/Computer Science | Trump\n",
       "Social Sciences              | nan\n",
       "Life Sciences                | Clinton\n",
       "Arts & Humanities            | nan\n",
       "Arts & Humanities            | Clinton\n",
       "Social Sciences              | Clinton\n",
       "Arts & Humanities            | 3rd party\n",
       "Engineering/Computer Science | nan\n",
       "Arts & Humanities            | Clinton\n",
       "... (506 rows omitted)"
      ]
     },
     "execution_count": 3,
     "metadata": {},
     "output_type": "execute_result"
    }
   ],
   "source": [
    "major_presidential_vote = data.select(['Q5', 'Q17'])\n",
    "major_presidential_vote"
   ]
  },
  {
   "cell_type": "markdown",
   "metadata": {},
   "source": [
    "#### Exercise 1.2: Filtering Rows"
   ]
  },
  {
   "cell_type": "markdown",
   "metadata": {},
   "source": [
    "**Question:** What observations do you have about the structure or values in this table?"
   ]
  },
  {
   "cell_type": "markdown",
   "metadata": {},
   "source": [
    "**Answer:** [Click on this cell and write your answer here]"
   ]
  },
  {
   "cell_type": "markdown",
   "metadata": {},
   "source": [
    "Those *'nan's* represent missing values. They usually arise when someone chose not to respond to a question. It is also possible to get missing values if data isn't formatted correctly. In any case, we will have to remove those values before proceeding. \n",
    "\n",
    "**TASK:** Use the **drop_missing_rows** function to return a table which doesn't contain any missing values. This function takes in a table and a column name to drop missing values from. Save the resulting table into a name called **cleaned_major_presidential_votes**."
   ]
  },
  {
   "cell_type": "code",
   "execution_count": 4,
   "metadata": {},
   "outputs": [
    {
     "data": {
      "text/html": [
       "<table border=\"1\" class=\"dataframe\">\n",
       "    <thead>\n",
       "        <tr>\n",
       "            <th>Q5</th> <th>Q17</th>\n",
       "        </tr>\n",
       "    </thead>\n",
       "    <tbody>\n",
       "        <tr>\n",
       "            <td>Social Sciences                         </td> <td>Trump    </td>\n",
       "        </tr>\n",
       "        <tr>\n",
       "            <td>Engineering/Computer Science            </td> <td>Trump    </td>\n",
       "        </tr>\n",
       "        <tr>\n",
       "            <td>Life Sciences                           </td> <td>Clinton  </td>\n",
       "        </tr>\n",
       "        <tr>\n",
       "            <td>Arts & Humanities                       </td> <td>Clinton  </td>\n",
       "        </tr>\n",
       "        <tr>\n",
       "            <td>Social Sciences                         </td> <td>Clinton  </td>\n",
       "        </tr>\n",
       "        <tr>\n",
       "            <td>Arts & Humanities                       </td> <td>3rd party</td>\n",
       "        </tr>\n",
       "        <tr>\n",
       "            <td>Arts & Humanities                       </td> <td>Clinton  </td>\n",
       "        </tr>\n",
       "        <tr>\n",
       "            <td>Engineering/Computer Science            </td> <td>Clinton  </td>\n",
       "        </tr>\n",
       "        <tr>\n",
       "            <td>Engineering/Computer Science            </td> <td>Clinton  </td>\n",
       "        </tr>\n",
       "        <tr>\n",
       "            <td>Engineering/Computer Science/Mathematics</td> <td>Clinton  </td>\n",
       "        </tr>\n",
       "    </tbody>\n",
       "</table>\n",
       "<p>... (229 rows omitted)</p>"
      ],
      "text/plain": [
       "Q5                                       | Q17\n",
       "Social Sciences                          | Trump\n",
       "Engineering/Computer Science             | Trump\n",
       "Life Sciences                            | Clinton\n",
       "Arts & Humanities                        | Clinton\n",
       "Social Sciences                          | Clinton\n",
       "Arts & Humanities                        | 3rd party\n",
       "Arts & Humanities                        | Clinton\n",
       "Engineering/Computer Science             | Clinton\n",
       "Engineering/Computer Science             | Clinton\n",
       "Engineering/Computer Science/Mathematics | Clinton\n",
       "... (229 rows omitted)"
      ]
     },
     "execution_count": 4,
     "metadata": {},
     "output_type": "execute_result"
    }
   ],
   "source": [
    "cleaned_major_presidential_votes = drop_missing_rows(major_presidential_vote, 'Q17')\n",
    "cleaned_major_presidential_votes"
   ]
  },
  {
   "cell_type": "markdown",
   "metadata": {},
   "source": [
    "Another thing to note: Some of the majors in our table contain more than one value. Let's fix this. \n",
    "\n",
    "**TASK:** Use the **fix_major_formatting** to return a table which has correct Major formatting. This function takes in a table and a column name. Save the resulting table into a name called **fixed_major_presidential_votes**."
   ]
  },
  {
   "cell_type": "code",
   "execution_count": 5,
   "metadata": {},
   "outputs": [
    {
     "data": {
      "text/html": [
       "<table border=\"1\" class=\"dataframe\">\n",
       "    <thead>\n",
       "        <tr>\n",
       "            <th>Q5</th> <th>Q17</th>\n",
       "        </tr>\n",
       "    </thead>\n",
       "    <tbody>\n",
       "        <tr>\n",
       "            <td>Social Sciences  </td> <td>Trump    </td>\n",
       "        </tr>\n",
       "        <tr>\n",
       "            <td>Engineering      </td> <td>Trump    </td>\n",
       "        </tr>\n",
       "        <tr>\n",
       "            <td>Life Sciences    </td> <td>Clinton  </td>\n",
       "        </tr>\n",
       "        <tr>\n",
       "            <td>Arts & Humanities</td> <td>Clinton  </td>\n",
       "        </tr>\n",
       "        <tr>\n",
       "            <td>Social Sciences  </td> <td>Clinton  </td>\n",
       "        </tr>\n",
       "        <tr>\n",
       "            <td>Arts & Humanities</td> <td>3rd party</td>\n",
       "        </tr>\n",
       "        <tr>\n",
       "            <td>Arts & Humanities</td> <td>Clinton  </td>\n",
       "        </tr>\n",
       "        <tr>\n",
       "            <td>Engineering      </td> <td>Clinton  </td>\n",
       "        </tr>\n",
       "        <tr>\n",
       "            <td>Engineering      </td> <td>Clinton  </td>\n",
       "        </tr>\n",
       "        <tr>\n",
       "            <td>Engineering      </td> <td>Clinton  </td>\n",
       "        </tr>\n",
       "    </tbody>\n",
       "</table>\n",
       "<p>... (229 rows omitted)</p>"
      ],
      "text/plain": [
       "Q5                | Q17\n",
       "Social Sciences   | Trump\n",
       "Engineering       | Trump\n",
       "Life Sciences     | Clinton\n",
       "Arts & Humanities | Clinton\n",
       "Social Sciences   | Clinton\n",
       "Arts & Humanities | 3rd party\n",
       "Arts & Humanities | Clinton\n",
       "Engineering       | Clinton\n",
       "Engineering       | Clinton\n",
       "Engineering       | Clinton\n",
       "... (229 rows omitted)"
      ]
     },
     "execution_count": 5,
     "metadata": {},
     "output_type": "execute_result"
    }
   ],
   "source": [
    "fixed_major_presidential_votes = fix_major_formatting(cleaned_major_presidential_votes, 'Q5')\n",
    "fixed_major_presidential_votes"
   ]
  },
  {
   "cell_type": "markdown",
   "metadata": {},
   "source": [
    "Great work! We're now ready to start processing our data into a more meaningful format."
   ]
  },
  {
   "cell_type": "markdown",
   "metadata": {},
   "source": [
    "#### Exercise 1.3: Pivot Tables"
   ]
  },
  {
   "cell_type": "markdown",
   "metadata": {},
   "source": [
    "Pivot tables are data structures that allow us to summarize key points in our dataset. In our case, we are trying to look at the relationship between Major and Presidential Vote. Our *independent variable*, or the variable that we believe influences the other in this case, is Major. This variable should be presented along the columns of our pivot table. The *dependent variable* should be placed along the rows of the pivot table. The data within the table will be counts of unique pairings.\n",
    "\n",
    "**TASK:** Use the Table method **.pivot** to create a pivot table between Major and Presidential Vote. This function takes in two arguments: the column name to be displayed along the columns, and the column name to be displayed along the rows. Save the resulting pivot table into a name called **pivoted_major_presidential_votes**."
   ]
  },
  {
   "cell_type": "code",
   "execution_count": 6,
   "metadata": {},
   "outputs": [
    {
     "data": {
      "text/html": [
       "<table border=\"1\" class=\"dataframe\">\n",
       "    <thead>\n",
       "        <tr>\n",
       "            <th>Q17</th> <th>Arts & Humanities</th> <th>Business</th> <th>Engineering</th> <th>Life Sciences</th> <th>Physical Sciences</th> <th>Social Sciences</th>\n",
       "        </tr>\n",
       "    </thead>\n",
       "    <tbody>\n",
       "        <tr>\n",
       "            <td>3rd party</td> <td>6                </td> <td>2       </td> <td>4          </td> <td>5            </td> <td>1                </td> <td>5              </td>\n",
       "        </tr>\n",
       "        <tr>\n",
       "            <td>Clinton  </td> <td>34               </td> <td>7       </td> <td>41         </td> <td>44           </td> <td>14               </td> <td>68             </td>\n",
       "        </tr>\n",
       "        <tr>\n",
       "            <td>Trump    </td> <td>2                </td> <td>1       </td> <td>2          </td> <td>0            </td> <td>0                </td> <td>3              </td>\n",
       "        </tr>\n",
       "    </tbody>\n",
       "</table>"
      ],
      "text/plain": [
       "Q17       | Arts & Humanities | Business | Engineering | Life Sciences | Physical Sciences | Social Sciences\n",
       "3rd party | 6                 | 2        | 4           | 5             | 1                 | 5\n",
       "Clinton   | 34                | 7        | 41          | 44            | 14                | 68\n",
       "Trump     | 2                 | 1        | 2           | 0             | 0                 | 3"
      ]
     },
     "execution_count": 6,
     "metadata": {},
     "output_type": "execute_result"
    }
   ],
   "source": [
    "pivoted_major_presidential_votes = fixed_major_presidential_votes.pivot('Q5', 'Q17')\n",
    "pivoted_major_presidential_votes"
   ]
  },
  {
   "cell_type": "markdown",
   "metadata": {},
   "source": [
    "Let's understand what's happening here. In the first column, we have the three possibilities for presidential votes. Along the rest of the columns, we have the possibilities for major choice. The values in the 2nd column onwards contain the counts of unique pairings between Major and Presidential Vote. For example, there were 34 people who *both* voted for Hillary Clinton and majored in Arts & Humanities."
   ]
  },
  {
   "cell_type": "markdown",
   "metadata": {},
   "source": [
    "**Question:** Is this pivot table enough information to make conclusions about Major and Presidential Choice? Why or why not? "
   ]
  },
  {
   "cell_type": "markdown",
   "metadata": {},
   "source": [
    "**Answer:** [Click on this cell and write your answer here]"
   ]
  },
  {
   "cell_type": "markdown",
   "metadata": {},
   "source": [
    "We need to convert the counts in the pivot table to proportions to make a fair comparison between Majors.\n",
    "\n",
    "**TASK:** Use the function **counts_to_proportions** to convert the pivot table into another pivot table with proportions. This function takes in a pivot table and returns a modified pivot table. Save the result into a name called **proportion_major_vote**."
   ]
  },
  {
   "cell_type": "code",
   "execution_count": 7,
   "metadata": {},
   "outputs": [
    {
     "data": {
      "text/html": [
       "<table border=\"1\" class=\"dataframe\">\n",
       "    <thead>\n",
       "        <tr>\n",
       "            <th>Q17</th> <th>Arts & Humanities</th> <th>Business</th> <th>Engineering</th> <th>Life Sciences</th> <th>Physical Sciences</th> <th>Social Sciences</th>\n",
       "        </tr>\n",
       "    </thead>\n",
       "    <tbody>\n",
       "        <tr>\n",
       "            <td>3rd party</td> <td>0.142857         </td> <td>0.2     </td> <td>0.0851064  </td> <td>0.102041     </td> <td>0.0666667        </td> <td>0.0657895      </td>\n",
       "        </tr>\n",
       "        <tr>\n",
       "            <td>Clinton  </td> <td>0.809524         </td> <td>0.7     </td> <td>0.87234    </td> <td>0.897959     </td> <td>0.933333         </td> <td>0.894737       </td>\n",
       "        </tr>\n",
       "        <tr>\n",
       "            <td>Trump    </td> <td>0.047619         </td> <td>0.1     </td> <td>0.0425532  </td> <td>0            </td> <td>0                </td> <td>0.0394737      </td>\n",
       "        </tr>\n",
       "    </tbody>\n",
       "</table>"
      ],
      "text/plain": [
       "Q17       | Arts & Humanities | Business | Engineering | Life Sciences | Physical Sciences | Social Sciences\n",
       "3rd party | 0.142857          | 0.2      | 0.0851064   | 0.102041      | 0.0666667         | 0.0657895\n",
       "Clinton   | 0.809524          | 0.7      | 0.87234     | 0.897959      | 0.933333          | 0.894737\n",
       "Trump     | 0.047619          | 0.1      | 0.0425532   | 0             | 0                 | 0.0394737"
      ]
     },
     "execution_count": 7,
     "metadata": {},
     "output_type": "execute_result"
    }
   ],
   "source": [
    "proportion_major_vote = counts_to_proportions(pivoted_major_presidential_votes)\n",
    "proportion_major_vote"
   ]
  },
  {
   "cell_type": "markdown",
   "metadata": {},
   "source": [
    "Awesome job! We're almost ready to start making inferences. The last step is to visualize our data. "
   ]
  },
  {
   "cell_type": "markdown",
   "metadata": {},
   "source": [
    "#### Exercise 1.4: Bar Charts"
   ]
  },
  {
   "cell_type": "markdown",
   "metadata": {},
   "source": [
    "Our goal is to visualize the proportion of students who voted for each presidential candidate on a chart. We can use *bar charts* to do this. According to Wikipedia, a *bar chart* is a data visualization which \"presents categorical data with rectangular bars with heights or lengths proportional to the values that they represent.\"\n",
    "\n",
    "**TASK:** Use the **plot_bar_chart** function to visualize the proportions of votes of Business Majors for each presidential candidate. This function takes in 3 arguments. First, enter the relevant pivot table. Next, enter a list containing the column name(s) you want to visualize. Finally, enter a title for the chart. Make sure to come up with a descriptive title!"
   ]
  },
  {
   "cell_type": "code",
   "execution_count": 13,
   "metadata": {},
   "outputs": [
    {
     "data": {
      "image/png": "[encoded data removed]",
      "text/plain": [
       "<Figure size 633.4x432 with 1 Axes>"
      ]
     },
     "metadata": {},
     "output_type": "display_data"
    }
   ],
   "source": [
    "plot_bar_chart(proportion_major_vote, ['Business'], 'Proportion of Votes for each Presidential Candidate')"
   ]
  },
  {
   "cell_type": "markdown",
   "metadata": {},
   "source": [
    "We can also use this function to compare the proportion of votes between two different majors. \n",
    "\n",
    "**TASK:** Using the **plot_bar_chart** function, plot a bar chart containing the proportions of votes for each presidential candidate for *both* Business and Social Science Majors. "
   ]
  },
  {
   "cell_type": "code",
   "execution_count": 15,
   "metadata": {},
   "outputs": [
    {
     "data": {
      "image/png": "[encoded data removed]",
      "text/plain": [
       "<Figure size 678.275x432 with 1 Axes>"
      ]
     },
     "metadata": {},
     "output_type": "display_data"
    }
   ],
   "source": [
    "plot_bar_chart(proportion_major_vote, ['Business', 'Social Sciences'],\n",
    "               'Proportion of Votes for each Presidential Candidate by Major')"
   ]
  },
  {
   "cell_type": "markdown",
   "metadata": {},
   "source": [
    "**Question:** Notice any trends? What can you say about the differences between the proportions of votes for for Business vs. Social Science majors? "
   ]
  },
  {
   "cell_type": "markdown",
   "metadata": {},
   "source": [
    "**Answer:** [Click on this cell and write your answer here]"
   ]
  },
  {
   "cell_type": "markdown",
   "metadata": {},
   "source": [
    "#### Recap\n",
    "\n",
    "We've covered quite a bit so far. Let's summarize what we've covered so far:\n",
    "\n",
    "1. Filtering Rows for Missing Values and Improper Formatting\n",
    "\n",
    "\n",
    "2. Re-structuring the dataset into Pivot Tables\n",
    "\n",
    "\n",
    "3. Creating Bar Charts to visualize the relationship between categorical variables\n",
    "\n",
    "\n",
    "4. Interpreting visualizations"
   ]
  },
  {
   "cell_type": "markdown",
   "metadata": {},
   "source": [
    "#### Exercise 1.5: Processing Pipeline"
   ]
  },
  {
   "cell_type": "markdown",
   "metadata": {},
   "source": [
    "In data science, when you repeat a set of tasks to analyze a dataset, you are creating a *data processing pipeline*. \n",
    "\n",
    "We've now analyzed the relationship between a student's major and their choice of Presidential candidate. Let's extend our analysis to Gender Identity and Ethnicity as well. \n",
    "\n",
    "**TASK:** "
   ]
  },
  {
   "cell_type": "code",
   "execution_count": null,
   "metadata": {},
   "outputs": [],
   "source": []
  }
 ],
 "metadata": {
  "kernelspec": {
   "display_name": "Python 3",
   "language": "python",
   "name": "python3"
  },
  "language_info": {
   "codemirror_mode": {
    "name": "ipython",
    "version": 3
   },
   "file_extension": ".py",
   "mimetype": "text/x-python",
   "name": "python",
   "nbconvert_exporter": "python",
   "pygments_lexer": "ipython3",
   "version": "3.6.5"
  }
 },
 "nbformat": 4,
 "nbformat_minor": 2
}
