{
 "cells": [
  {
   "cell_type": "markdown",
   "metadata": {},
   "source": [
    "# [Global150Q / PACS 190] Hill Thesis Survey Analysis Part A: Data Cleaning\n",
    "\n",
    "\n",
    "---\n",
    "\n",
    "\n",
    "### Professors: Crystal Chang Cohen, Tiffany Page\n",
    "\n",
    "Welcome to Hill Thesis Survey Analysis Part A! In this lab, we will introduce you to Jupyter Notebooks, the Python programming language and the tools that you are going to use to conduct your data cleaning and exploration analysis on the Hill Thesis Survey. In the main part of this notebook, you will work with Hill Thesis Survey dataset using Python and learn basic data cleaning techniques and strategies. By the end of this notebook, you will output a cleaned  dataset that will be used to conduct survey analysis in Part B of this project. \n",
    "\n",
    "\n",
    "Estimated Time: 2 hours\n",
    "\n",
    "---\n",
    "\n",
    "\n",
    "## Table of Contents\n",
    "\n",
    "1. <a href='#section 0'>The Jupyter Notebook</a>\n",
    "\n",
    "    a. <a href='#subsection 0a'>Run a cell</a>\n",
    "\n",
    "    b. <a href='#subsection 0b'>Writing Comments in a cell</a>\n",
    "\n",
    "    c. <a href='#subsection 0c'>Editing a cell</a>\n",
    "\n",
    "    d. <a href='#subsection 0d'>Saving and loading</a>\n",
    "\n",
    "\n",
    "2.  <a href='#section 1'>Introduction To Python </a>\n",
    "\n",
    "    a. <a href='#subsection 1a'>Data types</a>\n",
    "\n",
    "    b. <a href='#subsection 1b'>Variables</a>\n",
    "\n",
    "    c. <a href='#subsection 1c'>Python List</a>\n",
    "\n",
    "    d. <a href='#subsection 1d'>Functions</a>\n",
    "    \n",
    "    d. <a href='#subsection 1e'>Importing Python Modules</a>\n",
    "    \n",
    "\n",
    "3. <a href='#section 2'>Tables and Table operations </a>\n",
    "\n",
    "    a. <a href='#subsection 2a'>Create Tables</a>\n",
    "\n",
    "    b. <a href='#subsection 2b'>Table methods</a>\n",
    "    \n",
    "  \n",
    "4.  <a href='#section 3'>Acquiring and Cleaning Hill Thesis Survey Data</a>\n",
    "\n",
    "    a. <a href='#subsection 3a'>Import and display the data</a>\n",
    "\n",
    "    b. <a href='#subsection 3b'>Data Overview</a>\n",
    "\n",
    "    c. <a href='#subsection 3c'>Data Cleaning and Wrangling </a>\n",
    "    \n",
    "    d. <a href='#subsection 3d'>Saving cleaned_data</a>\n",
    "\n",
    "\n",
    "5. <a href='#section 4'>Bibliography</a>\n",
    "\n",
    "\n",
    "---\n",
    "\n",
    "\n",
    "## Today's lab\n",
    "\n",
    "\n",
    "1. Navigate Jupyter Notebooks (like this one)\n",
    "2. Learn basic Python programming techniques\n",
    "3. Import packages and pratice `Table` operations\n",
    "4. Using `Table` operations to clean the survey data \n",
    "5. Learn general data cleaning techniques and procedures \n",
    "6. Output a csv file that contains the cleaned data which will be used in Part B - survey analysis  \n",
    "7. Explore survey design \n",
    "\n",
    "\n"
   ]
  },
  {
   "cell_type": "markdown",
   "metadata": {},
   "source": [
    "# Part 1: The Jupyter Notebook <a id='section 0'></a>\n",
    "\n",
    "Before we start our lab, we want to give a brief introduction to Jupyter Notebooks (like this one) where you will work on conducting your survey analysis. \n",
    "\n",
    "**Jupyter notebooks** are documents that can contain a seamless compilation of text, code, visualizations, and more. A notebook is composed of two types of rectangular **cells**:  markdown and code. A **markdown cell**, such as this one, contains text. A **code cell** contains code. All of the code in this notebook is in a programming language called **Python**. You can select any cell by clicking it once. After a cell is selected, you can navigate the notebook using the up and down arrow keys or by simply scrolling.\n",
    "\n",
    "### 1.1 Run a cell <a id='subsection 0a'></a>\n",
    "To run a code cell once it's been selected, \n",
    "- press `Shift` + `Enter`, or\n",
    "- click the Run button in the toolbar at the top of the screen. \n",
    "\n",
    "If a code cell is running, you will see an asterisk (\\*) appear in the square brackets to the left of the cell. Once the cell has finished running, a number corresponding to the order in which the cell was run will replace the asterisk and any output from the code will appear under the cell."
   ]
  },
  {
   "cell_type": "code",
   "execution_count": null,
   "metadata": {
    "scrolled": true
   },
   "outputs": [],
   "source": [
    "# run this cell\n",
    "print(\"Hello World!\")"
   ]
  },
  {
   "cell_type": "markdown",
   "metadata": {},
   "source": [
    "### 1.2 Writing Comments in a cell <a id='subsection 0b'></a>\n",
    "You'll notice that many code cells contain lines of blue text that start with a `#` (like the one above). These are *comments*. Comments often contain helpful information about what the code does or what you are supposed to do in the cell. The leading `#` tells the computer to ignore the rest of the line.\n",
    "\n",
    "### 1.3 Editing a cell <a id='subsection 0c'></a>\n",
    "\n",
    "**Question 1.3.1** You can edit a Markdown cell by clicking it twice. Text in Markdown cells is written in [**Markdown**](https://daringfireball.net/projects/markdown/), a formatting syntax for plain text, so you may see some funky symbols when you edit a text cell. Once you've made your changes, you can exit text editing mode by running the cell. Edit the next cell to fix the misspelling."
   ]
  },
  {
   "cell_type": "markdown",
   "metadata": {},
   "source": [
    "Thesis Survy "
   ]
  },
  {
   "cell_type": "markdown",
   "metadata": {},
   "source": [
    "**Question 1.3.2** Code cells can be edited any time after they are highlighted. Try editing the next code cell to print your name. \n",
    "*Hint*: replace YOUR NAME with your name"
   ]
  },
  {
   "cell_type": "code",
   "execution_count": null,
   "metadata": {
    "scrolled": true
   },
   "outputs": [],
   "source": [
    "# edit the code to print your name\n",
    "print(\"Hello: my name is <YOUR NAME>\")"
   ]
  },
  {
   "cell_type": "markdown",
   "metadata": {},
   "source": [
    "### 1.4 Saving and loading <a id='subsection 0d'></a>\n",
    "\n",
    "#### Saving and Loading\n",
    "\n",
    "Your notebook can record all of your text and code edits, as well as any graphs you generate or calculations you make. You can save the notebook in its current state by clicking `Control-S`/`Command-S`, clicking the **floppy disc icon** in the toolbar at the top of the page, or by navigating to **File > Save and Checkpoint** in the menu bar.\n",
    "\n",
    "The next time you open the notebook, it will look the same as when you last saved it.\n",
    "\n",
    "**Note:** After loading a notebook you will see all the outputs (graphs, computations, etc) from your last session, but you won't be able to use any variables you assigned or functions you defined. You can get the functions and variables back by re-running the cells where they were defined – the easiest way is to **highlight the cell where you left off work, then go to Cell > Run all above** in the menu bar. You can also use this menu to run all cells in the notebook by clicking **Run all**."
   ]
  },
  {
   "cell_type": "markdown",
   "metadata": {},
   "source": [
    "# Part 2: Introduction To Python <a id='section 1'></a>\n",
    "\n",
    "Now that you are comfortable with using Jupyter Notebooks, we also need to learn a programming language to communicate with the computer. \n",
    "\n",
    "**Programming** is giving the computer a set of step-by-step instructions to follow in order to execute a task. It's a lot like writing your own recipe book! In order to communicate with computers, we must talk to them in a way that they can understand us, via a **programming language**. \n",
    "\n",
    "There are many different kinds of programming languages, but we will be using **Python** in this lab because it is concise, simple to read, and applicable in a variety of projects – from web development to mobile apps to data analysis."
   ]
  },
  {
   "cell_type": "code",
   "execution_count": null,
   "metadata": {},
   "outputs": [],
   "source": [
    "# Just simply run this cell (Don't worry if you do not understand it)\n",
    "from IPython.core.interactiveshell import InteractiveShell\n",
    "InteractiveShell.ast_node_interactivity = \"all\""
   ]
  },
  {
   "cell_type": "markdown",
   "metadata": {},
   "source": [
    "## 2.1 Data types <a id='subsection 1a'></a>\n",
    "Almost all data you will work with broadly falls into two types: numbers and text. \n",
    "\n",
    "**Numerical data** shows up green in code cells and can be positive, negative, or include a decimal."
   ]
  },
  {
   "cell_type": "code",
   "execution_count": null,
   "metadata": {},
   "outputs": [],
   "source": [
    "# Numerical data\n",
    "4\n",
    "87623000983\n",
    "-667\n",
    "3.14159"
   ]
  },
  {
   "cell_type": "markdown",
   "metadata": {},
   "source": [
    "**Text data** (also called *strings*) shows up red in code cells. Strings are enclosed in double or single quotes. Note that numbers can appear in strings.\n",
    "\n",
    "**Note:** In Python, the single quotation mark and double quotation mark can both denote the start and end of a string. A string must start and end with the same type of quotation mark. If your string contains either type of quotation mark, you can either \"escape\" this character using a `\\` or simply surround the string with the other type of quotation mark. Keep in mind that apostrophes are equivalent to single quotation marks. In this lab, we are going to use double quotation \"string\" for consistency. "
   ]
  },
  {
   "cell_type": "code",
   "execution_count": null,
   "metadata": {},
   "outputs": [],
   "source": [
    "# Strings\n",
    "\"a\"\n",
    "'Hi there!'\n",
    "\"We hold these truths to be self-evident that all men are created equal.\"\n",
    "\n",
    "# These are all strings, NOT numerical data\n",
    "\"3.14159\"\n",
    "'a + b'\n",
    "\n",
    "# For this string we need to use double quotes because there is an apostrophe in the sentence \n",
    "\"The Smiths' house has two floors\"\n",
    "\n",
    "# For this string we need to use single quotes because there is a double quotation mark in the sentence \n",
    "'I asked him, \"What time it it?\".'\n",
    "\n",
    "# Here is an example of \"escaping\" a single quotation mark\n",
    "'How\\'s the weather today?'"
   ]
  },
  {
   "cell_type": "markdown",
   "metadata": {},
   "source": [
    "## 2.2  Variables <a id='subsection 1b'></a>\n",
    "Variable is a named place in the computer's memory where a programmer can store data and later retrieve the data using the variable name. We can give variables values using an **assignment statement**. We can retrieve the data anytime using the variable name. This serves a purpose of saving our itermediate result to that variable. "
   ]
  },
  {
   "cell_type": "code",
   "execution_count": null,
   "metadata": {},
   "outputs": [],
   "source": [
    "# Assign numerial values to variable\n",
    "income = 10\n",
    "tax = 5.0"
   ]
  },
  {
   "cell_type": "markdown",
   "metadata": {},
   "source": [
    "The assignment statement has three parts. For example, look at the first line in above cell. On the left is the *variable name* `income`. On the right is the *value* 10. The *equals sign* in the middle tells the computer to assign the value to the name. You'll notice that when you run the cell with the assignment, it doesn't print anything. But, if we try to access `income` and `tax` again in the future, they will have the value we assigned them."
   ]
  },
  {
   "cell_type": "code",
   "execution_count": null,
   "metadata": {},
   "outputs": [],
   "source": [
    "# calculate and print the value of aftertaxincome\n",
    "after_tax_income = income - tax\n",
    "\n",
    "print(after_tax_income)"
   ]
  },
  {
   "cell_type": "markdown",
   "metadata": {},
   "source": [
    "We can also assign strings to variables:"
   ]
  },
  {
   "cell_type": "code",
   "execution_count": null,
   "metadata": {},
   "outputs": [],
   "source": [
    "# Assign a string to variable\n",
    "first_name = \"Joshua\"\n",
    "last_name = \"Hug\"\n",
    "name = first_name + \" \" + last_name\n",
    "print(name)"
   ]
  },
  {
   "cell_type": "markdown",
   "metadata": {},
   "source": [
    "## 2.3 Python  List <a id='subsection 1c'></a>\n",
    "\n",
    "In the previous section, we introduced *variables* which can be used to store data. What if we want to store more than one value in a variable? In Python, a `list` is a data structure which contains multiple data items. Lists in Python can be created by just placing a sequence of data inside square brackets `[]`. The data saved in the list must be seperated by commas. The cell below shows how to create a list of strings in Python. As we mentioned above, we can give a name to any object in Python, here we give a name to the list we created as well. \n",
    "\n",
    "**TASK:** create a list of name strings and assign it to the variable `name_list`"
   ]
  },
  {
   "cell_type": "code",
   "execution_count": null,
   "metadata": {},
   "outputs": [],
   "source": [
    "# create a list of name strings and assign it to the variable name_list\n",
    "name_list = ...\n",
    "print(name_list)"
   ]
  },
  {
   "cell_type": "markdown",
   "metadata": {},
   "source": [
    "## 2.4 Functions <a id='subsection 1d'></a>\n",
    "A function is a procedure which works a lot like a machine: it takes an input, does something to it, and produces an output. The input is put between brackets and can also be called the _argument_ or _parameter_. Functions can have multiple arguments. Defining functions can be helpful when you find yourself needing to do the same procedure multiple times with slightly different inputs."
   ]
  },
  {
   "cell_type": "code",
   "execution_count": null,
   "metadata": {},
   "outputs": [],
   "source": [
    "# the function calculates after tax income\n",
    "def after_tax_calc(income, tax):\n",
    "    after_tax_income = income - tax\n",
    "    return after_tax_income"
   ]
  },
  {
   "cell_type": "markdown",
   "metadata": {},
   "source": [
    "Using a defined function is known as _calling_ a function. To call a function, simply write the name of the function with your input variable in brackets (argument).\n",
    "\n",
    "\n",
    "\n",
    "**TASK:** Give input values to the function above. Here, we give income a value of 10 and tax a value of 5. "
   ]
  },
  {
   "cell_type": "code",
   "execution_count": null,
   "metadata": {},
   "outputs": [],
   "source": [
    "# Calling the function below \n",
    "after_tax_calc(..., ...)"
   ]
  },
  {
   "cell_type": "markdown",
   "metadata": {},
   "source": [
    "## 2.5 Importing Python Packages <a id='subsection 1e'></a>\n",
    "\n",
    "\n",
    "Most programming involves work that is very similar to work that has been done before. Since writing code is time-consuming, it's good to rely on others' published code when you can.  Rather than copy-pasting, many programming languages allows us to **import packages**. A module is a file with Python code that has defined variables and functions. A Python package is a collection of modules. By importing packages, we are able to use previously written functions in our own code.\n",
    "\n",
    "Run the cell below to import all the packages that we'll use later to conduct our analysis."
   ]
  },
  {
   "cell_type": "code",
   "execution_count": null,
   "metadata": {},
   "outputs": [],
   "source": [
    "# Please run this cell to import the following modules \n",
    "\n",
    "from datascience import *\n",
    "from utils import *"
   ]
  },
  {
   "cell_type": "markdown",
   "metadata": {},
   "source": [
    "**Note:** Most of our data cleaning process will be done by using the funcitons of `Tables` under the module `datascience`. We will learn how to use functions of `Tables` in the next session. However, the datascience module does not have methods that are used to deal with missing values. \n",
    "\n",
    "For this lab, we wrote a module called **Utils** which contains helper functions that are handy to use to deal with missing values, extract substrings, and convert descriptive answers to numerical values, etc. For this lab purpose, your task is to learn how to apply those functions to clean the survey data. You do not have to know exactly how those funtions are written. "
   ]
  },
  {
   "cell_type": "markdown",
   "metadata": {},
   "source": [
    "# Part 3: Table and Table operations <a id='section 2'></a>\n",
    "\n",
    "### `Table`\n",
    "Nowthat we have learned the basic knowledge of Python, we can use Python to analyze our dataset. But before getting into that, we need to learn a useful structure that is used to store our data in a clean and organized way.\n",
    "\n",
    "First, let's understand what `Table` are. `Table` are a way of representing tabular data that are part of the `datascience` package that we imported earlier. A `Table` can be viewed in two ways:\n",
    "* a sequence of named columns that each describe a single attribute of all entries in a data set, or\n",
    "* a sequence of rows that each contain all information about a single individual in a data set.\n",
    "\n",
    "\n",
    "### 3.1 Create Tables <a id='subsection 2a'></a>\n",
    "There are two general ways to create a table:\n",
    "1. We can import data from another file and display it as a Table using the `Table().read_table(\"file_name\")` method. We will talk more on this when we try to import our survey dataset below. \n",
    "\n",
    "2. We can also create a table from scratch. For example, let's say we have three lists, one with a list of different flavors of cake, one with a list of their prices, and another one with the rating for each flavor of the cake. Then, we can create a new `Table` with each of these lists as columns with the `.with_columns()` method: \n",
    "\n",
    "Run the cell below to create the `cake_table` table. "
   ]
  },
  {
   "cell_type": "code",
   "execution_count": null,
   "metadata": {
    "scrolled": true
   },
   "outputs": [],
   "source": [
    "# create a Table to store the cake information\n",
    "cake_flavors = [\"Chocolate Cake\", \"Strawberry Cake\", \"Vanilla  Cake\"]\n",
    "cake_prices = [4.5, 6.5, 3.5]\n",
    "cake_rating = [4, 3, 5]\n",
    "cake_table = Table().with_columns(\"Cake\", cake_flavors,\n",
    "                                  \"Price ($)\", cake_prices,\n",
    "                                  \"Cake Rating(out of 5)\", cake_rating)\n",
    "cake_table"
   ]
  },
  {
   "cell_type": "markdown",
   "metadata": {},
   "source": [
    "Now that we have created our own `Table`, you want to access specific rows, columns, or cells from the data. That's where `Table` methods come in handy! "
   ]
  },
  {
   "cell_type": "markdown",
   "metadata": {},
   "source": [
    "### 3.2 Table methods <a id='subsection 2b'></a>\n",
    "`Table`s in the datascience module have functions associated with them, we call those functions **methods**. (The terms \"method\" and \"function\" are technically not the same thing.) The statement `from datascience import *` imports all the methods included in the datascience package. A `Table` method is just like a function, but it must operate on a `Table`. An example call may look like:\n",
    "\n",
    "`tbl.method(arguments)` \n",
    "\n",
    "\n",
    "\n",
    "**TASK:** Display the information of Chocolate Cake only, i.e display the first row of the `cake_table`. \n",
    "\n",
    "**Hint:** `tbl.take([row_indices])` takes in a list of row indices and return the rows associated with those indices.\n",
    "\n",
    "**Note:** The 1st row of a Table in python has index 0, the second row has index 1, and so on. If we want to access the first row of a Table we need to call `tbl.take(0)`. "
   ]
  },
  {
   "cell_type": "code",
   "execution_count": null,
   "metadata": {},
   "outputs": [],
   "source": [
    "# Takes rows with index 0 (the 1st row of the table) \n",
    "cake_table.take(...) "
   ]
  },
  {
   "cell_type": "markdown",
   "metadata": {},
   "source": [
    "Here, we only briefly talked about `Table` methods. In the following sections, we are going to learn how to use `Table` methods to clean and analyze our data. \n",
    "\n",
    "**Note:**\n",
    "We understand that it is a little bit hard to understand all of these in one lab for most of the programming beginners. We will be walking you through the data cleaning and wrangling process step by step to make it as easy as possible.\n",
    "\n",
    "Recommended Reading:\n",
    " * [Introduction to tables](https://www.inferentialthinking.com/chapters/03/4/Introduction_to_Tables)\n",
    " * [Data 8 online Textbook: Chapter 3](http://www.inferentialthinking.com/chapters/03/programming-in-python.html)\n",
    " * [datascience.tables documentation](http://data8.org/datascience/tables.html#tables-overview)\n",
    " \n",
    "After this lab, if you still have questions, try reading the `datascience` package documentation for more explanations. For now, let's clean some data!"
   ]
  },
  {
   "cell_type": "markdown",
   "metadata": {},
   "source": [
    "# Part 4: Acquiring and Cleaning Hill Thesis Survey Data <a id='section 3'></a>\n",
    "\n",
    "\n",
    "### Data Context \n",
    "\n",
    "In this section, you'll be working with the data collected from the results of the Hill Thesis Survey. The purpose of analyzing the survey results is to explore the voting patterns of undergraduate students at University of California Berkeley. This research project was conducted by Hannah Hill, a senior Peace and Conflict Studies student here at UC Berkeley. By analyzing the survey results, we are trying to understand youth voter turnout.\n",
    "\n",
    "\n",
    "## 4.1 Import and display the data <a id='subsection 3a'></a>\n",
    "\n",
    "The survey data is saved in a [csv](https://en.wikipedia.org/wiki/Comma-separated_values) file. The `datascience` package has `read_table` method which allows us to read in the data and display it as a table. In general, to import data from a `.csv` file, we write `Table.read_table(\"file_name\")`.\n",
    "\n",
    "**TASK:** Run the cell below to import the csv file `surveydata.csv` which stors our data and display it as a table, and name the table `raw_data`."
   ]
  },
  {
   "cell_type": "code",
   "execution_count": null,
   "metadata": {},
   "outputs": [],
   "source": [
    "raw_data = Table.read_table(...)"
   ]
  },
  {
   "cell_type": "markdown",
   "metadata": {},
   "source": [
    "Let's examine the table `raw_data` to see what data it contains. \n",
    "\n",
    "Calling the `tbl.show(n)` method displays the first a couple of rows of the table. For example,  `raw_data.show(5)` displays the first 5 rows of the table `raw_data`. Additionally, make sure not to call `.show(n)` without an argument, as this will crash your notebook!\n",
    "\n",
    "**TASK:** Display the top five rows of the `raw_data` table. "
   ]
  },
  {
   "cell_type": "code",
   "execution_count": null,
   "metadata": {
    "scrolled": true
   },
   "outputs": [],
   "source": [
    "# show the first five rows of the raw_data table \n",
    "raw_data.show(...)"
   ]
  },
  {
   "cell_type": "markdown",
   "metadata": {},
   "source": [
    "Instead of only displaying the top rows of the table, we may want to look at some arbitray range of rows in the table. We can use the `tbl.take()` method. \n",
    "\n",
    "**TASK:** Display the 5th row to the 8th row of the table by running the cell below. "
   ]
  },
  {
   "cell_type": "code",
   "execution_count": null,
   "metadata": {},
   "outputs": [],
   "source": [
    "# display the 5th row to the 8th row\n",
    "raw_data.take(...)"
   ]
  },
  {
   "cell_type": "markdown",
   "metadata": {},
   "source": [
    "Well done! You succesfully displayed the data as a table and now we can manage the data using Table methods! \n",
    "\n",
    "\n",
    "## 4.2 Data Overview <a id='subsection 3b'></a>\n",
    "\n",
    "Now we want to have more information about the data. First, We want to know the size of the table. For this data, the number of rows of the table the number of people who answered the survey (assuming no duplicates). The number of columns corresponds to the number of questions in the survey. In `Table`s  have the property `num_rows`, which tells you how many rows are in a `Table`. (A \"property\" can be thought of as a method that doesn't need to be called by adding parentheses.)\n",
    "\n",
    "Example call: `tbl.num_rows` \n",
    "\n",
    "**TASK:** Run the cell below to print out the number of rows in the table. "
   ]
  },
  {
   "cell_type": "code",
   "execution_count": null,
   "metadata": {},
   "outputs": [],
   "source": [
    "# print the number of rows in the table \n",
    "num_surveydata_rows = ...\n",
    "print(\"The table has {} rows in it!\".format(num_surveydata_rows))"
   ]
  },
  {
   "cell_type": "markdown",
   "metadata": {},
   "source": [
    "Similarly, the property `num_columns` returns the number of columns in a table. Example call: `tbl.num_columns` \n",
    "\n",
    "**TASK:** Run the cell below to print out the number of columns in the table."
   ]
  },
  {
   "cell_type": "code",
   "execution_count": null,
   "metadata": {},
   "outputs": [],
   "source": [
    "# Just run this cell\n",
    "num_farmers_markets_columns = ...\n",
    "print(\"The table has\", num_farmers_markets_columns, \"columns in it!\")"
   ]
  },
  {
   "cell_type": "markdown",
   "metadata": {},
   "source": [
    "Does the number of rows truely represent the number of responses in total in our table? The answer is No! Notice that the first two rows do not contain the actual responses and so are not meaningful for the data analysis we are trying to conduct. We can remove these two rows from the original table. \n",
    "\n",
    "**TASK:** Run the cell below to remove the first two rows from the table."
   ]
  },
  {
   "cell_type": "code",
   "execution_count": null,
   "metadata": {},
   "outputs": [],
   "source": [
    "# remove the first two rows from the table raw_data\n",
    "raw_data.exclude(...)"
   ]
  },
  {
   "cell_type": "markdown",
   "metadata": {},
   "source": [
    "What you just did is actually is one of the steps of the data cleaning and wrangling process! \n",
    "\n",
    "##  4.3 Data  Cleaning and Wrangling <a id='subsection 3c'></a>\n",
    "\n",
    "\n",
    "When we get the raw data from the survey results online, we should ask ourselves: \n",
    "\n",
    "* What data do we have and what data do we need for analysis? \n",
    "* Are there inconsistencies and missing values in the data?\n",
    "* How do we better organize the data for analysis? \n",
    "\n",
    "These questions bring the following two terms: Data Cleaning and Data Wrangling\n",
    "\n",
    "### Data Cleaning \n",
    "Data is the backbone of data analysis. In order to successfuly analyze data, it must be in a clean and easily interpretable format so that we don't run into inconsistencies or errors later in the process. Regarding the survey data, we might encounter non-serious participants (who choose the first answer for all questions), missing values, duplications, and so on. To perform the data analytics properly we need various data cleaning techniques so that our data is ready for analysis. \n",
    "\n",
    "\n",
    "### Data Wrangling\n",
    "[Data wrangling](https://en.wikipedia.org/wiki/Data_wrangling), sometimes referred to as data munging, is the process of transforming and mapping data from one \"raw\" data form into another format with the intent of making it more appropriate and valuable for a variety of downstream purposes.\n",
    "\n",
    "Let's get started!"
   ]
  },
  {
   "cell_type": "markdown",
   "metadata": {},
   "source": [
    "### 4.3.1  Obtain a smaller table\n",
    "\n",
    "You should notice that the table has a huge number of columns! Often times, the original dataset contains some information that is not relevant for the questions we are asking. If we're not interested in some information in the original table, too many columns can make the table difficult to read. Thus, obtaining a smaller table containing only the relevant information we need to conduct our analysis is important. \n",
    "\n",
    "In our dataset, there are about 50 questions and 132 columns in the original table. Also, the top two rows are not survey response so we do not want to include them in the table (we showed did this step above!). In such situations, you might want to ceate a smaller table only with rows and columns that you want to analyze. \n",
    "\n",
    "\n",
    "\n",
    "#### 4.3.1.1 Drop unnecessary rows\n",
    "\n",
    "We talked about removing the first two rows using `tbl.exclude` method above. The `exclude` method removes a row or multiple rows of a table in place. The method takes in one argument, which indicates which row(s) to remove from the table. The `exclude` method does not modify the original table, and instead returns a new table with those rows removed. Search `Table.exclude()` in the [documentation of `exclude`](http://data8.org/datascience/_autosummary/datascience.tables.Table.exclude.html) for more information.\n",
    "\n",
    "**Note:** In order to save the change you made to the table, you need to name the returned new table. Here, we use `cleaned_data` to distinguish the new table from the original one.  \n"
   ]
  },
  {
   "cell_type": "code",
   "execution_count": null,
   "metadata": {},
   "outputs": [],
   "source": [
    "cleaned_data = raw_data.exclude([0, 1])"
   ]
  },
  {
   "cell_type": "markdown",
   "metadata": {},
   "source": [
    "**Note:**\n",
    "From now on, we will use `cleaned_data` and update it at each step. The data we read in the beginning, `raw_data`, is still exactly the same as when we loaded it. \n",
    "\n",
    "#### 4.3.1.2 Select Columns \n",
    "\n",
    "We can use the `Table` method `tbl.select(column_names)` to choose only the columns that we want from `tbl`. It takes any number of arguments, as long as all are column names in our table. This method returns a new table with only those columns in it. *The columns are in the order in which they were listed as arguments*. Check the documentation of [Table.select](http://data8.org/datascience/_autosummary/datascience.tables.Table.select.html) for more detailed information. \n",
    "\n",
    "**TASK:** Run the cell below to get a table containing only selected two columns 'Q5' and 'Q7'. "
   ]
  },
  {
   "cell_type": "code",
   "execution_count": null,
   "metadata": {},
   "outputs": [],
   "source": [
    "# This is just an example to show how to obtain a new table with two columns 'Q5', 'Q7'\n",
    "cleaned_data.select(...)"
   ]
  },
  {
   "cell_type": "markdown",
   "metadata": {},
   "source": [
    "For this survey, we will focus the following columns: Q16, Q17, Q23, Q29, Q31, Q55, Q35, Q36, Q40-Q43, Q47. We also need Q5, Q7, Q8, Q9, Q15 in our analysis. Use `select` to create a table with only those questions from `cleaned_data` and update the `cleaned_data` by assigning the new table to it. \n",
    "\n",
    "**Note:** Some questions may have multiple sub-questions and thus have multiple columns. Some questions are named differenly than others. For example, question 40 has three sub-questions, and the corresponding columns are labled as \"Q40_1\", \"Q40_2\" and \"Q40_3\". Make sure to be precise when using column names with `select`.\n",
    "\n",
    "**TASK:** Run the following cell the obtain the table only with columns we need. "
   ]
  },
  {
   "cell_type": "code",
   "execution_count": null,
   "metadata": {},
   "outputs": [],
   "source": [
    "# select the columns that we are going to use to analyze the survey data and put those names into a list \n",
    "columns = ['Q5', 'Q7', 'Q8', 'Q9', 'Q15', 'Q16', 'Q17', 'Q20', 'Q23', 'Q23_5_TEXT', 'Q29_1', 'Q31',\n",
    "            'Q55', 'Q35', 'Q36', 'Q40_1', 'Q40_2', 'Q40_3', \n",
    "            'Q41_23', 'Q42_1', 'Q42_2', 'Q42_3', \n",
    "            'Q43_1', 'Q43_2', 'Q43_3', 'Q43_4', 'Q43_5', 'Q43_6', 'Q43_7', \n",
    "            'Q43_8', 'Q43_9', 'Q43_10', 'Q43_11', 'Q43_11_TEXT', 'Q47_1', 'Q47_2']\n",
    "\n",
    "cleaned_data = cleaned_data.select(columns)"
   ]
  },
  {
   "cell_type": "markdown",
   "metadata": {},
   "source": [
    "Now, let's take a look at the number of rows and columns of the smaller table. Also, you might find that the `tbl.labels` helpful for checking the name of all columns in the smaller table. "
   ]
  },
  {
   "cell_type": "code",
   "execution_count": null,
   "metadata": {},
   "outputs": [],
   "source": [
    "# run the cell to display the information of the new table \n",
    "print(\"There are total {} rows in the cleaned_data.\".format(cleaned_data.num_rows))\n",
    "print(\"There are total {} columns in the cleaned_data. \\n\".format(cleaned_data.num_columns))"
   ]
  },
  {
   "cell_type": "markdown",
   "metadata": {},
   "source": [
    "**Section 4.3.1 Recap:** \n",
    "\n",
    "So far, we have finished creating a smaller data table called `cleaned_data` by:\n",
    "1. Removing the first two rows that we do not need for our analysis \n",
    "2. Selecting 36 columns out of 132 columns in the raw data \n",
    "\n",
    "If you have finished everything above, remember to make sure you run through each cell above before entering into the next section of this notebook. To do that, click the cell below and go to the menue bar at the top of the screen click **Cell > Run All Above**. After doing that, let's take a look at the top five rows of our `cleaned_data` table so far. "
   ]
  },
  {
   "cell_type": "code",
   "execution_count": null,
   "metadata": {
    "scrolled": true
   },
   "outputs": [],
   "source": [
    "# display the top five rows of the smaller table\n",
    "cleaned_data.show(5)"
   ]
  },
  {
   "cell_type": "markdown",
   "metadata": {},
   "source": [
    "### 4.3.2 Missing Values \n",
    "\n",
    "Notice that some of the values in this table are missing, denoted by `nan`. This stands for \"Not a Number,\" and this means that the student who filled out the survey did not give a response to this question. You may also see missing values appear as `NA` or `None`. Usually, `NaN`s are stored as a distinct data type (i.e. not a number or a string), but the `datascience` package converts them all to strings when we read in our data.\n",
    "\n",
    "#### Exercise 4.3.2.1: Calculate missing value proportion for each question\n",
    "\n",
    "**TASK:** Firstly, let's convert all the `nan` strings in the `cleaned_data` table to `None` by running the following funciton from the `utils` module. We do this conversion because `None` objects are easier to handle using functions of the `utils` module. \n",
    "\n",
    "**Notes on the Survey Design:** When you design your own survey, it is better to use \"None of above\" rather than \"None\" as a choice to indicate none of the given choices is applicable. Since in the Table, both string \"None\" and python `None` objects look the same in a Jupyter notebook table. "
   ]
  },
  {
   "cell_type": "code",
   "execution_count": null,
   "metadata": {
    "scrolled": true
   },
   "outputs": [],
   "source": [
    "# convert the string 'nan' to Python None object\n",
    "cleaned_data = encode_nans_table(cleaned_data)\n",
    "cleaned_data.show(3)"
   ]
  },
  {
   "cell_type": "markdown",
   "metadata": {},
   "source": [
    "If we want to know if the data collected from the survey is sufficient, we might want to know what is the proportion of missing values for each survey question, let's call it **missing proportion** in this notebook. For example, there are 100 responses for the survey, but there are only 10 of them filled out question 33, the missing proportion for quesiton 33 is 0.9. We might doubt that the data for question 33 might not be sufficient enough to conduct an analysis on question 33. \n",
    "\n",
    "**TASK:** Calculate the proportion missing values for each question included in the `cleaned_data` table and display the result in a table. "
   ]
  },
  {
   "cell_type": "code",
   "execution_count": null,
   "metadata": {
    "scrolled": true
   },
   "outputs": [],
   "source": [
    "# calculate the missing values for each question (column) in the cleaned_data table \n",
    "# and display the result in a table \n",
    "missing_prop = np.array([float(missing_proportion(cleaned_data, column)) for column in columns])\n",
    "missing_prop_tbl = Table().with_columns([\"questions\", columns,\n",
    "                                 \"missing_prop\", missing_prop])\n",
    "missing_prop_tbl"
   ]
  },
  {
   "cell_type": "markdown",
   "metadata": {},
   "source": [
    "**Question:** Look at the values in `missing_prop` table, we notice that Q5 to Q9 all have a small amount of missing values. However, Q15 to Q17 have almost half of the data are missing. What is the reason for this large missing proportion?\n"
   ]
  },
  {
   "cell_type": "code",
   "execution_count": null,
   "metadata": {},
   "outputs": [],
   "source": [
    "# This is the proportion who would skip Q 10 - 19 \n",
    "age18_19 = cleaned_data.select(\"Q9\").where(\"Q9\", are.equal_to(\"18\") | are.equal_to(\"19\"))\n",
    "print(\"The proportion who would skip Q10-19 is {}\".format(round(age18_19.num_rows / cleaned_data.num_rows, 2))) \n",
    "print(\"The missing proportion for Q15 is {}\".format(missing_proportion(cleaned_data, \"Q15\")))"
   ]
  },
  {
   "cell_type": "markdown",
   "metadata": {},
   "source": [
    "**Analysis:**\n",
    "\n",
    "YOUR ANSWER HERE"
   ]
  },
  {
   "cell_type": "markdown",
   "metadata": {},
   "source": [
    "#### Exercise 4.3.2.2: Sort the missing proportion in descending order\n",
    "\n",
    "\n",
    "The table above shows the missing proportion for each question in `cleaned_data` table. We want to detect questions that have a large missing proportion. To do that, we can sort the missing proportion column and make it show the largest value on top. \n",
    "\n",
    "The Table method `tbl.sort(column)` takes in a column name that you want the table to sorted by. By default, this method will sort in _ascending_ order. By dding in an optional argument, `descending = True`, we tell the method that we want our output to be in descending order.\n",
    "\n",
    "**Note:** Rows always stick together when a table is sorted.\n",
    "\n",
    "**TASK:** Sort the `missing_prop_tbl` table by missing proportion (the `missing_prop` column) in descending order.  "
   ]
  },
  {
   "cell_type": "code",
   "execution_count": null,
   "metadata": {},
   "outputs": [],
   "source": [
    "missing_prop_tbl.sort(...)"
   ]
  },
  {
   "cell_type": "markdown",
   "metadata": {},
   "source": [
    "**Question:** Please analyze the reasons for the questions with high missing proportion. \n",
    "\n",
    "\n",
    "**Analysis:** \n",
    "\n",
    "**YOUR ANSWER HERE**"
   ]
  },
  {
   "cell_type": "markdown",
   "metadata": {},
   "source": [
    "**TASK:** To have a better idea of the missing proportion the genral among all the survey questions we selected. We want to calculate a percentage of columns that has missing proportion greater than 0.3. We can use `tbl.where()` to filter out those rows whose `missing_[rp[` value is greater than 0.3. \n",
    "\n",
    "The `where` method takes 2 arguments:\n",
    "\n",
    "1. The name of a column.  `where` finds rows where that column's values meet some criterion.\n",
    "2. A predicate that describes the criterion that the column needs to meet.\n",
    "\n",
    "For example, `missing_prop_tbl.where('missing_prop', are.above(0.3)` returns a table that's a copy of the miss table, but with only the rows that have `missing_prop > 0.3`."
   ]
  },
  {
   "cell_type": "code",
   "execution_count": null,
   "metadata": {
    "scrolled": true
   },
   "outputs": [],
   "source": [
    "missing_prop_tbl.where(...)"
   ]
  },
  {
   "cell_type": "markdown",
   "metadata": {},
   "source": [
    "**TASK:** Calculate the percentage of columns that have `missing proportion > 0.3`. "
   ]
  },
  {
   "cell_type": "code",
   "execution_count": null,
   "metadata": {},
   "outputs": [],
   "source": [
    "greater_than_point3 = 100 * missing_prop_tbl.where('missing_prop', are.above(0.3)).num_rows /missing_prop_tbl.num_rows\n",
    "print(\"There are about {} percent columns that have missing proportion greater than 0.3\".format(greater_than_point3))"
   ]
  },
  {
   "cell_type": "markdown",
   "metadata": {},
   "source": [
    "**Section 4.3.2 Recap:** \n",
    "\n",
    "1. We calculated the missing proportion for each column in the table and displayed the missing proportion in a descending order in order to find the columns with the largest amount of missing values. \n",
    "2. We analyzed the reason for the large missing proportion for those columns with high missing proportion. \n",
    "3. At the end, we found that there are about 25 percent of the columns in `cleaned_data` that have missing proportion that is greater than 0.3. The overall missing proportion of our data is reasonable and response proportion is good when talking about the response proportion for survey data in general. "
   ]
  },
  {
   "cell_type": "markdown",
   "metadata": {},
   "source": [
    "### 4.3.3 Filter Out Non-serious Responses\n",
    "\n",
    "**Exercise: Filter out who only answer the first a couple of questions and left all others blank**\n",
    "\n",
    "Some students may not feel comfortable reporting personal information such as age, race, sexuality and major. But they might still answer other questions in the survey. Considering the format of this survey, we do not delete the entire response (an entire row in table) just because it contains one or more missing values, because otherwise we may lose useful data. However, there might be some responses who only filled out the first a couple of questions and left all the following questions empty. We can treat them as **non-serious Responses** and delete those responses from the table. \n",
    "\n",
    "**Note:** Participants who are under 20 year old will skip questions 10 - 20, so we only count those who only finish up to question 9 as non-serious responses."
   ]
  },
  {
   "cell_type": "code",
   "execution_count": null,
   "metadata": {},
   "outputs": [],
   "source": [
    "# let's make a copy of the cleaned_data we have so far\n",
    "# Click 'Run All Above' before running this cell \n",
    "temp = cleaned_data.copy()"
   ]
  },
  {
   "cell_type": "markdown",
   "metadata": {},
   "source": [
    "**TASK:** Delete responses who did not answer any questions after Q9 from the table, and calculate the percentage of non-serious responses. "
   ]
  },
  {
   "cell_type": "code",
   "execution_count": null,
   "metadata": {
    "scrolled": true
   },
   "outputs": [],
   "source": [
    "# delete responses who did not answer any questions after Q9 \n",
    "\n",
    "cleaned_data = drop_nonserious_rows(cleaned_data, \"Q9\")\n",
    "non_serious = round(100 * (temp.num_rows - cleaned_data.num_rows) / temp.num_rows, 1)\n",
    "print(\"There are about {}% non-serious responses in our data\".format(non_serious))"
   ]
  },
  {
   "cell_type": "markdown",
   "metadata": {},
   "source": [
    "### 4.3.4 Organize independent variable columns\n",
    "\n",
    "Some questions in the survey allowed respondents to select multiple answers. However, the way that these responses are stored in the table is conducive to data analysis. In this section, we will change these columns so that they are easier to analyze later.\n",
    "\n",
    "**4.3.4.1 Deal with survey questions that allow more than one selection**\n",
    "\n",
    "* Q5: Please select the group(s) that best apply to your majors. \n",
    "* Q8: Check the box(es) of the race /ethnicity that you best identify with. \n",
    "\n",
    "**TASK:** Let's first take a look at responses for question 5 look like, we sample a few to view:"
   ]
  },
  {
   "cell_type": "code",
   "execution_count": null,
   "metadata": {},
   "outputs": [],
   "source": [
    "cleaned_data.select(\"Q5\").take([10, 15, 20, 25, 30, 35, 40])"
   ]
  },
  {
   "cell_type": "markdown",
   "metadata": {},
   "source": [
    "You might notice that the third line of table above contains three groups, this is because the student selected three groups that best apply to their majors. Some students may have more than one major and thus they may choose multiple groups that best apply to their majors. In order to make it easy when conducting anaysis using major as a predictive variable, we will assume the first selection (the group before the first comma) is their primary major. \n",
    "\n",
    "**TASK:** \n",
    "Assign the first selection of each student as their major. \n",
    "\n",
    "We provide a function called `get_first_selection` in the util package which takes in two arguments: a `Table` and a column name. For each cell in the specified column, this function will delete everything after the first comma. Run the cell below:"
   ]
  },
  {
   "cell_type": "code",
   "execution_count": null,
   "metadata": {
    "scrolled": true
   },
   "outputs": [],
   "source": [
    "# Assign the first selection of each student as his/her major\n",
    "cleaned_data = get_first_selection(cleaned_data, \"Q5\")\n",
    "\n",
    "# check the result \n",
    "cleaned_data.select(\"Q5\").take([10, 15, 20, 25, 30, 35, 40])"
   ]
  },
  {
   "cell_type": "markdown",
   "metadata": {},
   "source": [
    "**Notes on the Survey Design:**\n",
    "\n",
    "Since the survey showed the groups in the same order for every respondent (i.e. choice order was not randomized), the first choice is not necessary their primary major. For your own survey, you might want to ask respondents to select their primary major, randomize the response order, or ask them to give rank their major(s). \n",
    "\n",
    "Now, let's take a look at responses for question 8:"
   ]
  },
  {
   "cell_type": "code",
   "execution_count": null,
   "metadata": {},
   "outputs": [],
   "source": [
    "cleaned_data.select(\"Q8\").take([10, 15, 20, 25, 30, 35, 40, 45])"
   ]
  },
  {
   "cell_type": "markdown",
   "metadata": {},
   "source": [
    "You should notice that the response in the 6th row contains both Asian,White. We want capture the fact that respondents like this identify with multiple racial groups, but the frequency of each possible combination of racial groups is very low compared to each individual group. Let’s create one new “Mixed Race” category and put in that bin everyone who picked more than one race.\n",
    "\n",
    "**TASK:** Change all cells where the respondent selected more than one race to \"Mixed Race\".\n",
    "\n",
    "We provide you a function called `get_mixed_category` in `utils`. The fucniton takes in three arguments: a `Table` , column name, and the new category name."
   ]
  },
  {
   "cell_type": "code",
   "execution_count": null,
   "metadata": {
    "scrolled": true
   },
   "outputs": [],
   "source": [
    "# Create one new “Mixed Race” category for question 8\n",
    "cleaned_data = get_mixed_category(cleaned_data, \"Q8\", \"Race\")\n",
    "\n",
    "# check the result \n",
    "cleaned_data.select(\"Q8\").take([10, 15, 20, 25, 30, 35, 40, 45])"
   ]
  },
  {
   "cell_type": "markdown",
   "metadata": {},
   "source": [
    "### Section 4.3 Recap\n",
    "\n",
    "In section 4.3, we did data cleaning and data wrangling, which are the two essential and fundamental parts of data analysis. \n",
    "* We created a smaller table by selecting columns we need and dropping rows we do not need from the original table. \n",
    "* We explored and analyzed missing values in the table. \n",
    "* We also filtered out non-serious responses. \n",
    "* Lastly, we organized two categorical data (major and race). \n",
    "\n",
    "\n",
    "Below, we give a summary of `Table` methods that we used through this notebook:\n",
    "\n",
    "### Summary of `Table` methods ###\n",
    "\n",
    "    \n",
    "|Name|Example|Purpose|\n",
    "|-|-|-|\n",
    "|`Table`|`Table()`|Create an empty table, usually to extend with data|\n",
    "|`Table.read_table`|`Table.read_table(\"my_data.csv\")`|Create a table from a csv file|\n",
    "|`with_columns`|`tbl = Table().with_columns(\"cake price\", [2, 4.5], \"cake name\", [\"chocolate\", \"straberry\"]`|Create a copy of a table with more columns|\n",
    "|`sort`|`tbl.sort(\"cake price\")`|Create a copy of a table sorted by the values in a column|\n",
    "|`where`|`tbl.where(\"cake price\", are.above(2))`|Create a copy of a table with only the rows that match some *predicate*|\n",
    "|`num_rows`|`tbl.num_rows`|Compute the number of rows in a table|\n",
    "|`num_columns`|`tbl.num_columns`|Compute the number of columns in a table|\n",
    "|`select`|`tbl.select(\"column name\")`|Create a copy of a table with only some of the columns|\n",
    "|`drop`|`raw_data.exclude([row_indices]))`|Create a copy of a table without some of the rows|\n",
    "|`take`|`tbl.take([row_indices])`|Create a copy of the table with only the rows whose indices are in the given array|"
   ]
  },
  {
   "cell_type": "markdown",
   "metadata": {},
   "source": [
    "### Summary of `utils` functions ###\n",
    "\n",
    "    \n",
    "|Name|Example|Purpose|\n",
    "|-|-|-|\n",
    "|`encode_nans`|`encode_nans(table, column_name)`|Converts \"nan\" strings in the column_name to `None`|\n",
    "|`encode_nans_table`|`encode_nans_table(table)`|Converts all \"nan\" strings in a `Table` to `None`|\n",
    "|`get_first_selection`|`get_first_selection(table, column_name)`|Keep the first selection for a question|\n",
    "|`get_mixed_category`|`get_mixed_category(table, column_name, string)`|Create a 'Mixed string' category|\n",
    "|`missing_proportion`|`missing_proportion(table, column_name)`|Calculate the proportion of missing values in a column|\n",
    "|`drop_nonserious_rows`|`drop_nonserious_rows(table, column_name)`|Delete the non-serious responses in the survey|"
   ]
  },
  {
   "cell_type": "markdown",
   "metadata": {},
   "source": [
    "## 4.4 Saving `cleaned_data` to a new CSV file <a id='subsection 3d'></a>\n",
    "\n",
    "Congratulations! You have finished the first part of the survey analysis. In this notebook, you learned about Jupyter notebooks, Python programming, `Table`s, data cleaning, and data wrangling. Now, you are ready to move on to the major analysis part of this lab. In the analysis notebook, you will learn exploratory data analysis, data visualization techniques, and statistical testing. Before moving to the second part of this lab, let's save our `cleaned_data` into a `.csv` file so that we can easily import in the next notebook. The function `tbl.to_csv(\"filename.csv\")` saves the tbl as a `.csv` file called `filename.csv`. \n",
    "\n",
    "**TASK:** Save the table `cleaned_data` into a csv file called `cleaned_data.csv`. "
   ]
  },
  {
   "cell_type": "code",
   "execution_count": null,
   "metadata": {},
   "outputs": [],
   "source": [
    "cleaned_data.to_csv(...)"
   ]
  },
  {
   "cell_type": "markdown",
   "metadata": {},
   "source": [
    "Good job! You have finished the first part of the Hill Thesis Survey Analysis! "
   ]
  },
  {
   "cell_type": "markdown",
   "metadata": {},
   "source": [
    "---\n",
    "\n",
    "### Note to Students: \n",
    "If you would like to use the utility provided by the Data Science Education Program team, simply copy the utils.py script to the folder where you are creating your analysis notebook. Good luck!\n",
    "\n",
    "\n",
    "\n",
    "### Feedback:\n",
    "Please let us know your thoughts on this notebook!\n",
    "\n",
    "Fill out the survey at this link: https://docs.google.com/forms/d/e/1FAIpQLSfahkYSKqlEEfC6WMKlaqeIxRVj0r7T4N5lgBf9bRVwRG58wQ/viewform"
   ]
  },
  {
   "cell_type": "markdown",
   "metadata": {},
   "source": [
    "---\n",
    "\n",
    "## Bibliography <a id='section 4'></a>\n",
    "\n",
    "\n",
    "Some examples adapted from the UC Berkeley Data 8 textbook:\n",
    "\n",
    "* [Tables](https://www.inferentialthinking.com/chapters/06/Tables.html\")\n",
    "* [Data 8 online Textbook: Chapter 3](http://www.inferentialthinking.com/chapters/03/programming-in-python.html)\n",
    "\n",
    "- [Introduction to tables](https://www.inferentialthinking.com/chapters/03/4/Introduction_to_Tables)\n",
    "\n",
    "\n",
    "Some term explainations adapted from the datascience documentation: \n",
    "\n",
    "- [datascience.tables documentation](http://data8.org/datascience/tables.html#tables-overview)\n",
    "\n",
    "\n",
    "Some ideas in the sections of \"Jupyter Notebook\", \"Introduction to Python\" and \"Tables and Table operations\" adapted from materials in [UC Berkeley Data Science Modules core resources](http://github.com/ds-modules/core-resources):\n",
    "\n",
    "\n",
    "- Shriya Vohra, Scott Lee, Pancham Yadav - intro-module-final\n",
    "- Keeley Takimoto - Intro-to-Python-and-Jupyter"
   ]
  },
  {
   "cell_type": "markdown",
   "metadata": {},
   "source": [
    "---\n",
    "Notebook developed by: Jiaqi (Arianna) Guo, Ritvik Lyer, Monica Wilkinson\n",
    "\n",
    "Data Science Modules: http://data.berkeley.edu/education/modules\n"
   ]
  },
  {
   "cell_type": "code",
   "execution_count": null,
   "metadata": {},
   "outputs": [],
   "source": []
  }
 ],
 "metadata": {
  "kernelspec": {
   "display_name": "Python 3",
   "language": "python",
   "name": "python3"
  },
  "language_info": {
   "codemirror_mode": {
    "name": "ipython",
    "version": 3
   },
   "file_extension": ".py",
   "mimetype": "text/x-python",
   "name": "python",
   "nbconvert_exporter": "python",
   "pygments_lexer": "ipython3",
   "version": "3.6.8"
  }
 },
 "nbformat": 4,
 "nbformat_minor": 2
}
